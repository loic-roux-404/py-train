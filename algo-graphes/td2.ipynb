{
 "cells": [
  {
   "cell_type": "markdown",
   "id": "9600d09e",
   "metadata": {},
   "source": [
    "1. Quel tableau à une dimension permet de stocker cet arbre en mémoire ?"
   ]
  },
  {
   "cell_type": "markdown",
   "id": "cecb303d",
   "metadata": {},
   "source": [
    "un tas"
   ]
  },
  {
   "cell_type": "markdown",
   "id": "fcffcf7c",
   "metadata": {},
   "source": [
    "2. Cet arbre est-il un tas ? Si ce n’est pas le cas, est-il suffisant de tamiser cet arbre pour qu’il devienne un tas ? Quel serait le tableau ainsi obtenu ?"
   ]
  },
  {
   "cell_type": "markdown",
   "id": "9398cb5f",
   "metadata": {},
   "source": [
    "Cette arbre n'est pas binaire donc on ne peut pas le transformer en tas en l'état. Le noeud étiqueté 12 possède un parent plus grand que lui. Il faudrait le remettre dans l'ordre pour ensuite le tamiser."
   ]
  },
  {
   "cell_type": "code",
   "execution_count": null,
   "id": "414891e4",
   "metadata": {},
   "outputs": [],
   "source": [
    "[28, 25, 20, 21, None, 13, 5, 12, None, 3, 8, None, 6]"
   ]
  },
  {
   "cell_type": "markdown",
   "id": "b3621ae6",
   "metadata": {},
   "source": [
    "Ce n'est pas un tas non plus, on doit le trier"
   ]
  },
  {
   "cell_type": "code",
   "execution_count": null,
   "id": "347a211d",
   "metadata": {},
   "outputs": [],
   "source": [
    "from libTree import Leaf\n",
    "\n",
    "graph_expl = {\n",
    "    25: [40, 2],\n",
    "    40: [65, 10],\n",
    "    2: None\n",
    "}\n",
    "\n",
    "non_ordered = Leaf(25).add_left(\n",
    "        Leaf(40).add_right(65).add_left(10)\n",
    "    ).add_right(2)\n",
    "\n",
    "def tri_tas(graph):\n",
    "    pass\n",
    "    \n",
    "    \n",
    "    "
   ]
  }
 ],
 "metadata": {
  "kernelspec": {
   "display_name": "Python 3 (ipykernel)",
   "language": "python",
   "name": "python3"
  },
  "language_info": {
   "codemirror_mode": {
    "name": "ipython",
    "version": 3
   },
   "file_extension": ".py",
   "mimetype": "text/x-python",
   "name": "python",
   "nbconvert_exporter": "python",
   "pygments_lexer": "ipython3",
   "version": "3.8.11"
  }
 },
 "nbformat": 4,
 "nbformat_minor": 5
}
