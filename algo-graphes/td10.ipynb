{
 "cells": [
  {
   "cell_type": "markdown",
   "metadata": {},
   "source": [
    "|Sommet courant|fin de traitement|sommet marqués comme visités| liste de résultats inversés|\n",
    "|-----|-----|------|-----|\n",
    "|e    |e    |e     |     |\n",
    "|b    |b    |b     |e    |\n",
    "|c    |c    |b,c   |e    |\n",
    "|f    |f    |b,c,f |e,f  |\n",
    "|g    |g    |b,c,g |e,f  |\n",
    "|c    |c    |b     |e,f,g,c       |\n",
    "|b    |b    |      |e,f,g,c,b     |\n",
    "|a    |a    |a     |e,f,g,c,b     |\n",
    "|d    |d    |d     |e,f,g,c,b     |\n",
    "|h    |h    |d,h   |e,f,g,c,b,d,h |\n"
   ]
  },
  {
   "cell_type": "markdown",
   "metadata": {},
   "source": [
    "[e, b, a, c, f, g, d, h]"
   ]
  },
  {
   "cell_type": "code",
   "execution_count": null,
   "metadata": {},
   "outputs": [],
   "source": []
  },
  {
   "cell_type": "markdown",
   "metadata": {},
   "source": []
  }
 ],
 "metadata": {
  "language_info": {
   "name": "python"
  },
  "orig_nbformat": 4
 },
 "nbformat": 4,
 "nbformat_minor": 2
}
