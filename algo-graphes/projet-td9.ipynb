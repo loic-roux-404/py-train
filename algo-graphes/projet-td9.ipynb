{
 "cells": [
  {
   "cell_type": "markdown",
   "metadata": {},
   "source": [
    "## Exercice 1\n",
    "\n",
    "1°) Donner le degré de chaque sommet de ce graphe\n",
    "\n",
    "S0 : 1\n",
    "S1 : 3\n",
    "S2 : 3\n",
    "S3 : 3\n",
    "S4 : 2\n",
    "S5 : 1\n",
    "S6 : 1\n"
   ]
  },
  {
   "cell_type": "markdown",
   "metadata": {},
   "source": [
    "2°) Donner la liste d’adjacence de ce graphe\n",
    "\n",
    "|Sommet|sommet adjacents|\n",
    "|-----|-----|\n",
    "|S0   |S6   |\n",
    "|S1   |S2,S5|\n",
    "|S2   |S1,S3|\n",
    "|S3   |S2,S4|\n",
    "|S4   |S2,S3|\n",
    "|S5   |S1   |\n",
    "|S6   |S0   |"
   ]
  },
  {
   "cell_type": "markdown",
   "metadata": {},
   "source": [
    "Matrice d'adjacence\n",
    "\n",
    "$X = \\begin{bmatrix}\n",
    "0 & 0 & 0 & 0 & 0 & 0 & 1\\\\\n",
    "0 & 0 & 1 & 1 & 0 & 1 & 0\\\\\n",
    "0 & 1 & 0 & 1 & 1 & 0 & 0\\\\\n",
    "0 & 1 & 1 & 0 & 1 & 0 & 0\\\\\n",
    "0 & 0 & 1 & 1 & 0 & 0 & 0\\\\\n",
    "0 & 1 & 0 & 0 & 0 & 0 & 0\\\\\n",
    "1 & 0 & 0 & 0 & 0 & 0 & 0\n",
    "\\end{bmatrix}$"
   ]
  },
  {
   "cell_type": "markdown",
   "metadata": {},
   "source": [
    "## Projet réseau de transport"
   ]
  },
  {
   "cell_type": "markdown",
   "metadata": {},
   "source": []
  },
  {
   "cell_type": "code",
   "execution_count": 1,
   "metadata": {},
   "outputs": [],
   "source": [
    "from libGraph import matrix_to_graph, Graph\n",
    "import numpy as np\n",
    "from ipywidgets import Dropdown, interactive_output, VBox\n"
   ]
  },
  {
   "cell_type": "code",
   "execution_count": 2,
   "metadata": {},
   "outputs": [
    {
     "data": {
      "image/svg+xml": "<svg xmlns=\"http://www.w3.org/2000/svg\" xmlns:xlink=\"http://www.w3.org/1999/xlink\" width=\"134pt\" height=\"116pt\" viewBox=\"0.00 0.00 134.00 116.00\">\n<g id=\"graph0\" class=\"graph\" transform=\"scale(1 1) rotate(0) translate(4 112)\">\n<title>graphic</title>\n<polygon fill=\"white\" stroke=\"transparent\" points=\"-4,4 -4,-112 130,-112 130,4 -4,4\"/>\n<!-- A -->\n<g id=\"node1\" class=\"node\">\n<title>A</title>\n<ellipse fill=\"none\" stroke=\"black\" cx=\"27\" cy=\"-90\" rx=\"27\" ry=\"18\"/>\n<text text-anchor=\"middle\" x=\"27\" y=\"-86.3\" font-family=\"Times,serif\" font-size=\"14.00\">A</text>\n</g>\n<!-- B -->\n<g id=\"node2\" class=\"node\">\n<title>B</title>\n<ellipse fill=\"none\" stroke=\"black\" cx=\"27\" cy=\"-18\" rx=\"27\" ry=\"18\"/>\n<text text-anchor=\"middle\" x=\"27\" y=\"-14.3\" font-family=\"Times,serif\" font-size=\"14.00\">B</text>\n</g>\n<!-- A&#45;&gt;B -->\n<g id=\"edge1\" class=\"edge\">\n<title>A-&gt;B</title>\n<path fill=\"none\" stroke=\"black\" d=\"M21.16,-72.41C20.3,-64.51 20.05,-54.85 20.41,-45.94\"/>\n<polygon fill=\"black\" stroke=\"black\" points=\"23.9,-46.18 21.12,-35.96 16.92,-45.68 23.9,-46.18\"/>\n</g>\n<!-- B&#45;&gt;A -->\n<g id=\"edge2\" class=\"edge\">\n<title>B-&gt;A</title>\n<path fill=\"none\" stroke=\"black\" d=\"M32.88,-35.96C33.71,-43.83 33.95,-53.37 33.58,-62.19\"/>\n<polygon fill=\"black\" stroke=\"black\" points=\"30.07,-62.18 32.84,-72.41 37.06,-62.69 30.07,-62.18\"/>\n</g>\n<!-- C -->\n<g id=\"node3\" class=\"node\">\n<title>C</title>\n<ellipse fill=\"none\" stroke=\"black\" cx=\"99\" cy=\"-90\" rx=\"27\" ry=\"18\"/>\n<text text-anchor=\"middle\" x=\"99\" y=\"-86.3\" font-family=\"Times,serif\" font-size=\"14.00\">C</text>\n</g>\n<!-- C&#45;&gt;B -->\n<g id=\"edge3\" class=\"edge\">\n<title>C-&gt;B</title>\n<path fill=\"none\" stroke=\"black\" d=\"M84.43,-74.83C74.25,-64.94 60.48,-51.55 48.97,-40.36\"/>\n<polygon fill=\"black\" stroke=\"black\" points=\"51.41,-37.85 41.8,-33.38 46.53,-42.87 51.41,-37.85\"/>\n</g>\n</g>\n</svg>",
      "text/plain": [
       "<IPython.core.display.SVG object>"
      ]
     },
     "execution_count": 2,
     "metadata": {},
     "output_type": "execute_result"
    }
   ],
   "source": [
    "# Test simple graph\n",
    "test1 = np.array([\n",
    "    # A B\n",
    "    [0, 1, 0],\n",
    "    [1, 0, 1],\n",
    "    [0, 0, 0]\n",
    "])\n",
    "\n",
    "graph1 = matrix_to_graph(test1, [\"A\", \"B\", \"C\"])\n",
    "\n",
    "\n",
    "graph1.show()\n",
    "# graph1.show()\n"
   ]
  },
  {
   "cell_type": "code",
   "execution_count": 3,
   "metadata": {},
   "outputs": [
    {
     "data": {
      "image/svg+xml": "<svg xmlns=\"http://www.w3.org/2000/svg\" xmlns:xlink=\"http://www.w3.org/1999/xlink\" width=\"264pt\" height=\"332pt\" viewBox=\"0.00 0.00 264.24 332.00\">\n<g id=\"graph0\" class=\"graph\" transform=\"scale(1 1) rotate(0) translate(4 328)\">\n<title>graphic</title>\n<polygon fill=\"white\" stroke=\"transparent\" points=\"-4,4 -4,-328 260.24,-328 260.24,4 -4,4\"/>\n<!-- Lyon -->\n<g id=\"node1\" class=\"node\">\n<title>Lyon</title>\n<ellipse fill=\"none\" stroke=\"black\" cx=\"119.85\" cy=\"-306\" rx=\"28.7\" ry=\"18\"/>\n<text text-anchor=\"middle\" x=\"119.85\" y=\"-302.3\" font-family=\"Times,serif\" font-size=\"14.00\">Lyon</text>\n</g>\n<!-- Toulouse -->\n<g id=\"node2\" class=\"node\">\n<title>Toulouse</title>\n<ellipse fill=\"none\" stroke=\"black\" cx=\"84.85\" cy=\"-234\" rx=\"42.79\" ry=\"18\"/>\n<text text-anchor=\"middle\" x=\"84.85\" y=\"-230.3\" font-family=\"Times,serif\" font-size=\"14.00\">Toulouse</text>\n</g>\n<!-- Lyon&#45;&gt;Toulouse -->\n<g id=\"edge1\" class=\"edge\">\n<title>Lyon-&gt;Toulouse</title>\n<path fill=\"none\" stroke=\"black\" d=\"M111.55,-288.41C107.47,-280.25 102.46,-270.22 97.88,-261.07\"/>\n<polygon fill=\"black\" stroke=\"black\" points=\"100.93,-259.34 93.32,-251.96 94.67,-262.47 100.93,-259.34\"/>\n</g>\n<!-- Marseille -->\n<g id=\"node3\" class=\"node\">\n<title>Marseille</title>\n<ellipse fill=\"none\" stroke=\"black\" cx=\"45.85\" cy=\"-162\" rx=\"44.39\" ry=\"18\"/>\n<text text-anchor=\"middle\" x=\"45.85\" y=\"-158.3\" font-family=\"Times,serif\" font-size=\"14.00\">Marseille</text>\n</g>\n<!-- Toulouse&#45;&gt;Marseille -->\n<g id=\"edge2\" class=\"edge\">\n<title>Toulouse-&gt;Marseille</title>\n<path fill=\"none\" stroke=\"black\" d=\"M75.6,-216.41C71.01,-208.16 65.35,-198.01 60.21,-188.78\"/>\n<polygon fill=\"black\" stroke=\"black\" points=\"63.22,-186.99 55.29,-179.96 57.1,-190.4 63.22,-186.99\"/>\n</g>\n<!-- Bordeaux -->\n<g id=\"node4\" class=\"node\">\n<title>Bordeaux</title>\n<ellipse fill=\"none\" stroke=\"black\" cx=\"44.85\" cy=\"-90\" rx=\"44.69\" ry=\"18\"/>\n<text text-anchor=\"middle\" x=\"44.85\" y=\"-86.3\" font-family=\"Times,serif\" font-size=\"14.00\">Bordeaux</text>\n</g>\n<!-- Marseille&#45;&gt;Bordeaux -->\n<g id=\"edge3\" class=\"edge\">\n<title>Marseille-&gt;Bordeaux</title>\n<path fill=\"none\" stroke=\"black\" d=\"M45.6,-143.7C45.49,-135.98 45.36,-126.71 45.23,-118.11\"/>\n<polygon fill=\"black\" stroke=\"black\" points=\"48.73,-118.05 45.09,-108.1 41.73,-118.15 48.73,-118.05\"/>\n</g>\n<!-- Paris -->\n<g id=\"node5\" class=\"node\">\n<title>Paris</title>\n<ellipse fill=\"none\" stroke=\"black\" cx=\"117.85\" cy=\"-18\" rx=\"28.7\" ry=\"18\"/>\n<text text-anchor=\"middle\" x=\"117.85\" y=\"-14.3\" font-family=\"Times,serif\" font-size=\"14.00\">Paris</text>\n</g>\n<!-- Bordeaux&#45;&gt;Paris -->\n<g id=\"edge4\" class=\"edge\">\n<title>Bordeaux-&gt;Paris</title>\n<path fill=\"none\" stroke=\"black\" d=\"M56.31,-72.41C65.84,-62.2 79.46,-49.06 91.54,-38.37\"/>\n<polygon fill=\"black\" stroke=\"black\" points=\"93.92,-40.94 99.2,-31.75 89.34,-35.64 93.92,-40.94\"/>\n</g>\n<!-- Paris&#45;&gt;Lyon -->\n<g id=\"edge5\" class=\"edge\">\n<title>Paris-&gt;Lyon</title>\n<path fill=\"none\" stroke=\"black\" d=\"M121.98,-36.06C130.74,-74.7 149.39,-171.8 136.85,-252 135.47,-260.82 132.87,-270.18 130.11,-278.54\"/>\n<polygon fill=\"black\" stroke=\"black\" points=\"126.75,-277.55 126.74,-288.14 133.35,-279.87 126.75,-277.55\"/>\n</g>\n<!-- Paris&#45;&gt;Toulouse -->\n<g id=\"edge7\" class=\"edge\">\n<title>Paris-&gt;Toulouse</title>\n<path fill=\"none\" stroke=\"black\" d=\"M116.63,-36.04C114.34,-65.56 108.73,-128.02 98.85,-180 97.22,-188.55 94.97,-197.75 92.75,-206.04\"/>\n<polygon fill=\"black\" stroke=\"black\" points=\"89.3,-205.38 90,-215.95 96.05,-207.25 89.3,-205.38\"/>\n</g>\n<!-- Paris&#45;&gt;Bordeaux -->\n<g id=\"edge6\" class=\"edge\">\n<title>Paris-&gt;Bordeaux</title>\n<path fill=\"none\" stroke=\"black\" d=\"M106.81,-35.13C98.02,-44.59 85.59,-56.68 74.11,-67\"/>\n<polygon fill=\"black\" stroke=\"black\" points=\"71.56,-64.58 66.36,-73.81 76.18,-69.83 71.56,-64.58\"/>\n</g>\n<!-- Rennes -->\n<g id=\"node6\" class=\"node\">\n<title>Rennes</title>\n<ellipse fill=\"none\" stroke=\"black\" cx=\"219.85\" cy=\"-90\" rx=\"36.29\" ry=\"18\"/>\n<text text-anchor=\"middle\" x=\"219.85\" y=\"-86.3\" font-family=\"Times,serif\" font-size=\"14.00\">Rennes</text>\n</g>\n<!-- Rennes&#45;&gt;Paris -->\n<g id=\"edge8\" class=\"edge\">\n<title>Rennes-&gt;Paris</title>\n<path fill=\"none\" stroke=\"black\" d=\"M199.2,-74.83C183.54,-64.08 161.87,-49.21 144.83,-37.52\"/>\n<polygon fill=\"black\" stroke=\"black\" points=\"146.62,-34.5 136.4,-31.73 142.66,-40.28 146.62,-34.5\"/>\n</g>\n<!-- Lille -->\n<g id=\"node7\" class=\"node\">\n<title>Lille</title>\n<ellipse fill=\"none\" stroke=\"black\" cx=\"219.85\" cy=\"-18\" rx=\"27.1\" ry=\"18\"/>\n<text text-anchor=\"middle\" x=\"219.85\" y=\"-14.3\" font-family=\"Times,serif\" font-size=\"14.00\">Lille</text>\n</g>\n<!-- Rennes&#45;&gt;Lille -->\n<g id=\"edge9\" class=\"edge\">\n<title>Rennes-&gt;Lille</title>\n<path fill=\"none\" stroke=\"black\" d=\"M213.97,-72.05C213.14,-64.23 212.9,-54.75 213.26,-45.98\"/>\n<polygon fill=\"black\" stroke=\"black\" points=\"216.76,-46.01 213.98,-35.79 209.78,-45.51 216.76,-46.01\"/>\n</g>\n<!-- Lille&#45;&gt;Rennes -->\n<g id=\"edge10\" class=\"edge\">\n<title>Lille-&gt;Rennes</title>\n<path fill=\"none\" stroke=\"black\" d=\"M225.71,-35.79C226.55,-43.59 226.79,-53.07 226.44,-61.85\"/>\n<polygon fill=\"black\" stroke=\"black\" points=\"222.94,-61.83 225.72,-72.05 229.92,-62.33 222.94,-61.83\"/>\n</g>\n</g>\n</svg>",
      "text/plain": [
       "<IPython.core.display.SVG object>"
      ]
     },
     "execution_count": 3,
     "metadata": {},
     "output_type": "execute_result"
    }
   ],
   "source": [
    "# Init transport network\n",
    "data = np.array([\n",
    "       [0, 1, 0, 0, 0, 0, 0],\n",
    "       [0, 0, 1, 0, 0, 1, 0],\n",
    "       [0, 1, 0, 0, 1, 0, 0],\n",
    "       [1, 1, 0, 0, 0, 0, 0],\n",
    "       [0, 0, 0, 1, 0, 0, 0],\n",
    "       [0, 0, 0, 0, 0, 0, 1],\n",
    "       [0, 0, 0, 0, 0, 1, 0]\n",
    "])\n",
    "\n",
    "graph = matrix_to_graph(data, [\"Lyon\", \"Paris\", \"Bordeaux\", \"Toulouse\", \"Marseille\", \"Rennes\", \"Lille\"])\n",
    "\n",
    "graph.show()"
   ]
  },
  {
   "cell_type": "code",
   "execution_count": 4,
   "metadata": {},
   "outputs": [],
   "source": [
    "def form_itinary(callback: callable, locations: list):\n",
    "    if len(locations) <= 1:\n",
    "        print('Need more than one location')\n",
    "        return\n",
    "\n",
    "    src = Dropdown(\n",
    "        options=locations,\n",
    "        value=locations[0],\n",
    "        description='Choix du départ:'\n",
    "    )\n",
    "\n",
    "    dest = Dropdown(\n",
    "        options=locations,\n",
    "        value=locations[0],\n",
    "        description='Choix de la destination:'    \n",
    "    )\n",
    "\n",
    "    def show(src, dest):\n",
    "        if src == dest:\n",
    "            return\n",
    "        print(callback(src, dest))\n",
    "\n",
    "    out = interactive_output(show, {'src': src, 'dest': dest})\n",
    "\n",
    "    return VBox([VBox([src, dest]), out])\n"
   ]
  },
  {
   "cell_type": "code",
   "execution_count": 5,
   "metadata": {},
   "outputs": [],
   "source": [
    "def get_itinary_tags(src: str, dest: str):\n",
    "    return (graph.get_by_tag(src), graph.get_by_tag(dest))"
   ]
  },
  {
   "cell_type": "markdown",
   "metadata": {},
   "source": []
  },
  {
   "cell_type": "code",
   "execution_count": 6,
   "metadata": {},
   "outputs": [
    {
     "data": {
      "application/vnd.jupyter.widget-view+json": {
       "model_id": "52f18852755c412da1de8c4e78d7a5d6",
       "version_major": 2,
       "version_minor": 0
      },
      "text/plain": [
       "VBox(children=(VBox(children=(Dropdown(description='Choix du départ:', options=('Lyon', 'Paris', 'Bordeaux', '…"
      ]
     },
     "metadata": {},
     "output_type": "display_data"
    }
   ],
   "source": [
    "def deep_search_process(src, dest):\n",
    "    src, dest = get_itinary_tags(src, dest)\n",
    "\n",
    "    visited = src.deep_search([], dest, graph)\n",
    "    if dest not in visited:\n",
    "        return\n",
    "\n",
    "    return Graph._to_tags(visited)\n",
    "\n",
    "form_itinary(deep_search_process, graph.to_tags())\n"
   ]
  },
  {
   "cell_type": "code",
   "execution_count": 7,
   "metadata": {},
   "outputs": [
    {
     "data": {
      "application/vnd.jupyter.widget-view+json": {
       "model_id": "27fb977b9762459c9c92c500017ba68f",
       "version_major": 2,
       "version_minor": 0
      },
      "text/plain": [
       "VBox(children=(VBox(children=(Dropdown(description='Choix du départ:', options=('Lyon', 'Paris', 'Bordeaux', '…"
      ]
     },
     "metadata": {},
     "output_type": "display_data"
    }
   ],
   "source": [
    "def dijkstra_process(src, dest):\n",
    "    src, dest = get_itinary_tags(src, dest)\n",
    "\n",
    "    return Graph._to_tags(src.dijkstra(dest))\n",
    "\n",
    "form_itinary(dijkstra_process, graph.to_tags())"
   ]
  }
 ],
 "metadata": {
  "interpreter": {
   "hash": "2ec4fc67a505d1028b3c3d6a066bdfe937905a5c3183d2871c69c0900ad347ee"
  },
  "kernelspec": {
   "display_name": "Python 3 (ipykernel)",
   "language": "python",
   "name": "python3"
  },
  "language_info": {
   "codemirror_mode": {
    "name": "ipython",
    "version": 3
   },
   "file_extension": ".py",
   "mimetype": "text/x-python",
   "name": "python",
   "nbconvert_exporter": "python",
   "pygments_lexer": "ipython3",
   "version": "3.9.9"
  }
 },
 "nbformat": 4,
 "nbformat_minor": 2
}
