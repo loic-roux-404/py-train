{
 "cells": [
  {
   "cell_type": "markdown",
   "metadata": {},
   "source": [
    "Ex tableau\n",
    "\n",
    "|Sommet|sommet adjacents|\n",
    "|-----|-----|\n",
    "|S0   |S6   |\n",
    "|S1   |S2,S5|\n",
    "|S2   |S1,S3|\n",
    "|S3   |S2,S4|\n",
    "|S4   |S2,S3|\n",
    "|S5   |S1   |\n",
    "|S6   |S0   |"
   ]
  },
  {
   "cell_type": "markdown",
   "metadata": {},
   "source": [
    "Matrice d'adjacence\n",
    "\n",
    "$X = \\begin{bmatrix}\n",
    "0 & 0 & 0 & 0 & 0 & 0 & 1\\\\\n",
    "0 & 0 & 1 & 1 & 0 & 1 & 0\\\\\n",
    "0 & 1 & 0 & 1 & 1 & 0 & 0\\\\\n",
    "0 & 1 & 1 & 0 & 1 & 0 & 0\\\\\n",
    "0 & 0 & 1 & 1 & 0 & 0 & 0\\\\\n",
    "0 & 1 & 0 & 0 & 0 & 0 & 0\\\\\n",
    "1 & 0 & 0 & 0 & 0 & 0 & 0\n",
    "\\end{bmatrix}$"
   ]
  },
  {
   "cell_type": "markdown",
   "metadata": {},
   "source": [
    "## Projet réseau de transport"
   ]
  },
  {
   "cell_type": "markdown",
   "metadata": {},
   "source": []
  },
  {
   "cell_type": "code",
   "execution_count": null,
   "metadata": {},
   "outputs": [],
   "source": [
    "from libGraph import matrix_to_graph, Graph\n",
    "import numpy as np\n",
    "from ipywidgets import Dropdown, interactive_output, VBox"
   ]
  },
  {
   "cell_type": "code",
   "execution_count": null,
   "metadata": {},
   "outputs": [],
   "source": [
    "# Test simple graph\n",
    "test1 = np.array([\n",
    "    # A B\n",
    "    [0, 1, 0],\n",
    "    [1, 0, 1],\n",
    "    [0, 0, 0]\n",
    "])\n",
    "\n",
    "graph1 = matrix_to_graph(test1, [\"A\", \"B\", \"C\"])\n",
    "\n",
    "graph1.show()"
   ]
  },
  {
   "cell_type": "code",
   "execution_count": null,
   "metadata": {},
   "outputs": [],
   "source": [
    "# Init transport network\n",
    "data = np.array([\n",
    "       [0, 2, 0, 1, 0, 0, 0],\n",
    "       [0, 0, 3, 0, 0, 4, 0],\n",
    "       [0, 3, 0, 0, 2, 0, 0],\n",
    "       [2, 4, 0, 0, 0, 0, 0],\n",
    "       [0, 0, 0, 1, 0, 0, 0],\n",
    "       [0, 0, 0, 0, 0, 0, 2],\n",
    "       [0, 0, 0, 0, 0, 2, 0]\n",
    "])\n",
    "\n",
    "graph = matrix_to_graph(data, [\"Lyon\", \"Paris\", \"Bordeaux\", \"Toulouse\", \"Marseille\", \"Rennes\", \"Lille\"])\n",
    "\n",
    "graph.show()"
   ]
  },
  {
   "cell_type": "code",
   "execution_count": null,
   "metadata": {},
   "outputs": [],
   "source": [
    "def form_itinary(callback: callable, locations: list):\n",
    "    if len(locations) <= 1:\n",
    "        print('Need more than one location')\n",
    "        return\n",
    "\n",
    "    src = Dropdown(\n",
    "        options=locations,\n",
    "        value=locations[0],\n",
    "        description='Choix du départ:'\n",
    "    )\n",
    "\n",
    "    dest = Dropdown(\n",
    "        options=locations,\n",
    "        value=locations[0],\n",
    "        description='Choix de la destination:'    \n",
    "    )\n",
    "\n",
    "    def show(src, dest):\n",
    "        if src == dest:\n",
    "            return\n",
    "        print(callback(src, dest))\n",
    "\n",
    "    out = interactive_output(show, {'src': src, 'dest': dest})\n",
    "\n",
    "    return VBox([VBox([src, dest]), out])\n"
   ]
  },
  {
   "cell_type": "code",
   "execution_count": null,
   "metadata": {},
   "outputs": [],
   "source": [
    "def get_itinary_tags(src: str, dest: str):\n",
    "    return (graph.get_by_tag(src), graph.get_by_tag(dest))"
   ]
  },
  {
   "cell_type": "markdown",
   "metadata": {},
   "source": []
  },
  {
   "cell_type": "markdown",
   "metadata": {},
   "source": []
  },
  {
   "cell_type": "code",
   "execution_count": null,
   "metadata": {},
   "outputs": [],
   "source": [
    "def deep_search_process(src, dest):\n",
    "    src, dest = get_itinary_tags(src, dest)\n",
    "\n",
    "    visited = src.deep_search(dest)\n",
    "\n",
    "    return Graph._to_tags(visited)\n",
    "\n",
    "form_itinary(deep_search_process, graph.to_tags())\n"
   ]
  },
  {
   "cell_type": "code",
   "execution_count": null,
   "metadata": {},
   "outputs": [],
   "source": [
    "def dijkstra_process(src, dest):\n",
    "    src, dest = get_itinary_tags(src, dest)\n",
    "\n",
    "    path, dist = src.dijkstra(dest, graph.nodes)\n",
    "    print(\"Distance : %s\" % dist)\n",
    "\n",
    "    return Graph._to_tags(path)\n",
    "\n",
    "form_itinary(dijkstra_process, graph.to_tags())"
   ]
  }
 ],
 "metadata": {
  "interpreter": {
   "hash": "2ec4fc67a505d1028b3c3d6a066bdfe937905a5c3183d2871c69c0900ad347ee"
  },
  "kernelspec": {
   "display_name": "Python 3 (ipykernel)",
   "language": "python",
   "name": "python3"
  },
  "language_info": {
   "codemirror_mode": {
    "name": "ipython",
    "version": 3
   },
   "file_extension": ".py",
   "mimetype": "text/x-python",
   "name": "python",
   "nbconvert_exporter": "python",
   "pygments_lexer": "ipython3",
   "version": "3.9.9"
  }
 },
 "nbformat": 4,
 "nbformat_minor": 2
}
