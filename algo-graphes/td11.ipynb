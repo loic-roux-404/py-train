{
 "cells": [
  {
   "cell_type": "code",
   "execution_count": null,
   "metadata": {},
   "outputs": [],
   "source": []
  },
  {
   "cell_type": "markdown",
   "metadata": {},
   "source": [
    "1. Le graphe ci-dessus est-il fortement connexe ? Pourquoi ?\n",
    "\n",
    "Le graphe est fortement connnexe car il n'est pas orienté et acyclique donc on peut vérifier la condition que pour n'importe quelle paire de sommet il existe un chemin de l'une vers l'autre\n",
    "\n",
    "2. "
   ]
  },
  {
   "cell_type": "markdown",
   "metadata": {},
   "source": [
    "3. Le graphe ci-dessus est-il connexe ? Pourquoi ?\n",
    "\n",
    "S1 -> S6 -> S7 -> S5 -> S4 -> S2 -> S3 -> S5 -> S4 -> S1\n",
    "\n",
    "Oui car on peut passer par tous les sommet et revenir au point de départ."
   ]
  },
  {
   "cell_type": "markdown",
   "metadata": {},
   "source": []
  }
 ],
 "metadata": {
  "language_info": {
   "name": "python"
  },
  "orig_nbformat": 4
 },
 "nbformat": 4,
 "nbformat_minor": 2
}
