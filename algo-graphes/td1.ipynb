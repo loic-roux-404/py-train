{
 "cells": [
  {
   "cell_type": "markdown",
   "metadata": {},
   "source": [
    "## Exercice 1\n",
    "\n",
    "1°) Donner le degré de chaque sommet de ce graphe\n",
    "\n",
    "S0 : 1\n",
    "S1 : 3\n",
    "S2 : 3\n",
    "S3 : 3\n",
    "S4 : 2\n",
    "S5 : 1\n",
    "S6 : 1\n"
   ]
  },
  {
   "cell_type": "markdown",
   "metadata": {},
   "source": [
    "2°) Donner la liste d’adjacence de ce graphe\n",
    "\n",
    "|Sommet|sommet adjacents|\n",
    "|-----|-----|\n",
    "|S0   |S6   |\n",
    "|S1   |S2,S5|\n",
    "|S2   |S1,S3|\n",
    "|S3   |S2,S4|\n",
    "|S4   |S2,S3|\n",
    "|S5   |S1   |\n",
    "|S6   |S0   |"
   ]
  },
  {
   "cell_type": "markdown",
   "metadata": {},
   "source": [
    "Matrice d'adjacence\n",
    "\n",
    "$X = \\begin{bmatrix}\n",
    "0 & 0 & 0 & 0 & 0 & 0 & 1\\\\\n",
    "0 & 0 & 1 & 1 & 0 & 1 & 0\\\\\n",
    "0 & 1 & 0 & 1 & 1 & 0 & 0\\\\\n",
    "0 & 1 & 1 & 0 & 1 & 0 & 0\\\\\n",
    "0 & 0 & 1 & 1 & 0 & 0 & 0\\\\\n",
    "0 & 1 & 0 & 0 & 0 & 0 & 0\\\\\n",
    "1 & 0 & 0 & 0 & 0 & 0 & 0\n",
    "\\end{bmatrix}$"
   ]
  },
  {
   "cell_type": "markdown",
   "metadata": {},
   "source": [
    "## Exo 2"
   ]
  },
  {
   "cell_type": "markdown",
   "metadata": {},
   "source": []
  },
  {
   "cell_type": "code",
   "execution_count": 1,
   "metadata": {},
   "outputs": [],
   "source": [
    "from libGraph import matrix_to_graph\n",
    "import numpy as np\n",
    "from ipywidgets import Text, interactive_output, HBox, VBox\n"
   ]
  },
  {
   "cell_type": "code",
   "execution_count": 2,
   "metadata": {},
   "outputs": [
    {
     "name": "stdout",
     "output_type": "stream",
     "text": [
      "{'B': ['A'], 'A': ['B']}\n"
     ]
    },
    {
     "data": {
      "image/svg+xml": "<svg xmlns=\"http://www.w3.org/2000/svg\" xmlns:xlink=\"http://www.w3.org/1999/xlink\" width=\"62pt\" height=\"116pt\" viewBox=\"0.00 0.00 62.00 116.00\">\n<g id=\"graph0\" class=\"graph\" transform=\"scale(1 1) rotate(0) translate(4 112)\">\n<title>graphic</title>\n<polygon fill=\"white\" stroke=\"transparent\" points=\"-4,4 -4,-112 58,-112 58,4 -4,4\"/>\n<!-- B -->\n<g id=\"node1\" class=\"node\">\n<title>B</title>\n<ellipse fill=\"none\" stroke=\"black\" cx=\"27\" cy=\"-90\" rx=\"27\" ry=\"18\"/>\n<text text-anchor=\"middle\" x=\"27\" y=\"-86.3\" font-family=\"Times,serif\" font-size=\"14.00\">B</text>\n</g>\n<!-- A -->\n<g id=\"node2\" class=\"node\">\n<title>A</title>\n<ellipse fill=\"none\" stroke=\"black\" cx=\"27\" cy=\"-18\" rx=\"27\" ry=\"18\"/>\n<text text-anchor=\"middle\" x=\"27\" y=\"-14.3\" font-family=\"Times,serif\" font-size=\"14.00\">A</text>\n</g>\n<!-- B&#45;&#45;A -->\n<g id=\"edge1\" class=\"edge\">\n<title>B--A</title>\n<path fill=\"none\" stroke=\"black\" d=\"M27,-71.7C27,-60.85 27,-46.92 27,-36.1\"/>\n</g>\n</g>\n</svg>",
      "text/plain": [
       "<IPython.core.display.SVG object>"
      ]
     },
     "execution_count": 2,
     "metadata": {},
     "output_type": "execute_result"
    }
   ],
   "source": [
    "test1 = np.array([\n",
    "    # A B\n",
    "    [0, 1],\n",
    "    [1, 0]\n",
    "])\n",
    "\n",
    "graph1 = matrix_to_graph(test1, [\"A\", \"B\"])\n",
    "\n",
    "print(graph1.__dict__())\n",
    "graph1.show()\n"
   ]
  },
  {
   "cell_type": "code",
   "execution_count": 3,
   "metadata": {},
   "outputs": [
    {
     "name": "stdout",
     "output_type": "stream",
     "text": [
      "{'S5': ['S4'], 'S4': ['S2'], 'S2': ['S1'], 'S1': ['S0', 'S3'], 'S0': [], 'S3': ['S4']}\n"
     ]
    },
    {
     "data": {
      "image/svg+xml": "<svg xmlns=\"http://www.w3.org/2000/svg\" xmlns:xlink=\"http://www.w3.org/1999/xlink\" width=\"134pt\" height=\"332pt\" viewBox=\"0.00 0.00 134.00 332.00\">\n<g id=\"graph0\" class=\"graph\" transform=\"scale(1 1) rotate(0) translate(4 328)\">\n<title>graphic</title>\n<polygon fill=\"white\" stroke=\"transparent\" points=\"-4,4 -4,-328 130,-328 130,4 -4,4\"/>\n<!-- S5 -->\n<g id=\"node1\" class=\"node\">\n<title>S5</title>\n<ellipse fill=\"none\" stroke=\"black\" cx=\"63\" cy=\"-306\" rx=\"27\" ry=\"18\"/>\n<text text-anchor=\"middle\" x=\"63\" y=\"-302.3\" font-family=\"Times,serif\" font-size=\"14.00\">S5</text>\n</g>\n<!-- S4 -->\n<g id=\"node2\" class=\"node\">\n<title>S4</title>\n<ellipse fill=\"none\" stroke=\"black\" cx=\"63\" cy=\"-234\" rx=\"27\" ry=\"18\"/>\n<text text-anchor=\"middle\" x=\"63\" y=\"-230.3\" font-family=\"Times,serif\" font-size=\"14.00\">S4</text>\n</g>\n<!-- S5&#45;&#45;S4 -->\n<g id=\"edge1\" class=\"edge\">\n<title>S5--S4</title>\n<path fill=\"none\" stroke=\"black\" d=\"M63,-287.7C63,-276.85 63,-262.92 63,-252.1\"/>\n</g>\n<!-- S2 -->\n<g id=\"node3\" class=\"node\">\n<title>S2</title>\n<ellipse fill=\"none\" stroke=\"black\" cx=\"63\" cy=\"-162\" rx=\"27\" ry=\"18\"/>\n<text text-anchor=\"middle\" x=\"63\" y=\"-158.3\" font-family=\"Times,serif\" font-size=\"14.00\">S2</text>\n</g>\n<!-- S4&#45;&#45;S2 -->\n<g id=\"edge2\" class=\"edge\">\n<title>S4--S2</title>\n<path fill=\"none\" stroke=\"black\" d=\"M63,-215.7C63,-204.85 63,-190.92 63,-180.1\"/>\n</g>\n<!-- S1 -->\n<g id=\"node4\" class=\"node\">\n<title>S1</title>\n<ellipse fill=\"none\" stroke=\"black\" cx=\"63\" cy=\"-90\" rx=\"27\" ry=\"18\"/>\n<text text-anchor=\"middle\" x=\"63\" y=\"-86.3\" font-family=\"Times,serif\" font-size=\"14.00\">S1</text>\n</g>\n<!-- S2&#45;&#45;S1 -->\n<g id=\"edge3\" class=\"edge\">\n<title>S2--S1</title>\n<path fill=\"none\" stroke=\"black\" d=\"M63,-143.7C63,-132.85 63,-118.92 63,-108.1\"/>\n</g>\n<!-- S0 -->\n<g id=\"node5\" class=\"node\">\n<title>S0</title>\n<ellipse fill=\"none\" stroke=\"black\" cx=\"27\" cy=\"-18\" rx=\"27\" ry=\"18\"/>\n<text text-anchor=\"middle\" x=\"27\" y=\"-14.3\" font-family=\"Times,serif\" font-size=\"14.00\">S0</text>\n</g>\n<!-- S1&#45;&#45;S0 -->\n<g id=\"edge4\" class=\"edge\">\n<title>S1--S0</title>\n<path fill=\"none\" stroke=\"black\" d=\"M54.65,-72.76C48.83,-61.46 41.11,-46.44 35.3,-35.15\"/>\n</g>\n<!-- S3 -->\n<g id=\"node6\" class=\"node\">\n<title>S3</title>\n<ellipse fill=\"none\" stroke=\"black\" cx=\"99\" cy=\"-18\" rx=\"27\" ry=\"18\"/>\n<text text-anchor=\"middle\" x=\"99\" y=\"-14.3\" font-family=\"Times,serif\" font-size=\"14.00\">S3</text>\n</g>\n<!-- S1&#45;&#45;S3 -->\n<g id=\"edge5\" class=\"edge\">\n<title>S1--S3</title>\n<path fill=\"none\" stroke=\"black\" d=\"M71.35,-72.76C77.17,-61.46 84.89,-46.44 90.7,-35.15\"/>\n</g>\n</g>\n</svg>",
      "text/plain": [
       "<IPython.core.display.SVG object>"
      ]
     },
     "execution_count": 3,
     "metadata": {},
     "output_type": "execute_result"
    }
   ],
   "source": [
    "# S0 S1 S2 S3 S4 S5\n",
    "data = np.array([\n",
    "       [0, 1, 0, 0, 0, 0],\n",
    "       [0, 0, 1, 0, 0, 0],\n",
    "       [0, 0, 0, 0, 1, 0],\n",
    "       [0, 1, 0, 0, 0, 0],\n",
    "       [0, 0, 0, 1, 0, 1],\n",
    "       [0, 0, 0, 0, 0, 0]\n",
    "])\n",
    "\n",
    "graph2 = matrix_to_graph(data, [\"S0\", \"S1\", \"S2\", \"S3\", \"S4\", \"S5\"])\n",
    "\n",
    "print(graph2.__dict__())\n",
    "graph2.show()"
   ]
  },
  {
   "cell_type": "code",
   "execution_count": 4,
   "metadata": {},
   "outputs": [
    {
     "data": {
      "application/vnd.jupyter.widget-view+json": {
       "model_id": "65fe7b015a884fa99e153c44ace87609",
       "version_major": 2,
       "version_minor": 0
      },
      "text/plain": [
       "HBox(children=(VBox(children=(Text(value='', description='Départ:', placeholder='Type something'), Text(value=…"
      ]
     },
     "metadata": {},
     "output_type": "display_data"
    }
   ],
   "source": [
    "# Inputs\n",
    "\n",
    "def form_itinary(callback: callable):\n",
    "    src = Text(placeholder='Type something',\n",
    "        description='Départ:')\n",
    "    dest = Text(placeholder='Type something',\n",
    "        description='Destination:')\n",
    "\n",
    "    def show(src, dest):\n",
    "        print(callback(src, dest))\n",
    "\n",
    "    out = interactive_output(show, {'src': src, 'dest': dest})\n",
    "\n",
    "    return HBox([VBox([src, dest]), out])\n",
    "\n",
    "f = form_itinary(lambda x, y: (\n",
    "    \"{}-->{}\".format(x, y)\n",
    "))\n",
    "\n",
    "f\n"
   ]
  },
  {
   "cell_type": "markdown",
   "metadata": {},
   "source": []
  },
  {
   "cell_type": "code",
   "execution_count": null,
   "metadata": {},
   "outputs": [],
   "source": [
    "# manual test\n"
   ]
  }
 ],
 "metadata": {
  "interpreter": {
   "hash": "2ec4fc67a505d1028b3c3d6a066bdfe937905a5c3183d2871c69c0900ad347ee"
  },
  "kernelspec": {
   "display_name": "Python 3 (ipykernel)",
   "language": "python",
   "name": "python3"
  },
  "language_info": {
   "codemirror_mode": {
    "name": "ipython",
    "version": 3
   },
   "file_extension": ".py",
   "mimetype": "text/x-python",
   "name": "python",
   "nbconvert_exporter": "python",
   "pygments_lexer": "ipython3",
   "version": "3.9.9"
  }
 },
 "nbformat": 4,
 "nbformat_minor": 2
}
