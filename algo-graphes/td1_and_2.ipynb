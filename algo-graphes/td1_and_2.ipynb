{
 "cells": [
  {
   "cell_type": "markdown",
   "id": "9600d09e",
   "metadata": {},
   "source": [
    "1. Quel tableau à une dimension permet de stocker cet arbre en mémoire ?"
   ]
  },
  {
   "cell_type": "markdown",
   "id": "cecb303d",
   "metadata": {},
   "source": [
    "un tas"
   ]
  },
  {
   "cell_type": "markdown",
   "id": "fcffcf7c",
   "metadata": {},
   "source": [
    "2. Cet arbre est-il un tas ? Si ce n’est pas le cas, est-il suffisant de tamiser cet arbre pour qu’il devienne un tas ? Quel serait le tableau ainsi obtenu ?"
   ]
  },
  {
   "cell_type": "markdown",
   "id": "9398cb5f",
   "metadata": {},
   "source": [
    "Cette arbre n'est pas binaire donc on ne peut pas le transformer en tas en l'état. Le noeud étiqueté 12 possède un parent plus grand que lui. Il faudrait le remettre dans l'ordre pour ensuite le tamiser."
   ]
  },
  {
   "cell_type": "code",
   "execution_count": 1,
   "id": "414891e4",
   "metadata": {},
   "outputs": [
    {
     "data": {
      "text/plain": [
       "[28, 25, 20, 21, None, 13, 5, 12, None, 3, 8, None, 6]"
      ]
     },
     "execution_count": 1,
     "metadata": {},
     "output_type": "execute_result"
    }
   ],
   "source": [
    "[28, 25, 20, 21, None, 13, 5, 12, None, 3, 8, None, 6]"
   ]
  },
  {
   "cell_type": "markdown",
   "id": "b3621ae6",
   "metadata": {},
   "source": [
    "Ce n'est pas un tas non plus, on doit le trier"
   ]
  },
  {
   "cell_type": "code",
   "execution_count": 2,
   "id": "347a211d",
   "metadata": {},
   "outputs": [
    {
     "name": "stdout",
     "output_type": "stream",
     "text": [
      "\n",
      "     ____25\n",
      "    /      \\\n",
      "  _40       2\n",
      " /   \\\n",
      "10    65\n",
      "\n"
     ]
    }
   ],
   "source": [
    "from libTree import Leaf\n",
    "\n",
    "non_ordered = Leaf(25).add_left(\n",
    "        Leaf(40).add_right(Leaf(65)).add_left(Leaf(10))\n",
    "    ).add_right(Leaf(2))\n",
    "\n",
    "print(non_ordered)\n"
   ]
  },
  {
   "cell_type": "code",
   "execution_count": 3,
   "id": "d84e9ccf",
   "metadata": {},
   "outputs": [
    {
     "name": "stdout",
     "output_type": "stream",
     "text": [
      "25\n",
      "40\n",
      "2\n",
      "10\n",
      "65\n"
     ]
    }
   ],
   "source": [
    "# Parcour en largeur\n",
    "\n",
    "non_ordered.width_dump()"
   ]
  },
  {
   "cell_type": "code",
   "execution_count": 4,
   "id": "49045705",
   "metadata": {},
   "outputs": [
    {
     "name": "stdout",
     "output_type": "stream",
     "text": [
      "25\n",
      "40\n",
      "10\n",
      "65\n",
      "2\n"
     ]
    }
   ],
   "source": [
    "# Parcour en largeur prefixe\n",
    "\n",
    "non_ordered.prefix_dump()"
   ]
  },
  {
   "cell_type": "code",
   "execution_count": 5,
   "id": "0046c29f",
   "metadata": {},
   "outputs": [
    {
     "name": "stdout",
     "output_type": "stream",
     "text": [
      "10\n",
      "65\n",
      "40\n",
      "2\n",
      "25\n"
     ]
    }
   ],
   "source": [
    "# Parcour en largeur suffixe\n",
    "\n",
    "non_ordered.suffix_dump()"
   ]
  }
 ],
 "metadata": {
  "kernelspec": {
   "display_name": "Python 3 (ipykernel)",
   "language": "python",
   "name": "python3"
  },
  "language_info": {
   "codemirror_mode": {
    "name": "ipython",
    "version": 3
   },
   "file_extension": ".py",
   "mimetype": "text/x-python",
   "name": "python",
   "nbconvert_exporter": "python",
   "pygments_lexer": "ipython3",
   "version": "3.9.9"
  }
 },
 "nbformat": 4,
 "nbformat_minor": 5
}
