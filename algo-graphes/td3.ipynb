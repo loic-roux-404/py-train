{
 "cells": [
  {
   "cell_type": "markdown",
   "id": "1d0de21a",
   "metadata": {},
   "source": [
    "1°) Cette arbre est-il un arbre binaire de recherche ?"
   ]
  },
  {
   "cell_type": "markdown",
   "id": "ca549d17",
   "metadata": {},
   "source": [
    "oui par ce que il y a bien des noeud gauche plus petits que leur parent et des noeuds droits plus grands que leur parent."
   ]
  },
  {
   "cell_type": "markdown",
   "id": "ca646912",
   "metadata": {},
   "source": [
    "2°) Insérer les nœuds avec l’étiquette : 50, 5, 25,19. Certains nœud pose-t-il des soucis ?"
   ]
  },
  {
   "cell_type": "markdown",
   "id": "1f8dc861",
   "metadata": {},
   "source": [
    "25 qui est égal est impossible à insérer, il n'existe pas de recherche avec = (uniquement > <)"
   ]
  },
  {
   "cell_type": "markdown",
   "id": "779755d0",
   "metadata": {},
   "source": [
    "3) Effectuer le parcours infixe de l’arbre ainsi obtenu. Que remarquez-vous ?"
   ]
  },
  {
   "cell_type": "markdown",
   "id": "43da459f",
   "metadata": {},
   "source": [
    "au niveau du 12 on ne peut pas repartir du noeud de droite"
   ]
  },
  {
   "cell_type": "code",
   "execution_count": 154,
   "id": "67ee95be",
   "metadata": {},
   "outputs": [],
   "source": [
    "class Leaf:\n",
    "    def __init__(self, tag: str):\n",
    "        self.tag = tag\n",
    "        self.parent = None\n",
    "        self.right = None\n",
    "        self.left = None\n",
    "        \n",
    "    def add_right(self, lf: 'Leaf'):\n",
    "        lf.parent = self\n",
    "        self.right = lf\n",
    "\n",
    "        return self\n",
    "        \n",
    "    def add_left(self, lf: 'Leaf'):\n",
    "        lf.parent = self\n",
    "        self.left = lf\n",
    "        \n",
    "        return self\n",
    "\n",
    "    def dump(self):\n",
    "        print(self.tag)\n",
    "        if self.left != None:\n",
    "            self.left.dump()\n",
    "        if self.right != None:\n",
    "            self.right.dump()\n",
    "\n",
    "    def infix_dump(self):\n",
    "        for leaf in self.infix_sort():\n",
    "            print(leaf.tag)\n",
    "\n",
    "    def infix_sort(self, infix_sorted = None):\n",
    "        if infix_sorted is None:\n",
    "            infix_sorted = []\n",
    "\n",
    "        if self.left is not None:\n",
    "            self.left.infix_sort(infix_sorted)\n",
    "\n",
    "        infix_sorted.append(self)\n",
    "\n",
    "        if self.right is not None:\n",
    "            self.right.infix_sort(infix_sorted)\n",
    "\n",
    "        return infix_sorted\n"
   ]
  },
  {
   "cell_type": "code",
   "execution_count": 155,
   "id": "e5737a1c",
   "metadata": {},
   "outputs": [],
   "source": [
    "\n",
    "root = Leaf(20).add_right(\n",
    "          Leaf(5).add_left(Leaf(3))\n",
    "              .add_right(\n",
    "                Leaf(12)\n",
    "                    .add_left(Leaf(8).add_left(Leaf(6)))\n",
    "                    .add_right(Leaf(13))\n",
    "            )).add_left(\n",
    "                Leaf(25).add_left(Leaf(21)).add_left(Leaf(28))\n",
    "            )"
   ]
  },
  {
   "cell_type": "code",
   "execution_count": 156,
   "metadata": {
    "tags": []
   },
   "outputs": [
    {
     "output_type": "stream",
     "name": "stdout",
     "text": "20\n25\n28\n5\n3\n12\n8\n6\n13\n========\n28\n25\n20\n3\n5\n6\n8\n12\n13\n"
    }
   ],
   "source": [
    "root.dump()\n",
    "print(\"========\")\n",
    "root.infix_dump()"
   ]
  },
  {
   "cell_type": "code",
   "execution_count": null,
   "metadata": {},
   "outputs": [],
   "source": [
    "def binTreeFactory(l: list):\n",
    "    \n"
   ]
  }
 ],
 "metadata": {
  "kernelspec": {
   "display_name": "Python 3.8.6 64-bit",
   "language": "python",
   "name": "python38664bit1b30b68bd43f42ad843839b6f18b2b42"
  },
  "language_info": {
   "codemirror_mode": {
    "name": "ipython",
    "version": 3
   },
   "file_extension": ".py",
   "mimetype": "text/x-python",
   "name": "python",
   "nbconvert_exporter": "python",
   "pygments_lexer": "ipython3",
   "version": "3.8.6-final"
  }
 },
 "nbformat": 4,
 "nbformat_minor": 5
}