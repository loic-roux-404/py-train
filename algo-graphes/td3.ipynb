{
 "cells": [
  {
   "cell_type": "markdown",
   "id": "1d0de21a",
   "metadata": {},
   "source": [
    "1°) Cette arbre est-il un arbre binaire de recherche ?"
   ]
  },
  {
   "cell_type": "markdown",
   "id": "ca549d17",
   "metadata": {},
   "source": [
    "oui par ce que il y a bien des noeud gauche plus petits que leur parent et des noeuds droits plus grands que leur parent."
   ]
  },
  {
   "cell_type": "markdown",
   "id": "ca646912",
   "metadata": {},
   "source": [
    "2°) Insérer les nœuds avec l’étiquette : 50, 5, 25,19. Certains nœud pose-t-il des soucis ?"
   ]
  },
  {
   "cell_type": "markdown",
   "id": "1f8dc861",
   "metadata": {},
   "source": [
    "25 qui est égal est impossible à insérer, il n'existe pas de recherche avec = (uniquement > <)"
   ]
  },
  {
   "cell_type": "markdown",
   "id": "779755d0",
   "metadata": {},
   "source": [
    "3) Effectuer le parcours infixe de l’arbre ainsi obtenu. Que remarquez-vous ?"
   ]
  },
  {
   "cell_type": "markdown",
   "id": "43da459f",
   "metadata": {},
   "source": [
    "au niveau du 12 on ne peut pas repartir du noeud de droite"
   ]
  },
  {
   "cell_type": "code",
   "execution_count": 1,
   "id": "67ee95be",
   "metadata": {},
   "outputs": [],
   "source": [
    "from libTree import Leaf, tree_from_list\n",
    "import random\n",
    "import time\n",
    "\n",
    "import sys\n",
    "sys.setrecursionlimit(20000)\n"
   ]
  },
  {
   "cell_type": "code",
   "execution_count": 2,
   "id": "e5737a1c",
   "metadata": {},
   "outputs": [],
   "source": [
    "\n",
    "root = Leaf(20).add_left(\n",
    "          Leaf(5).add_left(Leaf(3))\n",
    "              .add_right(\n",
    "                Leaf(12)\n",
    "                    .add_left(Leaf(8).add_left(Leaf(6)))\n",
    "                    .add_right(Leaf(13))\n",
    "            )\n",
    "        ).add_right(\n",
    "            Leaf(25).add_left(Leaf(21)).add_left(Leaf(28))\n",
    "        )"
   ]
  },
  {
   "cell_type": "code",
   "execution_count": 3,
   "metadata": {
    "tags": []
   },
   "outputs": [
    {
     "name": "stdout",
     "output_type": "stream",
     "text": [
      "20\n",
      "5\n",
      "3\n",
      "12\n",
      "8\n",
      "6\n",
      "13\n",
      "25\n",
      "28\n",
      "========\n",
      "3\n",
      "5\n",
      "6\n",
      "8\n",
      "12\n",
      "13\n",
      "20\n",
      "28\n",
      "25\n"
     ]
    }
   ],
   "source": [
    "root.dump()\n",
    "print(\"========\")\n",
    "root.infix_dump()"
   ]
  },
  {
   "cell_type": "code",
   "execution_count": 4,
   "metadata": {},
   "outputs": [
    {
     "name": "stdout",
     "output_type": "stream",
     "text": [
      "time bin sort :  0.622162375 True\n",
      "time bin sort :  0.636537833 True\n"
     ]
    }
   ],
   "source": [
    "# Search\n",
    "\n",
    "# Simple\n",
    "randomlist = []\n",
    "for i in range(0,10000):\n",
    "    n = random.randint(1,100)\n",
    "    randomlist.append(n)\n",
    "\n",
    "# Simple\n",
    "t1 = time.perf_counter()\n",
    "finded = False\n",
    "for i in range(5,100):\n",
    "    finded = i in randomlist\n",
    "    if finded == True:\n",
    "        break\n",
    "print(\"time bin sort : \", t1, finded)\n",
    "\n",
    "# using binary search\n",
    "tree_version = tree_from_list(None, randomlist)\n",
    "t2 = time.perf_counter()\n",
    "finded = False\n",
    "for i in range(5,100):\n",
    "    finded = tree_version.search(i)\n",
    "    if finded == True:\n",
    "        break\n",
    "\n",
    "print(\"time bin sort : \", t2, finded)"
   ]
  },
  {
   "cell_type": "code",
   "execution_count": 5,
   "id": "19e4b9ba",
   "metadata": {},
   "outputs": [
    {
     "name": "stdout",
     "output_type": "stream",
     "text": [
      "time bin sort :  0.655316625\n",
      "time native sort :  0.6554175\n"
     ]
    }
   ],
   "source": [
    "# Sort\n",
    "t2 = time.perf_counter()\n",
    "tree_from_list(None, randomlist)\n",
    "print(\"time bin sort : \", t2)\n",
    "\n",
    "t1 = time.perf_counter()\n",
    "randomlist.sort()\n",
    "print(\"time native sort : \", t1)"
   ]
  },
  {
   "cell_type": "markdown",
   "id": "005ce684",
   "metadata": {},
   "source": []
  }
 ],
 "metadata": {
  "interpreter": {
   "hash": "e7cb1b9ae4d417fedf7f40a8eec98f7cfbd359e096bd857395a915f4609834ce"
  },
  "kernelspec": {
   "display_name": "Python 3.8.6 64-bit",
   "language": "python",
   "name": "python3"
  },
  "language_info": {
   "codemirror_mode": {
    "name": "ipython",
    "version": 3
   },
   "file_extension": ".py",
   "mimetype": "text/x-python",
   "name": "python",
   "nbconvert_exporter": "python",
   "pygments_lexer": "ipython3",
   "version": "3.8.11"
  }
 },
 "nbformat": 4,
 "nbformat_minor": 5
}
