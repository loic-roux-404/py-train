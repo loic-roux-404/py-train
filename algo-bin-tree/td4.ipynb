{
 "cells": [
  {
   "cell_type": "markdown",
   "metadata": {},
   "source": [
    "# Exercice 1\n",
    "\n",
    "Calculer la hauteur du sous-arbre gauche et du sous arbre droit de la racine. En déduire le facteur d'équilibrage de la racine de cet arbre. En désuire si cet arbre est équilibré ou non ?\n",
    "\n",
    "            20\n",
    "            /\\\n",
    "           5  25\n",
    "          /\\  /\\\n",
    "         3 12 21 28\n",
    "           /\\\n",
    "          6 13"
   ]
  },
  {
   "cell_type": "markdown",
   "metadata": {},
   "source": [
    "hauteur arbre droit : 2\n",
    "hauteur arbre gauche : 3"
   ]
  },
  {
   "cell_type": "code",
   "execution_count": 1,
   "metadata": {},
   "outputs": [],
   "source": [
    "from libTree import Leaf, rotate_node_left"
   ]
  },
  {
   "cell_type": "code",
   "execution_count": 2,
   "metadata": {},
   "outputs": [
    {
     "name": "stdout",
     "output_type": "stream",
     "text": [
      "\n",
      "    ________20\n",
      "   /          \\\n",
      "  5__          25\n",
      " /   \\           \\\n",
      "3     12          28\n",
      "     /  \\\n",
      "    6    13\n",
      "\n"
     ]
    }
   ],
   "source": [
    "l = Leaf(20).add_left(\n",
    "      Leaf(5).add_left(\n",
    "        Leaf(3)\n",
    "      ).add_right(\n",
    "          Leaf(12).add_left(\n",
    "            Leaf(6)\n",
    "          ).add_right(\n",
    "            Leaf(13)\n",
    "          )\n",
    "      )\n",
    ").add_right(\n",
    "  Leaf(25).add_right(Leaf(28))\n",
    ")\n",
    "\n",
    "equilibrated = Leaf(20).add_left(\n",
    "                  Leaf(2).add_left(Leaf(1))\n",
    "               ).add_right(\n",
    "                  Leaf(5).add_right(Leaf(3))\n",
    "               )\n",
    "print(l.root_node())"
   ]
  },
  {
   "cell_type": "code",
   "execution_count": 3,
   "metadata": {},
   "outputs": [
    {
     "name": "stdout",
     "output_type": "stream",
     "text": [
      "counted 3\n"
     ]
    }
   ],
   "source": [
    "def count_tree(l: 'Leaf', level = 0):\n",
    "    if l == None:\n",
    "        return level\n",
    "\n",
    "    if l.right or l.left:\n",
    "        level += 1\n",
    "\n",
    "    levelR = count_tree(l.right, level)\n",
    "\n",
    "    levelL = count_tree(l.left, level)\n",
    "\n",
    "    return levelL if levelL > levelR else levelR\n",
    "\n",
    "\n",
    "\n",
    "print(\"counted\",  count_tree(l.root_node()))"
   ]
  },
  {
   "cell_type": "markdown",
   "metadata": {},
   "source": [
    " Implémenter, grâce à la méthode précédente, une méthode indiquant si l’arbre est un arbre équilibré"
   ]
  },
  {
   "cell_type": "code",
   "execution_count": 4,
   "metadata": {},
   "outputs": [
    {
     "name": "stdout",
     "output_type": "stream",
     "text": [
      "Tree not equilibrated\n",
      "False\n",
      "Tree equilibrated\n",
      "True\n"
     ]
    }
   ],
   "source": [
    "def is_balanced_tree(l: Leaf, verbose = False):\n",
    "    if count_tree(l.left) == count_tree(l.right):\n",
    "        print('%s' % (\"Tree equilibrated\" if verbose else \"\"))\n",
    "        return True\n",
    "\n",
    "    print('%s' % (\"Tree not equilibrated\" if verbose else \"\"))\n",
    "    return False\n",
    "\n",
    "print(is_balanced_tree(l.root_node(), True))\n",
    "\n",
    "print(is_balanced_tree(equilibrated, True))"
   ]
  },
  {
   "cell_type": "code",
   "execution_count": 5,
   "metadata": {},
   "outputs": [
    {
     "name": "stdout",
     "output_type": "stream",
     "text": [
      "\n",
      "5\n",
      " \\\n",
      "  4\n",
      "   \\\n",
      "    3\n",
      "\n",
      "\n",
      "  4\n",
      " / \\\n",
      "5   3\n",
      "\n"
     ]
    }
   ],
   "source": [
    "# rotate implementation\n",
    "\n",
    "to_balance = Leaf(5).add_right(Leaf(4).add_right(Leaf(3)))\n",
    "print(to_balance)\n",
    "print(rotate_node_left(to_balance))\n"
   ]
  }
 ],
 "metadata": {
  "interpreter": {
   "hash": "e7cb1b9ae4d417fedf7f40a8eec98f7cfbd359e096bd857395a915f4609834ce"
  },
  "kernelspec": {
   "display_name": "Python 3.8.11 64-bit ('base': conda)",
   "language": "python",
   "name": "python3"
  },
  "language_info": {
   "codemirror_mode": {
    "name": "ipython",
    "version": 3
   },
   "file_extension": ".py",
   "mimetype": "text/x-python",
   "name": "python",
   "nbconvert_exporter": "python",
   "pygments_lexer": "ipython3",
   "version": "3.9.9"
  },
  "orig_nbformat": 4
 },
 "nbformat": 4,
 "nbformat_minor": 2
}
