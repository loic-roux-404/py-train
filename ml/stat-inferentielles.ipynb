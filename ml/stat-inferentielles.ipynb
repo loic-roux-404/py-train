{
 "cells": [
  {
   "attachments": {},
   "cell_type": "markdown",
   "metadata": {},
   "source": [
    "# 1st : Chips"
   ]
  },
  {
   "cell_type": "code",
   "execution_count": 57,
   "metadata": {},
   "outputs": [],
   "source": [
    "import numpy as np\n",
    "import pandas as pd\n",
    "import seaborn as sns\n",
    "from scipy.stats import chisquare, ttest_1samp\n",
    "import scipy.stats as stat\n",
    "import matplotlib.pyplot as plt"
   ]
  },
  {
   "cell_type": "code",
   "execution_count": 58,
   "metadata": {},
   "outputs": [
    {
     "data": {
      "text/html": [
       "<div>\n",
       "<style scoped>\n",
       "    .dataframe tbody tr th:only-of-type {\n",
       "        vertical-align: middle;\n",
       "    }\n",
       "\n",
       "    .dataframe tbody tr th {\n",
       "        vertical-align: top;\n",
       "    }\n",
       "\n",
       "    .dataframe thead th {\n",
       "        text-align: right;\n",
       "    }\n",
       "</style>\n",
       "<table border=\"1\" class=\"dataframe\">\n",
       "  <thead>\n",
       "    <tr style=\"text-align: right;\">\n",
       "      <th></th>\n",
       "      <th>Preference</th>\n",
       "      <th>Sale</th>\n",
       "      <th>Sucre</th>\n",
       "      <th>Acidite</th>\n",
       "      <th>Croustillant</th>\n",
       "    </tr>\n",
       "  </thead>\n",
       "  <tbody>\n",
       "    <tr>\n",
       "      <th>0</th>\n",
       "      <td>1</td>\n",
       "      <td>3</td>\n",
       "      <td>3</td>\n",
       "      <td>3</td>\n",
       "      <td>3</td>\n",
       "    </tr>\n",
       "    <tr>\n",
       "      <th>1</th>\n",
       "      <td>1</td>\n",
       "      <td>1</td>\n",
       "      <td>2</td>\n",
       "      <td>3</td>\n",
       "      <td>1</td>\n",
       "    </tr>\n",
       "    <tr>\n",
       "      <th>2</th>\n",
       "      <td>1</td>\n",
       "      <td>2</td>\n",
       "      <td>2</td>\n",
       "      <td>5</td>\n",
       "      <td>1</td>\n",
       "    </tr>\n",
       "    <tr>\n",
       "      <th>3</th>\n",
       "      <td>1</td>\n",
       "      <td>1</td>\n",
       "      <td>4</td>\n",
       "      <td>3</td>\n",
       "      <td>1</td>\n",
       "    </tr>\n",
       "    <tr>\n",
       "      <th>4</th>\n",
       "      <td>2</td>\n",
       "      <td>3</td>\n",
       "      <td>3</td>\n",
       "      <td>2</td>\n",
       "      <td>2</td>\n",
       "    </tr>\n",
       "    <tr>\n",
       "      <th>...</th>\n",
       "      <td>...</td>\n",
       "      <td>...</td>\n",
       "      <td>...</td>\n",
       "      <td>...</td>\n",
       "      <td>...</td>\n",
       "    </tr>\n",
       "    <tr>\n",
       "      <th>95</th>\n",
       "      <td>9</td>\n",
       "      <td>3</td>\n",
       "      <td>2</td>\n",
       "      <td>3</td>\n",
       "      <td>2</td>\n",
       "    </tr>\n",
       "    <tr>\n",
       "      <th>96</th>\n",
       "      <td>9</td>\n",
       "      <td>3</td>\n",
       "      <td>3</td>\n",
       "      <td>2</td>\n",
       "      <td>4</td>\n",
       "    </tr>\n",
       "    <tr>\n",
       "      <th>97</th>\n",
       "      <td>9</td>\n",
       "      <td>3</td>\n",
       "      <td>3</td>\n",
       "      <td>3</td>\n",
       "      <td>4</td>\n",
       "    </tr>\n",
       "    <tr>\n",
       "      <th>98</th>\n",
       "      <td>9</td>\n",
       "      <td>3</td>\n",
       "      <td>3</td>\n",
       "      <td>3</td>\n",
       "      <td>3</td>\n",
       "    </tr>\n",
       "    <tr>\n",
       "      <th>99</th>\n",
       "      <td>9</td>\n",
       "      <td>3</td>\n",
       "      <td>4</td>\n",
       "      <td>3</td>\n",
       "      <td>5</td>\n",
       "    </tr>\n",
       "  </tbody>\n",
       "</table>\n",
       "<p>100 rows × 5 columns</p>\n",
       "</div>"
      ],
      "text/plain": [
       "    Preference  Sale  Sucre  Acidite  Croustillant\n",
       "0            1     3      3        3             3\n",
       "1            1     1      2        3             1\n",
       "2            1     2      2        5             1\n",
       "3            1     1      4        3             1\n",
       "4            2     3      3        2             2\n",
       "..         ...   ...    ...      ...           ...\n",
       "95           9     3      2        3             2\n",
       "96           9     3      3        2             4\n",
       "97           9     3      3        3             4\n",
       "98           9     3      3        3             3\n",
       "99           9     3      4        3             5\n",
       "\n",
       "[100 rows x 5 columns]"
      ]
     },
     "execution_count": 58,
     "metadata": {},
     "output_type": "execute_result"
    }
   ],
   "source": [
    "data = pd.read_csv('~/Documents/Ia-Datasets/data2.csv', sep=';')\n",
    "\n",
    "data"
   ]
  },
  {
   "cell_type": "code",
   "execution_count": 59,
   "metadata": {},
   "outputs": [
    {
     "data": {
      "image/png": "[encoded data removed]",
      "text/plain": [
       "<Figure size 1000x1000 with 25 Axes>"
      ]
     },
     "metadata": {},
     "output_type": "display_data"
    }
   ],
   "source": [
    "pd.plotting.scatter_matrix(data, alpha=0.3, figsize=(10, 10), diagonal='kde');"
   ]
  },
  {
   "cell_type": "code",
   "execution_count": 60,
   "metadata": {},
   "outputs": [
    {
     "data": {
      "text/html": [
       "<div>\n",
       "<style scoped>\n",
       "    .dataframe tbody tr th:only-of-type {\n",
       "        vertical-align: middle;\n",
       "    }\n",
       "\n",
       "    .dataframe tbody tr th {\n",
       "        vertical-align: top;\n",
       "    }\n",
       "\n",
       "    .dataframe thead th {\n",
       "        text-align: right;\n",
       "    }\n",
       "</style>\n",
       "<table border=\"1\" class=\"dataframe\">\n",
       "  <thead>\n",
       "    <tr style=\"text-align: right;\">\n",
       "      <th></th>\n",
       "      <th>Preference</th>\n",
       "      <th>Sale</th>\n",
       "      <th>Sucre</th>\n",
       "      <th>Acidite</th>\n",
       "      <th>Croustillant</th>\n",
       "    </tr>\n",
       "  </thead>\n",
       "  <tbody>\n",
       "    <tr>\n",
       "      <th>Preference</th>\n",
       "      <td>1.000000</td>\n",
       "      <td>0.280465</td>\n",
       "      <td>0.031249</td>\n",
       "      <td>-0.063211</td>\n",
       "      <td>0.438298</td>\n",
       "    </tr>\n",
       "    <tr>\n",
       "      <th>Sale</th>\n",
       "      <td>0.280465</td>\n",
       "      <td>1.000000</td>\n",
       "      <td>-0.124927</td>\n",
       "      <td>-0.100368</td>\n",
       "      <td>0.065241</td>\n",
       "    </tr>\n",
       "    <tr>\n",
       "      <th>Sucre</th>\n",
       "      <td>0.031249</td>\n",
       "      <td>-0.124927</td>\n",
       "      <td>1.000000</td>\n",
       "      <td>-0.237212</td>\n",
       "      <td>-0.068730</td>\n",
       "    </tr>\n",
       "    <tr>\n",
       "      <th>Acidite</th>\n",
       "      <td>-0.063211</td>\n",
       "      <td>-0.100368</td>\n",
       "      <td>-0.237212</td>\n",
       "      <td>1.000000</td>\n",
       "      <td>0.132331</td>\n",
       "    </tr>\n",
       "    <tr>\n",
       "      <th>Croustillant</th>\n",
       "      <td>0.438298</td>\n",
       "      <td>0.065241</td>\n",
       "      <td>-0.068730</td>\n",
       "      <td>0.132331</td>\n",
       "      <td>1.000000</td>\n",
       "    </tr>\n",
       "  </tbody>\n",
       "</table>\n",
       "</div>"
      ],
      "text/plain": [
       "              Preference      Sale     Sucre   Acidite  Croustillant\n",
       "Preference      1.000000  0.280465  0.031249 -0.063211      0.438298\n",
       "Sale            0.280465  1.000000 -0.124927 -0.100368      0.065241\n",
       "Sucre           0.031249 -0.124927  1.000000 -0.237212     -0.068730\n",
       "Acidite        -0.063211 -0.100368 -0.237212  1.000000      0.132331\n",
       "Croustillant    0.438298  0.065241 -0.068730  0.132331      1.000000"
      ]
     },
     "execution_count": 60,
     "metadata": {},
     "output_type": "execute_result"
    }
   ],
   "source": [
    "corr = data.corr()\n",
    "\n",
    "corr"
   ]
  },
  {
   "cell_type": "code",
   "execution_count": 61,
   "metadata": {},
   "outputs": [
    {
     "data": {
      "text/html": [
       "<style type=\"text/css\">\n",
       "#T_870ba_row0_col0, #T_870ba_row1_col1, #T_870ba_row2_col2, #T_870ba_row3_col3, #T_870ba_row4_col4 {\n",
       "  background-color: #023858;\n",
       "  color: #f1f1f1;\n",
       "}\n",
       "#T_870ba_row0_col1 {\n",
       "  background-color: #abbfdc;\n",
       "  color: #000000;\n",
       "}\n",
       "#T_870ba_row0_col2 {\n",
       "  background-color: #d8d7e9;\n",
       "  color: #000000;\n",
       "}\n",
       "#T_870ba_row0_col3 {\n",
       "  background-color: #e8e4f0;\n",
       "  color: #000000;\n",
       "}\n",
       "#T_870ba_row0_col4 {\n",
       "  background-color: #7eadd1;\n",
       "  color: #f1f1f1;\n",
       "}\n",
       "#T_870ba_row1_col0 {\n",
       "  background-color: #b8c6e0;\n",
       "  color: #000000;\n",
       "}\n",
       "#T_870ba_row1_col2 {\n",
       "  background-color: #f1ebf5;\n",
       "  color: #000000;\n",
       "}\n",
       "#T_870ba_row1_col3 {\n",
       "  background-color: #eee9f3;\n",
       "  color: #000000;\n",
       "}\n",
       "#T_870ba_row1_col4 {\n",
       "  background-color: #ece7f2;\n",
       "  color: #000000;\n",
       "}\n",
       "#T_870ba_row2_col0 {\n",
       "  background-color: #f2ecf5;\n",
       "  color: #000000;\n",
       "}\n",
       "#T_870ba_row2_col1, #T_870ba_row2_col3, #T_870ba_row2_col4, #T_870ba_row3_col0, #T_870ba_row3_col2 {\n",
       "  background-color: #fff7fb;\n",
       "  color: #000000;\n",
       "}\n",
       "#T_870ba_row3_col1 {\n",
       "  background-color: #fcf4fa;\n",
       "  color: #000000;\n",
       "}\n",
       "#T_870ba_row3_col4 {\n",
       "  background-color: #dedcec;\n",
       "  color: #000000;\n",
       "}\n",
       "#T_870ba_row4_col0 {\n",
       "  background-color: #80aed2;\n",
       "  color: #f1f1f1;\n",
       "}\n",
       "#T_870ba_row4_col1 {\n",
       "  background-color: #e2dfee;\n",
       "  color: #000000;\n",
       "}\n",
       "#T_870ba_row4_col2 {\n",
       "  background-color: #eae6f1;\n",
       "  color: #000000;\n",
       "}\n",
       "#T_870ba_row4_col3 {\n",
       "  background-color: #c0c9e2;\n",
       "  color: #000000;\n",
       "}\n",
       "</style>\n",
       "<table id=\"T_870ba\">\n",
       "  <thead>\n",
       "    <tr>\n",
       "      <th class=\"blank level0\" >&nbsp;</th>\n",
       "      <th id=\"T_870ba_level0_col0\" class=\"col_heading level0 col0\" >Preference</th>\n",
       "      <th id=\"T_870ba_level0_col1\" class=\"col_heading level0 col1\" >Sale</th>\n",
       "      <th id=\"T_870ba_level0_col2\" class=\"col_heading level0 col2\" >Sucre</th>\n",
       "      <th id=\"T_870ba_level0_col3\" class=\"col_heading level0 col3\" >Acidite</th>\n",
       "      <th id=\"T_870ba_level0_col4\" class=\"col_heading level0 col4\" >Croustillant</th>\n",
       "    </tr>\n",
       "  </thead>\n",
       "  <tbody>\n",
       "    <tr>\n",
       "      <th id=\"T_870ba_level0_row0\" class=\"row_heading level0 row0\" >Preference</th>\n",
       "      <td id=\"T_870ba_row0_col0\" class=\"data row0 col0\" >1.00</td>\n",
       "      <td id=\"T_870ba_row0_col1\" class=\"data row0 col1\" >0.28</td>\n",
       "      <td id=\"T_870ba_row0_col2\" class=\"data row0 col2\" >0.03</td>\n",
       "      <td id=\"T_870ba_row0_col3\" class=\"data row0 col3\" >-0.06</td>\n",
       "      <td id=\"T_870ba_row0_col4\" class=\"data row0 col4\" >0.44</td>\n",
       "    </tr>\n",
       "    <tr>\n",
       "      <th id=\"T_870ba_level0_row1\" class=\"row_heading level0 row1\" >Sale</th>\n",
       "      <td id=\"T_870ba_row1_col0\" class=\"data row1 col0\" >0.28</td>\n",
       "      <td id=\"T_870ba_row1_col1\" class=\"data row1 col1\" >1.00</td>\n",
       "      <td id=\"T_870ba_row1_col2\" class=\"data row1 col2\" >-0.12</td>\n",
       "      <td id=\"T_870ba_row1_col3\" class=\"data row1 col3\" >-0.10</td>\n",
       "      <td id=\"T_870ba_row1_col4\" class=\"data row1 col4\" >0.07</td>\n",
       "    </tr>\n",
       "    <tr>\n",
       "      <th id=\"T_870ba_level0_row2\" class=\"row_heading level0 row2\" >Sucre</th>\n",
       "      <td id=\"T_870ba_row2_col0\" class=\"data row2 col0\" >0.03</td>\n",
       "      <td id=\"T_870ba_row2_col1\" class=\"data row2 col1\" >-0.12</td>\n",
       "      <td id=\"T_870ba_row2_col2\" class=\"data row2 col2\" >1.00</td>\n",
       "      <td id=\"T_870ba_row2_col3\" class=\"data row2 col3\" >-0.24</td>\n",
       "      <td id=\"T_870ba_row2_col4\" class=\"data row2 col4\" >-0.07</td>\n",
       "    </tr>\n",
       "    <tr>\n",
       "      <th id=\"T_870ba_level0_row3\" class=\"row_heading level0 row3\" >Acidite</th>\n",
       "      <td id=\"T_870ba_row3_col0\" class=\"data row3 col0\" >-0.06</td>\n",
       "      <td id=\"T_870ba_row3_col1\" class=\"data row3 col1\" >-0.10</td>\n",
       "      <td id=\"T_870ba_row3_col2\" class=\"data row3 col2\" >-0.24</td>\n",
       "      <td id=\"T_870ba_row3_col3\" class=\"data row3 col3\" >1.00</td>\n",
       "      <td id=\"T_870ba_row3_col4\" class=\"data row3 col4\" >0.13</td>\n",
       "    </tr>\n",
       "    <tr>\n",
       "      <th id=\"T_870ba_level0_row4\" class=\"row_heading level0 row4\" >Croustillant</th>\n",
       "      <td id=\"T_870ba_row4_col0\" class=\"data row4 col0\" >0.44</td>\n",
       "      <td id=\"T_870ba_row4_col1\" class=\"data row4 col1\" >0.07</td>\n",
       "      <td id=\"T_870ba_row4_col2\" class=\"data row4 col2\" >-0.07</td>\n",
       "      <td id=\"T_870ba_row4_col3\" class=\"data row4 col3\" >0.13</td>\n",
       "      <td id=\"T_870ba_row4_col4\" class=\"data row4 col4\" >1.00</td>\n",
       "    </tr>\n",
       "  </tbody>\n",
       "</table>\n"
      ],
      "text/plain": [
       "<pandas.io.formats.style.Styler at 0x157483820>"
      ]
     },
     "execution_count": 61,
     "metadata": {},
     "output_type": "execute_result"
    }
   ],
   "source": [
    "corr.style.background_gradient().format(\"{:.2f}\")"
   ]
  },
  {
   "cell_type": "code",
   "execution_count": 62,
   "metadata": {},
   "outputs": [
    {
     "data": {
      "text/html": [
       "<div>\n",
       "<style scoped>\n",
       "    .dataframe tbody tr th:only-of-type {\n",
       "        vertical-align: middle;\n",
       "    }\n",
       "\n",
       "    .dataframe tbody tr th {\n",
       "        vertical-align: top;\n",
       "    }\n",
       "\n",
       "    .dataframe thead th {\n",
       "        text-align: right;\n",
       "    }\n",
       "</style>\n",
       "<table border=\"1\" class=\"dataframe\">\n",
       "  <thead>\n",
       "    <tr style=\"text-align: right;\">\n",
       "      <th></th>\n",
       "      <th>score</th>\n",
       "    </tr>\n",
       "  </thead>\n",
       "  <tbody>\n",
       "    <tr>\n",
       "      <th>0</th>\n",
       "      <td>11</td>\n",
       "    </tr>\n",
       "    <tr>\n",
       "      <th>1</th>\n",
       "      <td>7</td>\n",
       "    </tr>\n",
       "    <tr>\n",
       "      <th>2</th>\n",
       "      <td>7</td>\n",
       "    </tr>\n",
       "    <tr>\n",
       "      <th>3</th>\n",
       "      <td>12</td>\n",
       "    </tr>\n",
       "    <tr>\n",
       "      <th>4</th>\n",
       "      <td>7</td>\n",
       "    </tr>\n",
       "    <tr>\n",
       "      <th>...</th>\n",
       "      <td>...</td>\n",
       "    </tr>\n",
       "    <tr>\n",
       "      <th>65</th>\n",
       "      <td>10</td>\n",
       "    </tr>\n",
       "    <tr>\n",
       "      <th>66</th>\n",
       "      <td>8</td>\n",
       "    </tr>\n",
       "    <tr>\n",
       "      <th>67</th>\n",
       "      <td>8</td>\n",
       "    </tr>\n",
       "    <tr>\n",
       "      <th>68</th>\n",
       "      <td>6</td>\n",
       "    </tr>\n",
       "    <tr>\n",
       "      <th>69</th>\n",
       "      <td>9</td>\n",
       "    </tr>\n",
       "  </tbody>\n",
       "</table>\n",
       "<p>70 rows × 1 columns</p>\n",
       "</div>"
      ],
      "text/plain": [
       "    score\n",
       "0      11\n",
       "1       7\n",
       "2       7\n",
       "3      12\n",
       "4       7\n",
       "..    ...\n",
       "65     10\n",
       "66      8\n",
       "67      8\n",
       "68      6\n",
       "69      9\n",
       "\n",
       "[70 rows x 1 columns]"
      ]
     },
     "execution_count": 62,
     "metadata": {},
     "output_type": "execute_result"
    }
   ],
   "source": [
    "scores = pd.read_csv('~/Documents/Ia-Datasets/scores/score-1.csv', sep=';', header=None)\n",
    "scores.columns = ['score']\n",
    "scores"
   ]
  },
  {
   "cell_type": "code",
   "execution_count": 63,
   "metadata": {},
   "outputs": [
    {
     "data": {
      "image/png": "[encoded data removed]",
      "text/plain": [
       "<Figure size 640x480 with 1 Axes>"
      ]
     },
     "metadata": {},
     "output_type": "display_data"
    }
   ],
   "source": [
    "# regarder comment se comporte la distribution. Je devine une loi normale.\n",
    "\n",
    "sns.kdeplot(scores);"
   ]
  },
  {
   "cell_type": "code",
   "execution_count": 64,
   "metadata": {},
   "outputs": [
    {
     "data": {
      "text/plain": [
       "DescribeResult(nobs=70, minmax=(array([4]), array([14])), mean=array([8.31428571]), variance=array([4.16066253]), skewness=array([0.23933309]), kurtosis=array([-0.26155924]))"
      ]
     },
     "execution_count": 64,
     "metadata": {},
     "output_type": "execute_result"
    },
    {
     "data": {
      "image/png": "[encoded data removed]",
      "text/plain": [
       "<Figure size 640x480 with 1 Axes>"
      ]
     },
     "metadata": {},
     "output_type": "display_data"
    }
   ],
   "source": [
    "# Noté les positionnement des valeurs.\n",
    "plt.boxplot(scores['score']);\n",
    "\n",
    "stat.describe(scores)"
   ]
  },
  {
   "cell_type": "code",
   "execution_count": 65,
   "metadata": {},
   "outputs": [
    {
     "data": {
      "text/plain": [
       "NormaltestResult(statistic=array([0.80698531]), pvalue=array([0.66798293]))"
      ]
     },
     "execution_count": 65,
     "metadata": {},
     "output_type": "execute_result"
    }
   ],
   "source": [
    "stat.normaltest(scores)\n",
    "\n",
    "# 0.66 > 0.05 : distribution normale"
   ]
  },
  {
   "attachments": {},
   "cell_type": "markdown",
   "metadata": {},
   "source": [
    "#### Un seul echantillon à comparer à une norme qui est 7"
   ]
  },
  {
   "attachments": {},
   "cell_type": "markdown",
   "metadata": {},
   "source": [
    "#### Est-ce que ce score est signigicatif"
   ]
  },
  {
   "cell_type": "code",
   "execution_count": 66,
   "metadata": {},
   "outputs": [
    {
     "data": {
      "text/plain": [
       "TtestResult(statistic=array([5.3908539]), pvalue=array([9.2290647e-07]), df=array([69]))"
      ]
     },
     "execution_count": 66,
     "metadata": {},
     "output_type": "execute_result"
    }
   ],
   "source": [
    "stat.ttest_1samp(scores, popmean=7)"
   ]
  },
  {
   "attachments": {},
   "cell_type": "markdown",
   "metadata": {},
   "source": [
    "Cette moyenne est significative si elle est éloignée de la moyenne de la population.\n",
    "Ici elle l'est énormément."
   ]
  },
  {
   "cell_type": "code",
   "execution_count": 67,
   "metadata": {},
   "outputs": [
    {
     "data": {
      "text/html": [
       "<div>\n",
       "<style scoped>\n",
       "    .dataframe tbody tr th:only-of-type {\n",
       "        vertical-align: middle;\n",
       "    }\n",
       "\n",
       "    .dataframe tbody tr th {\n",
       "        vertical-align: top;\n",
       "    }\n",
       "\n",
       "    .dataframe thead th {\n",
       "        text-align: right;\n",
       "    }\n",
       "</style>\n",
       "<table border=\"1\" class=\"dataframe\">\n",
       "  <thead>\n",
       "    <tr style=\"text-align: right;\">\n",
       "      <th></th>\n",
       "      <th>0</th>\n",
       "      <th>1</th>\n",
       "    </tr>\n",
       "  </thead>\n",
       "  <tbody>\n",
       "    <tr>\n",
       "      <th>43</th>\n",
       "      <td>457</td>\n",
       "      <td>NaN</td>\n",
       "    </tr>\n",
       "    <tr>\n",
       "      <th>44</th>\n",
       "      <td>350</td>\n",
       "      <td>NaN</td>\n",
       "    </tr>\n",
       "    <tr>\n",
       "      <th>45</th>\n",
       "      <td>415</td>\n",
       "      <td>NaN</td>\n",
       "    </tr>\n",
       "    <tr>\n",
       "      <th>46</th>\n",
       "      <td>465</td>\n",
       "      <td>NaN</td>\n",
       "    </tr>\n",
       "    <tr>\n",
       "      <th>47</th>\n",
       "      <td>474</td>\n",
       "      <td>NaN</td>\n",
       "    </tr>\n",
       "    <tr>\n",
       "      <th>48</th>\n",
       "      <td>578</td>\n",
       "      <td>NaN</td>\n",
       "    </tr>\n",
       "    <tr>\n",
       "      <th>49</th>\n",
       "      <td>427</td>\n",
       "      <td>NaN</td>\n",
       "    </tr>\n",
       "    <tr>\n",
       "      <th>50</th>\n",
       "      <td>376</td>\n",
       "      <td>NaN</td>\n",
       "    </tr>\n",
       "    <tr>\n",
       "      <th>51</th>\n",
       "      <td>477</td>\n",
       "      <td>NaN</td>\n",
       "    </tr>\n",
       "    <tr>\n",
       "      <th>52</th>\n",
       "      <td>445</td>\n",
       "      <td>NaN</td>\n",
       "    </tr>\n",
       "  </tbody>\n",
       "</table>\n",
       "</div>"
      ],
      "text/plain": [
       "      0    1\n",
       "43  457  NaN\n",
       "44  350  NaN\n",
       "45  415  NaN\n",
       "46  465  NaN\n",
       "47  474  NaN\n",
       "48  578  NaN\n",
       "49  427  NaN\n",
       "50  376  NaN\n",
       "51  477  NaN\n",
       "52  445  NaN"
      ]
     },
     "execution_count": 67,
     "metadata": {},
     "output_type": "execute_result"
    }
   ],
   "source": [
    "scores3 = pd.read_csv('~/Documents/Ia-Datasets/scores/score-3.csv', sep=';', header=None)\n",
    "\n",
    "scores3.tail(10)"
   ]
  },
  {
   "cell_type": "code",
   "execution_count": 75,
   "metadata": {},
   "outputs": [
    {
     "ename": "ValueError",
     "evalue": "Length mismatch: Expected axis has 1 elements, new values have 2 elements",
     "output_type": "error",
     "traceback": [
      "\u001b[0;31m---------------------------------------------------------------------------\u001b[0m",
      "\u001b[0;31mValueError\u001b[0m                                Traceback (most recent call last)",
      "Cell \u001b[0;32mIn[75], line 1\u001b[0m\n\u001b[0;32m----> 1\u001b[0m scores\u001b[39m.\u001b[39;49mcolumns \u001b[39m=\u001b[39m [\u001b[39m'\u001b[39m\u001b[39mGROUPE1\u001b[39m\u001b[39m'\u001b[39m, \u001b[39m'\u001b[39m\u001b[39mGROUPE2\u001b[39m\u001b[39m'\u001b[39m]\n\u001b[1;32m      3\u001b[0m scores3[\u001b[39m'\u001b[39m\u001b[39mGROUPE1\u001b[39m\u001b[39m'\u001b[39m]\u001b[39m.\u001b[39mdropna(inplace\u001b[39m=\u001b[39m\u001b[39mTrue\u001b[39;00m)\n\u001b[1;32m      4\u001b[0m scores3[\u001b[39m'\u001b[39m\u001b[39mGROUPE2\u001b[39m\u001b[39m'\u001b[39m]\u001b[39m.\u001b[39mdropna(inplace\u001b[39m=\u001b[39m\u001b[39mTrue\u001b[39;00m)\n",
      "File \u001b[0;32m~/mambaforge/envs/ml/lib/python3.10/site-packages/pandas/core/generic.py:6002\u001b[0m, in \u001b[0;36mNDFrame.__setattr__\u001b[0;34m(self, name, value)\u001b[0m\n\u001b[1;32m   6000\u001b[0m \u001b[39mtry\u001b[39;00m:\n\u001b[1;32m   6001\u001b[0m     \u001b[39mobject\u001b[39m\u001b[39m.\u001b[39m\u001b[39m__getattribute__\u001b[39m(\u001b[39mself\u001b[39m, name)\n\u001b[0;32m-> 6002\u001b[0m     \u001b[39mreturn\u001b[39;00m \u001b[39mobject\u001b[39;49m\u001b[39m.\u001b[39;49m\u001b[39m__setattr__\u001b[39;49m(\u001b[39mself\u001b[39;49m, name, value)\n\u001b[1;32m   6003\u001b[0m \u001b[39mexcept\u001b[39;00m \u001b[39mAttributeError\u001b[39;00m:\n\u001b[1;32m   6004\u001b[0m     \u001b[39mpass\u001b[39;00m\n",
      "File \u001b[0;32m~/mambaforge/envs/ml/lib/python3.10/site-packages/pandas/_libs/properties.pyx:69\u001b[0m, in \u001b[0;36mpandas._libs.properties.AxisProperty.__set__\u001b[0;34m()\u001b[0m\n",
      "File \u001b[0;32m~/mambaforge/envs/ml/lib/python3.10/site-packages/pandas/core/generic.py:730\u001b[0m, in \u001b[0;36mNDFrame._set_axis\u001b[0;34m(self, axis, labels)\u001b[0m\n\u001b[1;32m    725\u001b[0m \u001b[39m\u001b[39m\u001b[39m\"\"\"\u001b[39;00m\n\u001b[1;32m    726\u001b[0m \u001b[39mThis is called from the cython code when we set the `index` attribute\u001b[39;00m\n\u001b[1;32m    727\u001b[0m \u001b[39mdirectly, e.g. `series.index = [1, 2, 3]`.\u001b[39;00m\n\u001b[1;32m    728\u001b[0m \u001b[39m\"\"\"\u001b[39;00m\n\u001b[1;32m    729\u001b[0m labels \u001b[39m=\u001b[39m ensure_index(labels)\n\u001b[0;32m--> 730\u001b[0m \u001b[39mself\u001b[39;49m\u001b[39m.\u001b[39;49m_mgr\u001b[39m.\u001b[39;49mset_axis(axis, labels)\n\u001b[1;32m    731\u001b[0m \u001b[39mself\u001b[39m\u001b[39m.\u001b[39m_clear_item_cache()\n",
      "File \u001b[0;32m~/mambaforge/envs/ml/lib/python3.10/site-packages/pandas/core/internals/managers.py:225\u001b[0m, in \u001b[0;36mBaseBlockManager.set_axis\u001b[0;34m(self, axis, new_labels)\u001b[0m\n\u001b[1;32m    223\u001b[0m \u001b[39mdef\u001b[39;00m \u001b[39mset_axis\u001b[39m(\u001b[39mself\u001b[39m, axis: AxisInt, new_labels: Index) \u001b[39m-\u001b[39m\u001b[39m>\u001b[39m \u001b[39mNone\u001b[39;00m:\n\u001b[1;32m    224\u001b[0m     \u001b[39m# Caller is responsible for ensuring we have an Index object.\u001b[39;00m\n\u001b[0;32m--> 225\u001b[0m     \u001b[39mself\u001b[39;49m\u001b[39m.\u001b[39;49m_validate_set_axis(axis, new_labels)\n\u001b[1;32m    226\u001b[0m     \u001b[39mself\u001b[39m\u001b[39m.\u001b[39maxes[axis] \u001b[39m=\u001b[39m new_labels\n",
      "File \u001b[0;32m~/mambaforge/envs/ml/lib/python3.10/site-packages/pandas/core/internals/base.py:70\u001b[0m, in \u001b[0;36mDataManager._validate_set_axis\u001b[0;34m(self, axis, new_labels)\u001b[0m\n\u001b[1;32m     67\u001b[0m     \u001b[39mpass\u001b[39;00m\n\u001b[1;32m     69\u001b[0m \u001b[39melif\u001b[39;00m new_len \u001b[39m!=\u001b[39m old_len:\n\u001b[0;32m---> 70\u001b[0m     \u001b[39mraise\u001b[39;00m \u001b[39mValueError\u001b[39;00m(\n\u001b[1;32m     71\u001b[0m         \u001b[39mf\u001b[39m\u001b[39m\"\u001b[39m\u001b[39mLength mismatch: Expected axis has \u001b[39m\u001b[39m{\u001b[39;00mold_len\u001b[39m}\u001b[39;00m\u001b[39m elements, new \u001b[39m\u001b[39m\"\u001b[39m\n\u001b[1;32m     72\u001b[0m         \u001b[39mf\u001b[39m\u001b[39m\"\u001b[39m\u001b[39mvalues have \u001b[39m\u001b[39m{\u001b[39;00mnew_len\u001b[39m}\u001b[39;00m\u001b[39m elements\u001b[39m\u001b[39m\"\u001b[39m\n\u001b[1;32m     73\u001b[0m     )\n",
      "\u001b[0;31mValueError\u001b[0m: Length mismatch: Expected axis has 1 elements, new values have 2 elements"
     ]
    }
   ],
   "source": [
    "scores.columns = ['GROUPE1', 'GROUPE2']\n",
    "\n",
    "scores3['GROUPE1'].dropna(inplace=True)\n",
    "scores3['GROUPE2'].dropna(inplace=True)\n",
    "\n",
    "scores3.describe()\n"
   ]
  },
  {
   "cell_type": "code",
   "execution_count": null,
   "metadata": {},
   "outputs": [
    {
     "ename": "TypeError",
     "evalue": "'NoneType' object is not iterable",
     "output_type": "error",
     "traceback": [
      "\u001b[0;31m---------------------------------------------------------------------------\u001b[0m",
      "\u001b[0;31mTypeError\u001b[0m                                 Traceback (most recent call last)",
      "Cell \u001b[0;32mIn[69], line 1\u001b[0m\n\u001b[0;32m----> 1\u001b[0m sns\u001b[39m.\u001b[39;49mkdeplot(scores3);\n",
      "File \u001b[0;32m~/mambaforge/envs/ml/lib/python3.10/site-packages/seaborn/distributions.py:1717\u001b[0m, in \u001b[0;36mkdeplot\u001b[0;34m(data, x, y, hue, weights, palette, hue_order, hue_norm, color, fill, multiple, common_norm, common_grid, cumulative, bw_method, bw_adjust, warn_singular, log_scale, levels, thresh, gridsize, cut, clip, legend, cbar, cbar_ax, cbar_kws, ax, **kwargs)\u001b[0m\n\u001b[1;32m   1713\u001b[0m \u001b[39mif\u001b[39;00m p\u001b[39m.\u001b[39munivariate:\n\u001b[1;32m   1715\u001b[0m     plot_kws \u001b[39m=\u001b[39m kwargs\u001b[39m.\u001b[39mcopy()\n\u001b[0;32m-> 1717\u001b[0m     p\u001b[39m.\u001b[39;49mplot_univariate_density(\n\u001b[1;32m   1718\u001b[0m         multiple\u001b[39m=\u001b[39;49mmultiple,\n\u001b[1;32m   1719\u001b[0m         common_norm\u001b[39m=\u001b[39;49mcommon_norm,\n\u001b[1;32m   1720\u001b[0m         common_grid\u001b[39m=\u001b[39;49mcommon_grid,\n\u001b[1;32m   1721\u001b[0m         fill\u001b[39m=\u001b[39;49mfill,\n\u001b[1;32m   1722\u001b[0m         color\u001b[39m=\u001b[39;49mcolor,\n\u001b[1;32m   1723\u001b[0m         legend\u001b[39m=\u001b[39;49mlegend,\n\u001b[1;32m   1724\u001b[0m         warn_singular\u001b[39m=\u001b[39;49mwarn_singular,\n\u001b[1;32m   1725\u001b[0m         estimate_kws\u001b[39m=\u001b[39;49mestimate_kws,\n\u001b[1;32m   1726\u001b[0m         \u001b[39m*\u001b[39;49m\u001b[39m*\u001b[39;49mplot_kws,\n\u001b[1;32m   1727\u001b[0m     )\n\u001b[1;32m   1729\u001b[0m \u001b[39melse\u001b[39;00m:\n\u001b[1;32m   1731\u001b[0m     p\u001b[39m.\u001b[39mplot_bivariate_density(\n\u001b[1;32m   1732\u001b[0m         common_norm\u001b[39m=\u001b[39mcommon_norm,\n\u001b[1;32m   1733\u001b[0m         fill\u001b[39m=\u001b[39mfill,\n\u001b[0;32m   (...)\u001b[0m\n\u001b[1;32m   1743\u001b[0m         \u001b[39m*\u001b[39m\u001b[39m*\u001b[39mkwargs,\n\u001b[1;32m   1744\u001b[0m     )\n",
      "File \u001b[0;32m~/mambaforge/envs/ml/lib/python3.10/site-packages/seaborn/distributions.py:937\u001b[0m, in \u001b[0;36m_DistributionPlotter.plot_univariate_density\u001b[0;34m(self, multiple, common_norm, common_grid, warn_singular, fill, color, legend, estimate_kws, **plot_kws)\u001b[0m\n\u001b[1;32m    934\u001b[0m log_scale \u001b[39m=\u001b[39m \u001b[39mself\u001b[39m\u001b[39m.\u001b[39m_log_scaled(\u001b[39mself\u001b[39m\u001b[39m.\u001b[39mdata_variable)\n\u001b[1;32m    936\u001b[0m \u001b[39m# Do the computation\u001b[39;00m\n\u001b[0;32m--> 937\u001b[0m densities \u001b[39m=\u001b[39m \u001b[39mself\u001b[39;49m\u001b[39m.\u001b[39;49m_compute_univariate_density(\n\u001b[1;32m    938\u001b[0m     \u001b[39mself\u001b[39;49m\u001b[39m.\u001b[39;49mdata_variable,\n\u001b[1;32m    939\u001b[0m     common_norm,\n\u001b[1;32m    940\u001b[0m     common_grid,\n\u001b[1;32m    941\u001b[0m     estimate_kws,\n\u001b[1;32m    942\u001b[0m     log_scale,\n\u001b[1;32m    943\u001b[0m     warn_singular,\n\u001b[1;32m    944\u001b[0m )\n\u001b[1;32m    946\u001b[0m \u001b[39m# Adjust densities based on the `multiple` rule\u001b[39;00m\n\u001b[1;32m    947\u001b[0m densities, baselines \u001b[39m=\u001b[39m \u001b[39mself\u001b[39m\u001b[39m.\u001b[39m_resolve_multiple(densities, multiple)\n",
      "File \u001b[0;32m~/mambaforge/envs/ml/lib/python3.10/site-packages/seaborn/distributions.py:329\u001b[0m, in \u001b[0;36m_DistributionPlotter._compute_univariate_density\u001b[0;34m(self, data_variable, common_norm, common_grid, estimate_kws, log_scale, warn_singular)\u001b[0m\n\u001b[1;32m    325\u001b[0m     whole_weight \u001b[39m=\u001b[39m \u001b[39mlen\u001b[39m(all_data)\n\u001b[1;32m    327\u001b[0m densities \u001b[39m=\u001b[39m {}\n\u001b[0;32m--> 329\u001b[0m \u001b[39mfor\u001b[39;00m sub_vars, sub_data \u001b[39min\u001b[39;00m \u001b[39mself\u001b[39m\u001b[39m.\u001b[39miter_data(\u001b[39m\"\u001b[39m\u001b[39mhue\u001b[39m\u001b[39m\"\u001b[39m, from_comp_data\u001b[39m=\u001b[39m\u001b[39mTrue\u001b[39;00m):\n\u001b[1;32m    330\u001b[0m \n\u001b[1;32m    331\u001b[0m     \u001b[39m# Extract the data points from this sub set and remove nulls\u001b[39;00m\n\u001b[1;32m    332\u001b[0m     observations \u001b[39m=\u001b[39m sub_data[data_variable]\n\u001b[1;32m    334\u001b[0m     \u001b[39m# Extract the weights for this subset of observations\u001b[39;00m\n",
      "File \u001b[0;32m~/mambaforge/envs/ml/lib/python3.10/site-packages/seaborn/_oldcore.py:1065\u001b[0m, in \u001b[0;36mVectorPlotter.iter_data\u001b[0;34m(self, grouping_vars, reverse, from_comp_data, by_facet, allow_empty, dropna)\u001b[0m\n\u001b[1;32m   1062\u001b[0m \u001b[39mfor\u001b[39;00m var \u001b[39min\u001b[39;00m grouping_vars:\n\u001b[1;32m   1063\u001b[0m     grouping_keys\u001b[39m.\u001b[39mappend(levels\u001b[39m.\u001b[39mget(var, []))\n\u001b[0;32m-> 1065\u001b[0m iter_keys \u001b[39m=\u001b[39m itertools\u001b[39m.\u001b[39;49mproduct(\u001b[39m*\u001b[39;49mgrouping_keys)\n\u001b[1;32m   1066\u001b[0m \u001b[39mif\u001b[39;00m reverse:\n\u001b[1;32m   1067\u001b[0m     iter_keys \u001b[39m=\u001b[39m \u001b[39mreversed\u001b[39m(\u001b[39mlist\u001b[39m(iter_keys))\n",
      "\u001b[0;31mTypeError\u001b[0m: 'NoneType' object is not iterable"
     ]
    },
    {
     "data": {
      "image/png": "[encoded data removed]",
      "text/plain": [
       "<Figure size 640x480 with 1 Axes>"
      ]
     },
     "metadata": {},
     "output_type": "display_data"
    }
   ],
   "source": [
    "sns.kdeplot(scores3);"
   ]
  },
  {
   "cell_type": "code",
   "execution_count": null,
   "metadata": {},
   "outputs": [
    {
     "ename": "KeyError",
     "evalue": "'1'",
     "output_type": "error",
     "traceback": [
      "\u001b[0;31m---------------------------------------------------------------------------\u001b[0m",
      "\u001b[0;31mKeyError\u001b[0m                                  Traceback (most recent call last)",
      "File \u001b[0;32m~/mambaforge/envs/ml/lib/python3.10/site-packages/pandas/core/indexes/base.py:3652\u001b[0m, in \u001b[0;36mIndex.get_loc\u001b[0;34m(self, key)\u001b[0m\n\u001b[1;32m   3651\u001b[0m \u001b[39mtry\u001b[39;00m:\n\u001b[0;32m-> 3652\u001b[0m     \u001b[39mreturn\u001b[39;00m \u001b[39mself\u001b[39;49m\u001b[39m.\u001b[39;49m_engine\u001b[39m.\u001b[39;49mget_loc(casted_key)\n\u001b[1;32m   3653\u001b[0m \u001b[39mexcept\u001b[39;00m \u001b[39mKeyError\u001b[39;00m \u001b[39mas\u001b[39;00m err:\n",
      "File \u001b[0;32m~/mambaforge/envs/ml/lib/python3.10/site-packages/pandas/_libs/index.pyx:147\u001b[0m, in \u001b[0;36mpandas._libs.index.IndexEngine.get_loc\u001b[0;34m()\u001b[0m\n",
      "File \u001b[0;32m~/mambaforge/envs/ml/lib/python3.10/site-packages/pandas/_libs/index.pyx:155\u001b[0m, in \u001b[0;36mpandas._libs.index.IndexEngine.get_loc\u001b[0;34m()\u001b[0m\n",
      "File \u001b[0;32mpandas/_libs/index_class_helper.pxi:70\u001b[0m, in \u001b[0;36mpandas._libs.index.Int64Engine._check_type\u001b[0;34m()\u001b[0m\n",
      "\u001b[0;31mKeyError\u001b[0m: '1'",
      "\nThe above exception was the direct cause of the following exception:\n",
      "\u001b[0;31mKeyError\u001b[0m                                  Traceback (most recent call last)",
      "Cell \u001b[0;32mIn[72], line 1\u001b[0m\n\u001b[0;32m----> 1\u001b[0m g1 \u001b[39m=\u001b[39m scores3[\u001b[39m'\u001b[39;49m\u001b[39m1\u001b[39;49m\u001b[39m'\u001b[39;49m]\n\u001b[1;32m      3\u001b[0m g2 \u001b[39m=\u001b[39m scores3[\u001b[39m'\u001b[39m\u001b[39m2\u001b[39m\u001b[39m'\u001b[39m]\n\u001b[1;32m      5\u001b[0m plt\u001b[39m.\u001b[39mboxplot(scores3[\u001b[39m'\u001b[39m\u001b[39m1\u001b[39m\u001b[39m'\u001b[39m], scores3[\u001b[39m'\u001b[39m\u001b[39m2\u001b[39m\u001b[39m'\u001b[39m]);\n",
      "File \u001b[0;32m~/mambaforge/envs/ml/lib/python3.10/site-packages/pandas/core/frame.py:3761\u001b[0m, in \u001b[0;36mDataFrame.__getitem__\u001b[0;34m(self, key)\u001b[0m\n\u001b[1;32m   3759\u001b[0m \u001b[39mif\u001b[39;00m \u001b[39mself\u001b[39m\u001b[39m.\u001b[39mcolumns\u001b[39m.\u001b[39mnlevels \u001b[39m>\u001b[39m \u001b[39m1\u001b[39m:\n\u001b[1;32m   3760\u001b[0m     \u001b[39mreturn\u001b[39;00m \u001b[39mself\u001b[39m\u001b[39m.\u001b[39m_getitem_multilevel(key)\n\u001b[0;32m-> 3761\u001b[0m indexer \u001b[39m=\u001b[39m \u001b[39mself\u001b[39;49m\u001b[39m.\u001b[39;49mcolumns\u001b[39m.\u001b[39;49mget_loc(key)\n\u001b[1;32m   3762\u001b[0m \u001b[39mif\u001b[39;00m is_integer(indexer):\n\u001b[1;32m   3763\u001b[0m     indexer \u001b[39m=\u001b[39m [indexer]\n",
      "File \u001b[0;32m~/mambaforge/envs/ml/lib/python3.10/site-packages/pandas/core/indexes/base.py:3654\u001b[0m, in \u001b[0;36mIndex.get_loc\u001b[0;34m(self, key)\u001b[0m\n\u001b[1;32m   3652\u001b[0m     \u001b[39mreturn\u001b[39;00m \u001b[39mself\u001b[39m\u001b[39m.\u001b[39m_engine\u001b[39m.\u001b[39mget_loc(casted_key)\n\u001b[1;32m   3653\u001b[0m \u001b[39mexcept\u001b[39;00m \u001b[39mKeyError\u001b[39;00m \u001b[39mas\u001b[39;00m err:\n\u001b[0;32m-> 3654\u001b[0m     \u001b[39mraise\u001b[39;00m \u001b[39mKeyError\u001b[39;00m(key) \u001b[39mfrom\u001b[39;00m \u001b[39merr\u001b[39;00m\n\u001b[1;32m   3655\u001b[0m \u001b[39mexcept\u001b[39;00m \u001b[39mTypeError\u001b[39;00m:\n\u001b[1;32m   3656\u001b[0m     \u001b[39m# If we have a listlike key, _check_indexing_error will raise\u001b[39;00m\n\u001b[1;32m   3657\u001b[0m     \u001b[39m#  InvalidIndexError. Otherwise we fall through and re-raise\u001b[39;00m\n\u001b[1;32m   3658\u001b[0m     \u001b[39m#  the TypeError.\u001b[39;00m\n\u001b[1;32m   3659\u001b[0m     \u001b[39mself\u001b[39m\u001b[39m.\u001b[39m_check_indexing_error(key)\n",
      "\u001b[0;31mKeyError\u001b[0m: '1'"
     ]
    }
   ],
   "source": [
    "g1 = scores3['1']\n",
    "\n",
    "g2 = scores3['2']\n",
    "\n",
    "plt.boxplot(scores3['1'], scores3['2']);"
   ]
  },
  {
   "cell_type": "code",
   "execution_count": null,
   "metadata": {},
   "outputs": [],
   "source": [
    "stat.normaltest(g1)\n"
   ]
  },
  {
   "cell_type": "code",
   "execution_count": null,
   "metadata": {},
   "outputs": [],
   "source": [
    "stat.normaltest(g2)"
   ]
  },
  {
   "cell_type": "code",
   "execution_count": null,
   "metadata": {},
   "outputs": [],
   "source": [
    "stat.levene(g1, g2)"
   ]
  },
  {
   "cell_type": "code",
   "execution_count": null,
   "metadata": {},
   "outputs": [
    {
     "data": {
      "text/plain": [
       "Ttest_indResult(statistic=array([nan, nan]), pvalue=array([nan, nan]))"
      ]
     },
     "execution_count": 74,
     "metadata": {},
     "output_type": "execute_result"
    }
   ],
   "source": [
    "stat.ttest_ind(g1, g2, equal_var=True)"
   ]
  },
  {
   "attachments": {},
   "cell_type": "markdown",
   "metadata": {},
   "source": [
    "## Données apparié score 4"
   ]
  },
  {
   "cell_type": "code",
   "execution_count": 81,
   "metadata": {},
   "outputs": [],
   "source": [
    "scores4 = pd.read_csv('~/Documents/Ia-Datasets/scores/score-4.csv', sep=';', index_col='SUJETS')"
   ]
  },
  {
   "cell_type": "code",
   "execution_count": 82,
   "metadata": {},
   "outputs": [
    {
     "data": {
      "image/png": "[encoded data removed]",
      "text/plain": [
       "<Figure size 640x480 with 1 Axes>"
      ]
     },
     "metadata": {},
     "output_type": "display_data"
    }
   ],
   "source": [
    "plt.boxplot(scores4, whis=100, labels=['AVANT', 'APRES']);"
   ]
  },
  {
   "cell_type": "code",
   "execution_count": 84,
   "metadata": {},
   "outputs": [
    {
     "data": {
      "text/html": [
       "<div>\n",
       "<style scoped>\n",
       "    .dataframe tbody tr th:only-of-type {\n",
       "        vertical-align: middle;\n",
       "    }\n",
       "\n",
       "    .dataframe tbody tr th {\n",
       "        vertical-align: top;\n",
       "    }\n",
       "\n",
       "    .dataframe thead th {\n",
       "        text-align: right;\n",
       "    }\n",
       "</style>\n",
       "<table border=\"1\" class=\"dataframe\">\n",
       "  <thead>\n",
       "    <tr style=\"text-align: right;\">\n",
       "      <th></th>\n",
       "      <th>AVANT</th>\n",
       "      <th>APRES</th>\n",
       "    </tr>\n",
       "  </thead>\n",
       "  <tbody>\n",
       "    <tr>\n",
       "      <th>count</th>\n",
       "      <td>21.000000</td>\n",
       "      <td>21.000000</td>\n",
       "    </tr>\n",
       "    <tr>\n",
       "      <th>mean</th>\n",
       "      <td>11.190476</td>\n",
       "      <td>11.857143</td>\n",
       "    </tr>\n",
       "    <tr>\n",
       "      <th>std</th>\n",
       "      <td>3.187774</td>\n",
       "      <td>2.851065</td>\n",
       "    </tr>\n",
       "    <tr>\n",
       "      <th>min</th>\n",
       "      <td>6.000000</td>\n",
       "      <td>7.000000</td>\n",
       "    </tr>\n",
       "    <tr>\n",
       "      <th>25%</th>\n",
       "      <td>9.000000</td>\n",
       "      <td>10.000000</td>\n",
       "    </tr>\n",
       "    <tr>\n",
       "      <th>50%</th>\n",
       "      <td>11.000000</td>\n",
       "      <td>12.000000</td>\n",
       "    </tr>\n",
       "    <tr>\n",
       "      <th>75%</th>\n",
       "      <td>12.000000</td>\n",
       "      <td>13.000000</td>\n",
       "    </tr>\n",
       "    <tr>\n",
       "      <th>max</th>\n",
       "      <td>18.000000</td>\n",
       "      <td>17.000000</td>\n",
       "    </tr>\n",
       "  </tbody>\n",
       "</table>\n",
       "</div>"
      ],
      "text/plain": [
       "           AVANT      APRES\n",
       "count  21.000000  21.000000\n",
       "mean   11.190476  11.857143\n",
       "std     3.187774   2.851065\n",
       "min     6.000000   7.000000\n",
       "25%     9.000000  10.000000\n",
       "50%    11.000000  12.000000\n",
       "75%    12.000000  13.000000\n",
       "max    18.000000  17.000000"
      ]
     },
     "execution_count": 84,
     "metadata": {},
     "output_type": "execute_result"
    }
   ],
   "source": [
    "scores4.describe()"
   ]
  },
  {
   "cell_type": "code",
   "execution_count": 85,
   "metadata": {},
   "outputs": [
    {
     "data": {
      "text/plain": [
       "NormaltestResult(statistic=array([0.99151668, 0.54443541]), pvalue=array([0.60910882, 0.76168842]))"
      ]
     },
     "execution_count": 85,
     "metadata": {},
     "output_type": "execute_result"
    }
   ],
   "source": [
    "stat.normaltest(scores4)"
   ]
  },
  {
   "cell_type": "code",
   "execution_count": 86,
   "metadata": {},
   "outputs": [
    {
     "data": {
      "text/plain": [
       "LeveneResult(statistic=0.007127583749109002, pvalue=0.9331396502303381)"
      ]
     },
     "execution_count": 86,
     "metadata": {},
     "output_type": "execute_result"
    }
   ],
   "source": [
    "stat.levene(scores4['AVANT'], scores4['APRES'])\n",
    "\n",
    "# La variance est différente, on utilise donc le ttest"
   ]
  },
  {
   "cell_type": "code",
   "execution_count": 87,
   "metadata": {},
   "outputs": [
    {
     "data": {
      "text/plain": [
       "TtestResult(statistic=-0.6645602896268298, pvalue=0.513921876314335, df=20)"
      ]
     },
     "execution_count": 87,
     "metadata": {},
     "output_type": "execute_result"
    }
   ],
   "source": [
    "stat.ttest_rel(scores4['AVANT'], scores4['APRES'])\n",
    "\n",
    "# p value > 0.05 : pas de différence significative\n",
    "\n",
    "# Pas assez important pour metre en avant une quelconque amélioration de la formation."
   ]
  },
  {
   "attachments": {},
   "cell_type": "markdown",
   "metadata": {},
   "source": [
    "# Etude de la familiarité des mots sur l'apprentissage et la mémorisation de ceux-ci ? Score-5"
   ]
  },
  {
   "cell_type": "code",
   "execution_count": 88,
   "metadata": {},
   "outputs": [],
   "source": [
    "from statsmodels.stats.multicomp import pairwise_tukeyhsd, MultiComparison, tukeyhsd\n",
    "\n",
    "scores5 = pd.read_csv('~/Documents/Ia-Datasets/scores/score-14.csv', sep=';', index_col='SCORE')\n",
    "\n",
    "scores5.head()"
   ]
  },
  {
   "cell_type": "code",
   "execution_count": 90,
   "metadata": {},
   "outputs": [],
   "source": [
    "mc = MultiComparison(scores5.index, scores5['MUSIQUE'])"
   ]
  },
  {
   "cell_type": "code",
   "execution_count": 91,
   "metadata": {},
   "outputs": [
    {
     "name": "stdout",
     "output_type": "stream",
     "text": [
      "    Multiple Comparison of Means - Tukey HSD, FWER=0.05    \n",
      "===========================================================\n",
      "  group1    group2  meandiff p-adj   lower    upper  reject\n",
      "-----------------------------------------------------------\n",
      "CLASSIQUE   COUNTRY  -2.8329 0.8391  -10.526  4.8603  False\n",
      "CLASSIQUE      JAZZ  -3.9657 0.6004 -11.6589  3.7275  False\n",
      "CLASSIQUE POPULAIRE   1.8179 0.9635  -5.8753   9.511  False\n",
      "CLASSIQUE RELAXANTE   5.7464 0.2344  -1.9468 13.4396  False\n",
      "  COUNTRY      JAZZ  -1.1329 0.9937   -8.826  6.5603  False\n",
      "  COUNTRY POPULAIRE   4.6507 0.4434  -3.0425 12.3439  False\n",
      "  COUNTRY RELAXANTE   8.5793 0.0213   0.8861 16.2725   True\n",
      "     JAZZ POPULAIRE   5.7836 0.2286  -1.9096 13.4768  False\n",
      "     JAZZ RELAXANTE   9.7121 0.0064    2.019 17.4053   True\n",
      "POPULAIRE RELAXANTE   3.9286 0.6091  -3.7646 11.6218  False\n",
      "-----------------------------------------------------------\n"
     ]
    }
   ],
   "source": [
    "resultats = mc.tukeyhsd()\n",
    "\n",
    "print(resultats)"
   ]
  },
  {
   "cell_type": "code",
   "execution_count": 95,
   "metadata": {},
   "outputs": [
    {
     "data": {
      "text/html": [
       "<table class=\"simpletable\">\n",
       "<caption>Multiple Comparison of Means - Tukey HSD, FWER=0.05</caption>\n",
       "<tr>\n",
       "   <th>group1</th>    <th>group2</th>   <th>meandiff</th>  <th>p-adj</th>   <th>lower</th>   <th>upper</th>  <th>reject</th>\n",
       "</tr>\n",
       "<tr>\n",
       "  <td>CLASSIQUE</td>  <td>COUNTRY</td>   <td>-2.8329</td> <td>0.8391</td>  <td>-10.526</td> <td>4.8603</td>   <td>False</td>\n",
       "</tr>\n",
       "<tr>\n",
       "  <td>CLASSIQUE</td>   <td>JAZZ</td>     <td>-3.9657</td> <td>0.6004</td> <td>-11.6589</td> <td>3.7275</td>   <td>False</td>\n",
       "</tr>\n",
       "<tr>\n",
       "  <td>CLASSIQUE</td> <td>POPULAIRE</td>  <td>1.8179</td>  <td>0.9635</td>  <td>-5.8753</td>  <td>9.511</td>   <td>False</td>\n",
       "</tr>\n",
       "<tr>\n",
       "  <td>CLASSIQUE</td> <td>RELAXANTE</td>  <td>5.7464</td>  <td>0.2344</td>  <td>-1.9468</td> <td>13.4396</td>  <td>False</td>\n",
       "</tr>\n",
       "<tr>\n",
       "   <td>COUNTRY</td>    <td>JAZZ</td>     <td>-1.1329</td> <td>0.9937</td>  <td>-8.826</td>  <td>6.5603</td>   <td>False</td>\n",
       "</tr>\n",
       "<tr>\n",
       "   <td>COUNTRY</td>  <td>POPULAIRE</td>  <td>4.6507</td>  <td>0.4434</td>  <td>-3.0425</td> <td>12.3439</td>  <td>False</td>\n",
       "</tr>\n",
       "<tr>\n",
       "   <td>COUNTRY</td>  <td>RELAXANTE</td>  <td>8.5793</td>  <td>0.0213</td>  <td>0.8861</td>  <td>16.2725</td>  <td>True</td> \n",
       "</tr>\n",
       "<tr>\n",
       "    <td>JAZZ</td>    <td>POPULAIRE</td>  <td>5.7836</td>  <td>0.2286</td>  <td>-1.9096</td> <td>13.4768</td>  <td>False</td>\n",
       "</tr>\n",
       "<tr>\n",
       "    <td>JAZZ</td>    <td>RELAXANTE</td>  <td>9.7121</td>  <td>0.0064</td>   <td>2.019</td>  <td>17.4053</td>  <td>True</td> \n",
       "</tr>\n",
       "<tr>\n",
       "  <td>POPULAIRE</td> <td>RELAXANTE</td>  <td>3.9286</td>  <td>0.6091</td>  <td>-3.7646</td> <td>11.6218</td>  <td>False</td>\n",
       "</tr>\n",
       "</table>"
      ],
      "text/latex": [
       "\\begin{center}\n",
       "\\begin{tabular}{ccccccc}\n",
       "\\toprule\n",
       "\\textbf{group1} & \\textbf{group2} & \\textbf{meandiff} & \\textbf{p-adj} & \\textbf{lower} & \\textbf{upper} & \\textbf{reject}  \\\\\n",
       "\\midrule\n",
       "   CLASSIQUE    &     COUNTRY     &      -2.8329      &     0.8391     &    -10.526     &     4.8603     &      False       \\\\\n",
       "   CLASSIQUE    &       JAZZ      &      -3.9657      &     0.6004     &    -11.6589    &     3.7275     &      False       \\\\\n",
       "   CLASSIQUE    &    POPULAIRE    &       1.8179      &     0.9635     &    -5.8753     &     9.511      &      False       \\\\\n",
       "   CLASSIQUE    &    RELAXANTE    &       5.7464      &     0.2344     &    -1.9468     &    13.4396     &      False       \\\\\n",
       "    COUNTRY     &       JAZZ      &      -1.1329      &     0.9937     &     -8.826     &     6.5603     &      False       \\\\\n",
       "    COUNTRY     &    POPULAIRE    &       4.6507      &     0.4434     &    -3.0425     &    12.3439     &      False       \\\\\n",
       "    COUNTRY     &    RELAXANTE    &       8.5793      &     0.0213     &     0.8861     &    16.2725     &       True       \\\\\n",
       "      JAZZ      &    POPULAIRE    &       5.7836      &     0.2286     &    -1.9096     &    13.4768     &      False       \\\\\n",
       "      JAZZ      &    RELAXANTE    &       9.7121      &     0.0064     &     2.019      &    17.4053     &       True       \\\\\n",
       "   POPULAIRE    &    RELAXANTE    &       3.9286      &     0.6091     &    -3.7646     &    11.6218     &      False       \\\\\n",
       "\\bottomrule\n",
       "\\end{tabular}\n",
       "%\\caption{Multiple Comparison of Means - Tukey HSD, FWER=0.05}\n",
       "\\end{center}"
      ],
      "text/plain": [
       "<class 'statsmodels.iolib.table.SimpleTable'>"
      ]
     },
     "execution_count": 95,
     "metadata": {},
     "output_type": "execute_result"
    },
    {
     "data": {
      "image/png": "[encoded data removed]",
      "text/plain": [
       "<Figure size 1000x600 with 1 Axes>"
      ]
     },
     "metadata": {},
     "output_type": "display_data"
    }
   ],
   "source": [
    "mc2 = pairwise_tukeyhsd(endog=scores5.index, groups=scores5['MUSIQUE'], alpha=0.05)\n",
    "\n",
    "mc2.plot_simultaneous();\n",
    "\n",
    "mc2.summary()"
   ]
  },
  {
   "cell_type": "code",
   "execution_count": null,
   "metadata": {},
   "outputs": [],
   "source": [
    "# Check de la superposition entre ces distrbution#\n",
    "# Superposition entre les distributions = différence significative.\n",
    "\n",
    "# Ex La musique relaxant apporte un meilleur temps d'attente par rapport au jazz "
   ]
  }
 ],
 "metadata": {
  "kernelspec": {
   "display_name": "ml",
   "language": "python",
   "name": "python3"
  },
  "language_info": {
   "codemirror_mode": {
    "name": "ipython",
    "version": 3
   },
   "file_extension": ".py",
   "mimetype": "text/x-python",
   "name": "python",
   "nbconvert_exporter": "python",
   "pygments_lexer": "ipython3",
   "version": "3.10.0"
  },
  "orig_nbformat": 4
 },
 "nbformat": 4,
 "nbformat_minor": 2
}
