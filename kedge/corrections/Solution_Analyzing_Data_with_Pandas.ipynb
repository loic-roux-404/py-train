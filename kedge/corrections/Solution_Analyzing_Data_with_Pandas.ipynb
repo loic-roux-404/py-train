{
 "cells": [
  {
   "cell_type": "code",
   "execution_count": 3,
   "metadata": {},
   "outputs": [],
   "source": [
    "import pandas as pd\n",
    "stocklist = ['AAPL', 'FB', 'TSLA']\n",
    "try: \n",
    "    df = pd.read_excel('stock2021Q1.xlsx')\n",
    "    for s in stocklist:\n",
    "        df.loc[df['stock'] == s].describe().to_csv('Stat_{}.csv'.format(s))\n",
    "    \n",
    "except IOError:\n",
    "    print('The file does not exist.')\n",
    "except:\n",
    "    print('Unknown error occurs.')"
   ]
  },
  {
   "cell_type": "code",
   "execution_count": 9,
   "metadata": {},
   "outputs": [
    {
     "name": "stdout",
     "output_type": "stream",
     "text": [
      "                         count          mean            std     min      25%  \\\n",
      "countriesAndTerritories                                                        \n",
      "Austria                  196.0   3595.698980   32505.980326  -171.0   328.00   \n",
      "Belgium                  196.0   6150.107143   55412.629420     0.0  1033.25   \n",
      "Bulgaria                 196.0   2402.219388   17611.933110    16.0   129.00   \n",
      "Croatia                  196.0   1954.632653   17322.520942     9.0   137.50   \n",
      "Cyprus                   196.0    601.178571    2444.588180    33.0   177.25   \n",
      "Czechia                  196.0   8587.647959   88540.564527    41.0   178.00   \n",
      "Denmark                  196.0   1795.607143   15037.651019 -2001.0   550.00   \n",
      "Estonia                  196.0    748.505102    4751.034226     6.0    80.00   \n",
      "Finland                  196.0    676.846939    4100.120502     0.0   154.00   \n",
      "France                   196.0  35190.775510  259483.302523   487.0  4592.75   \n",
      "Germany                  196.0  20804.285714  174351.453448   212.0  1911.00   \n",
      "Greece                   196.0   3131.826531   13536.230233     0.0  1398.00   \n",
      "Hungary                  196.0   4156.795918   30929.974931     0.0    58.50   \n",
      "Iceland                  196.0     57.316327     432.068171     0.0     0.00   \n",
      "Ireland                  196.0   1863.841837   15634.768234   205.0   385.50   \n",
      "Italy                    196.0  23478.311224  208461.126254   266.0  2935.00   \n",
      "Latvia                   196.0    748.979592    6139.212712    18.0    80.25   \n",
      "Liechtenstein            196.0     17.244898     183.683678     0.0     1.00   \n",
      "Lithuania                196.0   1573.795918   14061.268379    15.0   219.00   \n",
      "Luxembourg               196.0    390.979592    3952.338988     0.0    20.50   \n",
      "Malta                    196.0    187.285714    1612.307230     0.0     6.00   \n",
      "Netherlands              196.0  10045.061224   77427.222415     0.0  2311.25   \n",
      "Norway                   196.0    884.408163    5002.583715     0.0     0.00   \n",
      "Poland                   196.0  14761.086735  121848.036840    38.0   163.50   \n",
      "Portugal                 196.0   5380.984694   57387.167843     0.0   459.25   \n",
      "Romania                  196.0   5706.882653   57202.727201    26.0   136.00   \n",
      "Slovakia                 196.0   3996.408163   42249.348160     0.0    73.75   \n",
      "Slovenia                 196.0   1409.051020   13551.713793     0.0    98.00   \n",
      "Spain                    196.0  25038.066327  221728.192162     0.0     0.00   \n",
      "Sweden                   196.0   5806.209184   47677.618973     0.0   405.25   \n",
      "\n",
      "                             50%       75%        max  \n",
      "countriesAndTerritories                                \n",
      "Austria                    969.5   2203.25   456112.0  \n",
      "Belgium                   1930.5   3116.25   777687.0  \n",
      "Bulgaria                   512.0   1781.75   247038.0  \n",
      "Croatia                    379.0    971.50   242973.0  \n",
      "Cyprus                     353.5    612.50    34364.0  \n",
      "Czechia                    328.0   2434.00  1240696.0  \n",
      "Denmark                    754.5    920.00   211195.0  \n",
      "Estonia                    263.5    472.50    66628.0  \n",
      "Finland                    343.0    592.75    57672.0  \n",
      "France                   16400.0  25090.25  3645305.0  \n",
      "Germany                   6659.0  12714.00  2447068.0  \n",
      "Greece                    2184.5   2868.50   191100.0  \n",
      "Hungary                    260.0   2713.00   432925.0  \n",
      "Iceland                      5.0     43.00     6049.0  \n",
      "Ireland                    500.5   1083.50   219503.0  \n",
      "Italy                     6117.0  13440.50  2925265.0  \n",
      "Latvia                     237.5    548.75    86186.0  \n",
      "Liechtenstein                2.0      6.00     2575.0  \n",
      "Lithuania                  535.0    843.25   197343.0  \n",
      "Luxembourg                  92.0    178.25    55425.0  \n",
      "Malta                       48.0     93.25    22611.0  \n",
      "Netherlands               4115.0   6791.00  1087827.0  \n",
      "Norway                     401.5    741.25    70034.0  \n",
      "Poland                     530.0   9612.75  1706986.0  \n",
      "Portugal                   740.0   2113.50   804562.0  \n",
      "Romania                    624.0   2718.75   801994.0  \n",
      "Slovakia                   255.5   1343.50   592136.0  \n",
      "Slovenia                   291.5    742.25   190081.0  \n",
      "Spain                     6301.5  11956.50  3109689.0  \n",
      "Sweden                    1381.5   4404.00   668975.0  \n"
     ]
    }
   ],
   "source": [
    "# Exercise for Covid-19 daily new-confirmed cases in EU:\n",
    "import pandas as pd\n",
    "try: \n",
    "    df_covid = pd.read_csv('EU_Covid_March2021.csv')\n",
    "    df = df_covid.groupby('countriesAndTerritories')['cases'].describe()\n",
    "    print(df)\n",
    "except IOError:\n",
    "    print('The file does not exist.')\n",
    "except:\n",
    "    print('Unknown error occurs.')"
   ]
  },
  {
   "cell_type": "code",
   "execution_count": null,
   "metadata": {},
   "outputs": [],
   "source": []
  }
 ],
 "metadata": {
  "kernelspec": {
   "display_name": "Python 3",
   "language": "python",
   "name": "python3"
  },
  "language_info": {
   "codemirror_mode": {
    "name": "ipython",
    "version": 3
   },
   "file_extension": ".py",
   "mimetype": "text/x-python",
   "name": "python",
   "nbconvert_exporter": "python",
   "pygments_lexer": "ipython3",
   "version": "3.5.4rc1"
  }
 },
 "nbformat": 4,
 "nbformat_minor": 4
}
