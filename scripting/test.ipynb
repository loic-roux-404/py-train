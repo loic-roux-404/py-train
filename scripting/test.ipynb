{
 "cells": [
  {
   "cell_type": "code",
   "execution_count": 17,
   "metadata": {
    "tags": []
   },
   "outputs": [
    {
     "output_type": "display_data",
     "data": {
      "text/plain": "<Figure size 432x288 with 1 Axes>",
      "image/png": "[encoded data removed]"
     },
     "metadata": {
      "needs_background": "light"
     }
    },
    {
     "output_type": "display_data",
     "data": {
      "text/plain": "<Figure size 432x288 with 1 Axes>",
      "image/png": "[encoded data removed]"
     },
     "metadata": {
      "needs_background": "light"
     }
    },
    {
     "output_type": "display_data",
     "data": {
      "text/plain": "<Figure size 432x288 with 1 Axes>",
      "image/png": "[encoded data removed]"
     },
     "metadata": {
      "needs_background": "light"
     }
    },
    {
     "output_type": "display_data",
     "data": {
      "text/plain": "<Figure size 432x288 with 1 Axes>",
      "image/png": "[encoded data removed]"
     },
     "metadata": {
      "needs_background": "light"
     }
    }
   ],
   "source": [
    "import matplotlib.pyplot as plt # Génération de graphiques\n",
    "import numpy as np # librairie mathématique\n",
    "\n",
    "class Voiture():\n",
    "    # Definition avec typage des propriéte de base de la classe\n",
    "    _vitesse: int = 0\n",
    "    _prix: int = 0\n",
    "    _puissance: int = 0\n",
    "\n",
    "    # constructeur\n",
    "    def __init__(self, prix, puissance, vitesse):\n",
    "         self._vitesse = vitesse\n",
    "         self._prix = prix\n",
    "         self._puissance = puissance\n",
    "\n",
    "    # Getters\n",
    "    def getPrix(self) -> int:\n",
    "          return self._prix\n",
    "\n",
    "    def getVitesse(self) -> int:\n",
    "          return self._vitesse\n",
    "\n",
    "    def getPuissance(self)-> int:\n",
    "          return self._puissance\n",
    "\n",
    "# Creation des classe enfant qui se construisent en utilisant le parent (Voiture)\n",
    "class Pijo(Voiture):\n",
    "    color: str = 'green'\n",
    "    def __init__(self, prix = 50, puissance = 200, vitesse = 20):\n",
    "        super(Pijo, self).__init__(prix, puissance, vitesse)\n",
    "\n",
    "class Rino(Voiture):\n",
    "    color: str = 'red'\n",
    "    def __init__(self, prix = 43, puissance = 100, vitesse = 12):\n",
    "        super(Rino, self).__init__(prix, puissance, vitesse)\n",
    "\n",
    "class Bem(Voiture):\n",
    "    color: str = 'blue'\n",
    "    def __init__(self, prix = 34, puissance = 100, vitesse = 50):\n",
    "        super(Bem, self).__init__(prix, puissance, vitesse)\n",
    "\n",
    "class Hodi(Voiture):\n",
    "    color: str = 'red'\n",
    "    def __init__(self, prix = 20, puissance = 100, vitesse = 30):\n",
    "        super(Hodi, self).__init__(prix, puissance, vitesse)\n",
    "\n",
    "yh = np.linspace(0, 50)\n",
    "# Fonction pour créer un graphe à partir d'une voiture\n",
    "def graphe(voiture: Voiture) -> None:\n",
    "    color = voiture.color\n",
    "\n",
    "    plt.axhline(y = 0, color = color)\n",
    "    plt.axvline(x = 0, color = color)\n",
    "    # axe\n",
    "    plt.plot(0, voiture.getPrix())\n",
    "    plt.plot(0, voiture.getPuissance())\n",
    "    plt.plot(0, voiture.getVitesse())\n",
    "\n",
    "    # Afficher le plot\n",
    "    plt.show()\n",
    "\n",
    "\n",
    "graphe(Hodi())\n",
    "graphe(Pijo())\n",
    "graphe(Rino())\n",
    "graphe(Bem())\n"
   ]
  }
 ],
 "metadata": {
  "language_info": {
   "codemirror_mode": {
    "name": "ipython",
    "version": 3
   },
   "file_extension": ".py",
   "mimetype": "text/x-python",
   "name": "python",
   "nbconvert_exporter": "python",
   "pygments_lexer": "ipython3",
   "version": "3.7.8-final"
  },
  "orig_nbformat": 2,
  "kernelspec": {
   "name": "python3",
   "display_name": "Python 3"
  }
 },
 "nbformat": 4,
 "nbformat_minor": 2
}