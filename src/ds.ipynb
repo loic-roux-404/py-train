{
 "cells": [
  {
   "cell_type": "code",
   "execution_count": 1,
   "metadata": {},
   "outputs": [
    {
     "name": "stdout",
     "output_type": "stream",
     "text": [
      "[[3, 12, 8, 15, 14, 5, 9, 2], [13, 1, 7, 10, 4, 16, 11, 6]]\n",
      "exercice 12_6 :  True\n"
     ]
    }
   ],
   "source": [
    "from random import randint\n",
    "\n",
    "def somme(tab, multipler):\n",
    "    somme = 0\n",
    "    for i in tab:\n",
    "        somme += i**multipler\n",
    "    return somme\n",
    "\n",
    "def exercice12_6(tab):\n",
    "    #On garde en mémoire le tableau\n",
    "    temp = tab\n",
    "\n",
    "    while(True):\n",
    "        i = randint(0,7)\n",
    "        j = randint(0,7)\n",
    "        \n",
    "        #on change entre les tableaux les valeurs\n",
    "        temp[0][i], temp[1][j] = temp[1][j], temp[0][i]\n",
    "\n",
    "        # Si la somme du tab[0] == somme du tab[1] (sans puissance)\n",
    "        if somme(temp[0], 1) == somme(temp[1], 1): \n",
    "            # Si la somme du tab[0] == somme du tab[1] (puissance 2)\n",
    "            if somme(temp[0], 2) == somme(temp[1], 2):\n",
    "                # Si la somme du tab[0] == somme du tab[1] (puissance 3)\n",
    "                if somme(temp[0], 3) == somme(temp[1], 3):\n",
    "                    # Return true et affiche le tableau en mémoire\n",
    "                    print(temp)\n",
    "                    return True\n",
    "                \n",
    "# On donne en entrée le tableau donnée par l'exercice\n",
    "exo = exercice12_6([[3,4,5,6,9,10,15,16],[1,2,7,8,11,12,13,14]])\n",
    "\n",
    "print(\"exercice 12_6 : \", exo)\n",
    "\n"
   ]
  },
  {
   "cell_type": "code",
   "execution_count": null,
   "metadata": {},
   "outputs": [],
   "source": []
  },
  {
   "cell_type": "code",
   "execution_count": 2,
   "metadata": {},
   "outputs": [
    {
     "name": "stdout",
     "output_type": "stream",
     "text": [
      "Execercice : 1.7 : le codage pour 29 est :  1101101\n"
     ]
    }
   ],
   "source": [
    "def exercice1_7(n):\n",
    "    # c = 1 et c = c + 1 pour exclure le 1\n",
    "    c = 1\n",
    "    while(True):\n",
    "        c = c + 1\n",
    "        result = n * c\n",
    "        valid = False\n",
    "        for letter in str(result):\n",
    "            # Verifie la syntaxe du nombre en l'instanciant en string\n",
    "            # et en regardant si ce nombre peut être transformer en nombre binaire\n",
    "            if(letter != '0' and letter != '1'):\n",
    "                valid = False\n",
    "                break\n",
    "            else:\n",
    "                valid = True\n",
    "        if(valid):\n",
    "            return result\n",
    "            \n",
    "\n",
    "print(\"Execercice : 1.7 : le codage pour 29 est : \", exercice1_7(29))"
   ]
  },
  {
   "cell_type": "code",
   "execution_count": 3,
   "metadata": {},
   "outputs": [
    {
     "name": "stdout",
     "output_type": "stream",
     "text": [
      "True\n"
     ]
    }
   ],
   "source": [
    "# Palindrome\n",
    "def is_palindrome(n):\n",
    "    initial_nb = n\n",
    "    # Nombre initial à retrouver\n",
    "    check_pal_nb = 0\n",
    "    while (n > 0):\n",
    "        # On calcule le chiffre correspondant en testant le résultats de ses division apr dix\n",
    "        chiffre = n % 10\n",
    "        # Comptez le nombre de palindrome et utiliser une relation propotionnelle\n",
    "        # afin de retrouver le nombre initial pouvant être un palindrome\n",
    "        check_pal_nb = check_pal_nb * 10 + chiffre\n",
    "        # On passe au niveau en dessous 9999 --> 999\n",
    "        # Ainsi à la prochaine itération on peu vérifier que les chiffres son bien\n",
    "        # divisible pat des dizaine\n",
    "        n = n // 10\n",
    "\n",
    "    # Si notre nombre possède un nombre de palindrome égal\n",
    "    if(initial_nb == check_pal_nb):\n",
    "        return True\n",
    "    else:\n",
    "        return False\n",
    "\n",
    "print(is_palindrome(999999))\n",
    "\n",
    "def million_test():\n",
    "    count = 0\n",
    "    for i in range (1, ):\n",
    "        if is_palindrome(i):\n",
    "            count += 1\n",
    "\n",
    "million_test()"
   ]
  },
  {
   "cell_type": "code",
   "execution_count": 4,
   "metadata": {},
   "outputs": [
    {
     "name": "stdout",
     "output_type": "stream",
     "text": [
      "1 1\n",
      "3153 3153\n",
      "3435 3435\n"
     ]
    }
   ],
   "source": [
    "def mxysqgzo(limit = 10000):\n",
    "    for n in range(1, limit):\n",
    "        somme = 0\n",
    "        for letter in list(str(n)):\n",
    "            letter = int(letter)\n",
    "            somme += letter ** letter\n",
    "            if somme == n:\n",
    "                print(somme, n)\n",
    "                break\n",
    "\n",
    "mxysqgzo()"
   ]
  },
  {
   "cell_type": "code",
   "execution_count": null,
   "metadata": {},
   "outputs": [],
   "source": []
  }
 ],
 "metadata": {
  "kernelspec": {
   "display_name": "Python 3",
   "language": "python",
   "name": "python3"
  },
  "language_info": {
   "codemirror_mode": {
    "name": "ipython",
    "version": 3
   },
   "file_extension": ".py",
   "mimetype": "text/x-python",
   "name": "python",
   "nbconvert_exporter": "python",
   "pygments_lexer": "ipython3",
   "version": "3.7.8"
  }
 },
 "nbformat": 4,
 "nbformat_minor": 4
}
