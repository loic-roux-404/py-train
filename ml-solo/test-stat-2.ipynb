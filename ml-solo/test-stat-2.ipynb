{
 "cells": [
  {
   "cell_type": "markdown",
   "metadata": {},
   "source": [
    "## Exercices tests hypothèses statistiques (inférentielles)"
   ]
  },
  {
   "cell_type": "code",
   "execution_count": 2,
   "metadata": {},
   "outputs": [],
   "source": [
    "import  numpy as np\n",
    "import pandas as pd\n",
    "import matplotlib.pyplot as plt\n",
    "import seaborn as sns\n",
    "import scipy.stats as stats\n",
    "from common import *"
   ]
  },
  {
   "cell_type": "code",
   "execution_count": 3,
   "metadata": {},
   "outputs": [
    {
     "data": {
      "text/html": [
       "<div>\n",
       "<style scoped>\n",
       "    .dataframe tbody tr th:only-of-type {\n",
       "        vertical-align: middle;\n",
       "    }\n",
       "\n",
       "    .dataframe tbody tr th {\n",
       "        vertical-align: top;\n",
       "    }\n",
       "\n",
       "    .dataframe thead th {\n",
       "        text-align: right;\n",
       "    }\n",
       "</style>\n",
       "<table border=\"1\" class=\"dataframe\">\n",
       "  <thead>\n",
       "    <tr style=\"text-align: right;\">\n",
       "      <th></th>\n",
       "      <th>Score</th>\n",
       "    </tr>\n",
       "  </thead>\n",
       "  <tbody>\n",
       "    <tr>\n",
       "      <th>0</th>\n",
       "      <td>11</td>\n",
       "    </tr>\n",
       "    <tr>\n",
       "      <th>1</th>\n",
       "      <td>7</td>\n",
       "    </tr>\n",
       "    <tr>\n",
       "      <th>2</th>\n",
       "      <td>7</td>\n",
       "    </tr>\n",
       "    <tr>\n",
       "      <th>3</th>\n",
       "      <td>12</td>\n",
       "    </tr>\n",
       "    <tr>\n",
       "      <th>4</th>\n",
       "      <td>7</td>\n",
       "    </tr>\n",
       "  </tbody>\n",
       "</table>\n",
       "</div>"
      ],
      "text/plain": [
       "   Score\n",
       "0     11\n",
       "1      7\n",
       "2      7\n",
       "3     12\n",
       "4      7"
      ]
     },
     "execution_count": 3,
     "metadata": {},
     "output_type": "execute_result"
    }
   ],
   "source": [
    "data = pd.read_csv(get_dataset_dir(\"score-1.csv\"), header=None)\n",
    "data.columns = [\"Score\"]\n",
    "data.head()"
   ]
  },
  {
   "cell_type": "markdown",
   "metadata": {},
   "source": [
    "## 1. Test d'hypothèse sur la moyenne d'une population - Analyse univariée\n",
    "\n",
    "Test \n",
    "- variable : score de rappel \n",
    "- Facteur d'étude : Norme (variable quantitative, un échantillon) = 7\n",
    "\n",
    "--> Test de student pour données simples (seules) avec moyenne"
   ]
  },
  {
   "cell_type": "code",
   "execution_count": 4,
   "metadata": {},
   "outputs": [
    {
     "data": {
      "image/png": "[encoded data removed]",
      "text/plain": [
       "<Figure size 640x480 with 1 Axes>"
      ]
     },
     "metadata": {},
     "output_type": "display_data"
    }
   ],
   "source": [
    "sns.kdeplot(data);"
   ]
  },
  {
   "cell_type": "code",
   "execution_count": 5,
   "metadata": {},
   "outputs": [
    {
     "name": "stdout",
     "output_type": "stream",
     "text": [
      "NormaltestResult(statistic=0.806985310775368, pvalue=0.6679829328566486)\n",
      "pvalue is showing valid study : True.\n"
     ]
    }
   ],
   "source": [
    "test_conclude(stats.normaltest(data['Score']), reverse=True)"
   ]
  },
  {
   "cell_type": "code",
   "execution_count": 6,
   "metadata": {},
   "outputs": [
    {
     "name": "stdout",
     "output_type": "stream",
     "text": [
      "TtestResult(statistic=5.390853896414195, pvalue=9.229064699516705e-07, df=69)\n",
      "pvalue is showing valid study : True.\n"
     ]
    }
   ],
   "source": [
    "test_conclude(stats.ttest_1samp(data['Score'], popmean=7))"
   ]
  },
  {
   "cell_type": "markdown",
   "metadata": {},
   "source": [
    "## Score 2\n",
    "\n",
    "- Facteur d'étude : norme testée de 310 points\n",
    "- variable : Score national pour chaque équipe\n",
    "\n",
    "--> Test de student pour données simples (seules) par rapport à une moyenne"
   ]
  },
  {
   "cell_type": "code",
   "execution_count": 7,
   "metadata": {},
   "outputs": [
    {
     "data": {
      "text/html": [
       "<div>\n",
       "<style scoped>\n",
       "    .dataframe tbody tr th:only-of-type {\n",
       "        vertical-align: middle;\n",
       "    }\n",
       "\n",
       "    .dataframe tbody tr th {\n",
       "        vertical-align: top;\n",
       "    }\n",
       "\n",
       "    .dataframe thead th {\n",
       "        text-align: right;\n",
       "    }\n",
       "</style>\n",
       "<table border=\"1\" class=\"dataframe\">\n",
       "  <thead>\n",
       "    <tr style=\"text-align: right;\">\n",
       "      <th></th>\n",
       "      <th>Score</th>\n",
       "    </tr>\n",
       "  </thead>\n",
       "  <tbody>\n",
       "    <tr>\n",
       "      <th>0</th>\n",
       "      <td>11</td>\n",
       "    </tr>\n",
       "    <tr>\n",
       "      <th>1</th>\n",
       "      <td>7</td>\n",
       "    </tr>\n",
       "    <tr>\n",
       "      <th>2</th>\n",
       "      <td>7</td>\n",
       "    </tr>\n",
       "    <tr>\n",
       "      <th>3</th>\n",
       "      <td>12</td>\n",
       "    </tr>\n",
       "    <tr>\n",
       "      <th>4</th>\n",
       "      <td>7</td>\n",
       "    </tr>\n",
       "  </tbody>\n",
       "</table>\n",
       "</div>"
      ],
      "text/plain": [
       "   Score\n",
       "0     11\n",
       "1      7\n",
       "2      7\n",
       "3     12\n",
       "4      7"
      ]
     },
     "execution_count": 7,
     "metadata": {},
     "output_type": "execute_result"
    }
   ],
   "source": [
    "data = pd.read_csv(get_dataset_dir(\"score-1.csv\"), header=None)\n",
    "data.columns = [\"Score\"]\n",
    "data.head()"
   ]
  },
  {
   "cell_type": "code",
   "execution_count": 8,
   "metadata": {},
   "outputs": [
    {
     "data": {
      "text/html": [
       "<div>\n",
       "<style scoped>\n",
       "    .dataframe tbody tr th:only-of-type {\n",
       "        vertical-align: middle;\n",
       "    }\n",
       "\n",
       "    .dataframe tbody tr th {\n",
       "        vertical-align: top;\n",
       "    }\n",
       "\n",
       "    .dataframe thead th {\n",
       "        text-align: right;\n",
       "    }\n",
       "</style>\n",
       "<table border=\"1\" class=\"dataframe\">\n",
       "  <thead>\n",
       "    <tr style=\"text-align: right;\">\n",
       "      <th></th>\n",
       "      <th>Score</th>\n",
       "    </tr>\n",
       "  </thead>\n",
       "  <tbody>\n",
       "    <tr>\n",
       "      <th>count</th>\n",
       "      <td>70.000000</td>\n",
       "    </tr>\n",
       "    <tr>\n",
       "      <th>mean</th>\n",
       "      <td>8.314286</td>\n",
       "    </tr>\n",
       "    <tr>\n",
       "      <th>std</th>\n",
       "      <td>2.039770</td>\n",
       "    </tr>\n",
       "    <tr>\n",
       "      <th>min</th>\n",
       "      <td>4.000000</td>\n",
       "    </tr>\n",
       "    <tr>\n",
       "      <th>25%</th>\n",
       "      <td>7.000000</td>\n",
       "    </tr>\n",
       "    <tr>\n",
       "      <th>50%</th>\n",
       "      <td>8.000000</td>\n",
       "    </tr>\n",
       "    <tr>\n",
       "      <th>75%</th>\n",
       "      <td>10.000000</td>\n",
       "    </tr>\n",
       "    <tr>\n",
       "      <th>max</th>\n",
       "      <td>14.000000</td>\n",
       "    </tr>\n",
       "  </tbody>\n",
       "</table>\n",
       "</div>"
      ],
      "text/plain": [
       "           Score\n",
       "count  70.000000\n",
       "mean    8.314286\n",
       "std     2.039770\n",
       "min     4.000000\n",
       "25%     7.000000\n",
       "50%     8.000000\n",
       "75%    10.000000\n",
       "max    14.000000"
      ]
     },
     "execution_count": 8,
     "metadata": {},
     "output_type": "execute_result"
    }
   ],
   "source": [
    "data.describe()\n"
   ]
  },
  {
   "cell_type": "code",
   "execution_count": 9,
   "metadata": {},
   "outputs": [
    {
     "name": "stdout",
     "output_type": "stream",
     "text": [
      "NormaltestResult(statistic=0.806985310775368, pvalue=0.6679829328566486)\n",
      "pvalue is showing valid study : True.\n"
     ]
    }
   ],
   "source": [
    "test_conclude(stats.normaltest(data['Score']), reverse=True)"
   ]
  },
  {
   "cell_type": "code",
   "execution_count": 10,
   "metadata": {},
   "outputs": [
    {
     "name": "stdout",
     "output_type": "stream",
     "text": [
      "TtestResult(statistic=-1237.4353541790754, pvalue=1.0877176158452291e-151, df=69)\n",
      "pvalue is showing valid study : True.\n"
     ]
    }
   ],
   "source": [
    "test_conclude(stats.ttest_1samp(data['Score'], popmean=310))"
   ]
  },
  {
   "cell_type": "markdown",
   "metadata": {},
   "source": [
    "## Score 3\n",
    "\n",
    "Test \n",
    "- variable : 2 groupes de score, continue, indépendants.\n",
    "- Facteur d'étude : 2e groupe\n",
    "\n",
    "--> distribution normale et homoscédasticité\n",
    "\n",
    "--> Anova ou student (avec le paramètre de variance égale) sont adaptés. Chacun des 2 tests donne la même p-value"
   ]
  },
  {
   "cell_type": "code",
   "execution_count": 11,
   "metadata": {},
   "outputs": [
    {
     "data": {
      "text/html": [
       "<div>\n",
       "<style scoped>\n",
       "    .dataframe tbody tr th:only-of-type {\n",
       "        vertical-align: middle;\n",
       "    }\n",
       "\n",
       "    .dataframe tbody tr th {\n",
       "        vertical-align: top;\n",
       "    }\n",
       "\n",
       "    .dataframe thead th {\n",
       "        text-align: right;\n",
       "    }\n",
       "</style>\n",
       "<table border=\"1\" class=\"dataframe\">\n",
       "  <thead>\n",
       "    <tr style=\"text-align: right;\">\n",
       "      <th></th>\n",
       "      <th>GROUPE1</th>\n",
       "      <th>GROUPE2</th>\n",
       "    </tr>\n",
       "  </thead>\n",
       "  <tbody>\n",
       "    <tr>\n",
       "      <th>0</th>\n",
       "      <td>442</td>\n",
       "      <td>581.0</td>\n",
       "    </tr>\n",
       "    <tr>\n",
       "      <th>1</th>\n",
       "      <td>470</td>\n",
       "      <td>520.0</td>\n",
       "    </tr>\n",
       "    <tr>\n",
       "      <th>2</th>\n",
       "      <td>478</td>\n",
       "      <td>670.0</td>\n",
       "    </tr>\n",
       "    <tr>\n",
       "      <th>3</th>\n",
       "      <td>416</td>\n",
       "      <td>497.0</td>\n",
       "    </tr>\n",
       "    <tr>\n",
       "      <th>4</th>\n",
       "      <td>505</td>\n",
       "      <td>600.0</td>\n",
       "    </tr>\n",
       "  </tbody>\n",
       "</table>\n",
       "</div>"
      ],
      "text/plain": [
       "   GROUPE1  GROUPE2\n",
       "0      442    581.0\n",
       "1      470    520.0\n",
       "2      478    670.0\n",
       "3      416    497.0\n",
       "4      505    600.0"
      ]
     },
     "execution_count": 11,
     "metadata": {},
     "output_type": "execute_result"
    }
   ],
   "source": [
    "data = pd.read_csv(get_dataset_dir(\"score-3.csv\"), sep=\";\")\n",
    "\n",
    "data.head()"
   ]
  },
  {
   "cell_type": "code",
   "execution_count": 12,
   "metadata": {},
   "outputs": [
    {
     "data": {
      "text/plain": [
       "0    442\n",
       "1    470\n",
       "2    478\n",
       "3    416\n",
       "4    505\n",
       "Name: GROUPE1, dtype: int64"
      ]
     },
     "execution_count": 12,
     "metadata": {},
     "output_type": "execute_result"
    }
   ],
   "source": [
    "g1 = data[\"GROUPE1\"]\n",
    "g2 = data[\"GROUPE2\"]\n",
    "\n",
    "g2.dropna(inplace=True)\n",
    "\n",
    "g1.head()"
   ]
  },
  {
   "cell_type": "code",
   "execution_count": 13,
   "metadata": {},
   "outputs": [
    {
     "name": "stdout",
     "output_type": "stream",
     "text": [
      "NormaltestResult(statistic=1.106035439041655, pvalue=0.5752113620691502)\n",
      "pvalue is showing valid study : True.\n",
      "NormaltestResult(statistic=0.12096308196101899, pvalue=0.9413111445388013)\n",
      "pvalue is showing valid study : True.\n",
      "LeveneResult(statistic=2.753846715433797, pvalue=0.10042600156058794)\n",
      "pvalue is showing valid study : True.\n"
     ]
    }
   ],
   "source": [
    "test_conclude(stats.normaltest(g1), reverse=True)\n",
    "test_conclude(stats.normaltest(g2), reverse=True)\n",
    "test_conclude(stats.levene(g1,g2), reverse=True) # Homoscedasticity test\n",
    "# Variances are equal"
   ]
  },
  {
   "cell_type": "code",
   "execution_count": 14,
   "metadata": {},
   "outputs": [
    {
     "data": {
      "text/plain": [
       "<Axes: xlabel='GROUPE1', ylabel='Density'>"
      ]
     },
     "execution_count": 14,
     "metadata": {},
     "output_type": "execute_result"
    },
    {
     "data": {
      "image/png": "[encoded data removed]",
      "text/plain": [
       "<Figure size 640x480 with 1 Axes>"
      ]
     },
     "metadata": {},
     "output_type": "display_data"
    }
   ],
   "source": [
    "sns.kdeplot(g1, color=\"red\")\n",
    "sns.kdeplot(g2, color=\"blue\")"
   ]
  },
  {
   "cell_type": "code",
   "execution_count": 15,
   "metadata": {},
   "outputs": [
    {
     "data": {
      "text/plain": [
       "{'whiskers': [<matplotlib.lines.Line2D at 0x13f80da20>,\n",
       "  <matplotlib.lines.Line2D at 0x13f80dcc0>,\n",
       "  <matplotlib.lines.Line2D at 0x13f80ecb0>,\n",
       "  <matplotlib.lines.Line2D at 0x13f80ef50>],\n",
       " 'caps': [<matplotlib.lines.Line2D at 0x13f80df60>,\n",
       "  <matplotlib.lines.Line2D at 0x13f80e200>,\n",
       "  <matplotlib.lines.Line2D at 0x13f80f1f0>,\n",
       "  <matplotlib.lines.Line2D at 0x13f80f490>],\n",
       " 'boxes': [<matplotlib.lines.Line2D at 0x13f80d780>,\n",
       "  <matplotlib.lines.Line2D at 0x13f80ea10>],\n",
       " 'medians': [<matplotlib.lines.Line2D at 0x13f80e4a0>,\n",
       "  <matplotlib.lines.Line2D at 0x13f80f730>],\n",
       " 'fliers': [<matplotlib.lines.Line2D at 0x13f80e740>,\n",
       "  <matplotlib.lines.Line2D at 0x13f80f9d0>],\n",
       " 'means': []}"
      ]
     },
     "execution_count": 15,
     "metadata": {},
     "output_type": "execute_result"
    },
    {
     "data": {
      "image/png": "[encoded data removed]",
      "text/plain": [
       "<Figure size 640x480 with 1 Axes>"
      ]
     },
     "metadata": {},
     "output_type": "display_data"
    }
   ],
   "source": [
    "groupe = [g1, g2]\n",
    "plt.boxplot(groupe, labels=[\"MOTS\", \"DESSINS\"])"
   ]
  },
  {
   "cell_type": "code",
   "execution_count": 16,
   "metadata": {},
   "outputs": [
    {
     "name": "stdout",
     "output_type": "stream",
     "text": [
      "Ttest_indResult(statistic=-6.722288824999849, pvalue=1.4742908481755571e-09)\n",
      "pvalue is showing valid study : True.\n"
     ]
    }
   ],
   "source": [
    "# g2 is unequal because of nan values so we use an independent t-test\n",
    "\n",
    "test_conclude(stats.ttest_ind(g1, g2, equal_var=True))"
   ]
  },
  {
   "cell_type": "code",
   "execution_count": 17,
   "metadata": {},
   "outputs": [
    {
     "name": "stdout",
     "output_type": "stream",
     "text": [
      "F_onewayResult(statistic=45.18916704671782, pvalue=1.4742908481755667e-09)\n",
      "pvalue is showing valid study : True.\n"
     ]
    }
   ],
   "source": [
    "test_conclude(stats.f_oneway(g1, g2))"
   ]
  },
  {
   "cell_type": "markdown",
   "metadata": {},
   "source": [
    "## Score 4\n",
    "\n",
    "Amélioration d'un score de concentration après une formation en méditation.\n",
    "\n",
    "--> 2 groupe apparié avec chacun une variable quantitative continue\n",
    "\n",
    "- Student pour données appariées est adapté\n",
    "- Anova fonctionne aussi mais donne une p-value différente"
   ]
  },
  {
   "cell_type": "code",
   "execution_count": 18,
   "metadata": {},
   "outputs": [
    {
     "data": {
      "text/html": [
       "<div>\n",
       "<style scoped>\n",
       "    .dataframe tbody tr th:only-of-type {\n",
       "        vertical-align: middle;\n",
       "    }\n",
       "\n",
       "    .dataframe tbody tr th {\n",
       "        vertical-align: top;\n",
       "    }\n",
       "\n",
       "    .dataframe thead th {\n",
       "        text-align: right;\n",
       "    }\n",
       "</style>\n",
       "<table border=\"1\" class=\"dataframe\">\n",
       "  <thead>\n",
       "    <tr style=\"text-align: right;\">\n",
       "      <th></th>\n",
       "      <th>AVANT</th>\n",
       "      <th>APRES</th>\n",
       "    </tr>\n",
       "  </thead>\n",
       "  <tbody>\n",
       "    <tr>\n",
       "      <th>count</th>\n",
       "      <td>21.000000</td>\n",
       "      <td>21.000000</td>\n",
       "    </tr>\n",
       "    <tr>\n",
       "      <th>mean</th>\n",
       "      <td>11.190476</td>\n",
       "      <td>11.857143</td>\n",
       "    </tr>\n",
       "    <tr>\n",
       "      <th>std</th>\n",
       "      <td>3.187774</td>\n",
       "      <td>2.851065</td>\n",
       "    </tr>\n",
       "    <tr>\n",
       "      <th>min</th>\n",
       "      <td>6.000000</td>\n",
       "      <td>7.000000</td>\n",
       "    </tr>\n",
       "    <tr>\n",
       "      <th>25%</th>\n",
       "      <td>9.000000</td>\n",
       "      <td>10.000000</td>\n",
       "    </tr>\n",
       "    <tr>\n",
       "      <th>50%</th>\n",
       "      <td>11.000000</td>\n",
       "      <td>12.000000</td>\n",
       "    </tr>\n",
       "    <tr>\n",
       "      <th>75%</th>\n",
       "      <td>12.000000</td>\n",
       "      <td>13.000000</td>\n",
       "    </tr>\n",
       "    <tr>\n",
       "      <th>max</th>\n",
       "      <td>18.000000</td>\n",
       "      <td>17.000000</td>\n",
       "    </tr>\n",
       "  </tbody>\n",
       "</table>\n",
       "</div>"
      ],
      "text/plain": [
       "           AVANT      APRES\n",
       "count  21.000000  21.000000\n",
       "mean   11.190476  11.857143\n",
       "std     3.187774   2.851065\n",
       "min     6.000000   7.000000\n",
       "25%     9.000000  10.000000\n",
       "50%    11.000000  12.000000\n",
       "75%    12.000000  13.000000\n",
       "max    18.000000  17.000000"
      ]
     },
     "execution_count": 18,
     "metadata": {},
     "output_type": "execute_result"
    }
   ],
   "source": [
    "data = pd.read_csv(get_dataset_dir(\"score-4.csv\"), sep=\";\", index_col=\"SUJETS\")\n",
    "\n",
    "data.describe()"
   ]
  },
  {
   "cell_type": "code",
   "execution_count": 19,
   "metadata": {},
   "outputs": [
    {
     "data": {
      "image/png": "[encoded data removed]",
      "text/plain": [
       "<Figure size 640x480 with 1 Axes>"
      ]
     },
     "metadata": {},
     "output_type": "display_data"
    }
   ],
   "source": [
    "plt.boxplot(data, labels=['AVANT','APRES']);"
   ]
  },
  {
   "cell_type": "code",
   "execution_count": 20,
   "metadata": {},
   "outputs": [
    {
     "name": "stdout",
     "output_type": "stream",
     "text": [
      "NormaltestResult(statistic=0.9915166816898752, pvalue=0.6091088200113967)\n",
      "pvalue is showing valid study : True.\n",
      "NormaltestResult(statistic=0.5444354056013817, pvalue=0.7616884213360244)\n",
      "pvalue is showing valid study : True.\n",
      "LeveneResult(statistic=0.007127583749109002, pvalue=0.9331396502303381)\n",
      "pvalue is showing valid study : True.\n"
     ]
    }
   ],
   "source": [
    "for result in [\n",
    "    stats.normaltest(data[\"AVANT\"]),\n",
    "    stats.normaltest(data[\"APRES\"]),\n",
    "    stats.levene(data[\"AVANT\"], data[\"APRES\"]),\n",
    "]:\n",
    "    test_conclude(result, reverse=True)"
   ]
  },
  {
   "cell_type": "code",
   "execution_count": 21,
   "metadata": {},
   "outputs": [
    {
     "data": {
      "text/plain": [
       "TtestResult(statistic=-0.6645602896268298, pvalue=0.513921876314335, df=20)"
      ]
     },
     "execution_count": 21,
     "metadata": {},
     "output_type": "execute_result"
    }
   ],
   "source": [
    "stats.ttest_rel(data['AVANT'], data['APRES'])\n"
   ]
  },
  {
   "cell_type": "code",
   "execution_count": 22,
   "metadata": {},
   "outputs": [
    {
     "data": {
      "text/plain": [
       "F_onewayResult(statistic=0.5102837802655559, pvalue=0.47916421534280584)"
      ]
     },
     "execution_count": 22,
     "metadata": {},
     "output_type": "execute_result"
    }
   ],
   "source": [
    "stats.f_oneway(data['AVANT'], data['APRES'])"
   ]
  },
  {
   "cell_type": "markdown",
   "metadata": {},
   "source": [
    "## Score 5\n",
    "\n",
    "La familiarité des mots facilite-t-elle leur apprentissage ? F1 rares ==> F4 courant\n",
    "\n",
    "- 4 groupes catégoriels indépendants présentant chacun une variable quantitative (score de rappel)\n",
    "- ils sont paramétriques (distribution normale et homoscédasticité) donc analyse multivariée\n",
    "Facteur étude : \n",
    "- + de 2 groupes qualitatifs ordinaux indépendants\n",
    "- variable quantitative continue, paramétrique"
   ]
  },
  {
   "cell_type": "code",
   "execution_count": 23,
   "metadata": {},
   "outputs": [
    {
     "data": {
      "text/html": [
       "<div>\n",
       "<style scoped>\n",
       "    .dataframe tbody tr th:only-of-type {\n",
       "        vertical-align: middle;\n",
       "    }\n",
       "\n",
       "    .dataframe tbody tr th {\n",
       "        vertical-align: top;\n",
       "    }\n",
       "\n",
       "    .dataframe thead th {\n",
       "        text-align: right;\n",
       "    }\n",
       "</style>\n",
       "<table border=\"1\" class=\"dataframe\">\n",
       "  <thead>\n",
       "    <tr style=\"text-align: right;\">\n",
       "      <th></th>\n",
       "      <th>F1</th>\n",
       "      <th>F2</th>\n",
       "      <th>F3</th>\n",
       "      <th>F4</th>\n",
       "    </tr>\n",
       "  </thead>\n",
       "  <tbody>\n",
       "    <tr>\n",
       "      <th>0</th>\n",
       "      <td>13.0</td>\n",
       "      <td>12.0</td>\n",
       "      <td>15.0</td>\n",
       "      <td>16</td>\n",
       "    </tr>\n",
       "    <tr>\n",
       "      <th>1</th>\n",
       "      <td>12.0</td>\n",
       "      <td>13.0</td>\n",
       "      <td>16.0</td>\n",
       "      <td>15</td>\n",
       "    </tr>\n",
       "    <tr>\n",
       "      <th>2</th>\n",
       "      <td>11.0</td>\n",
       "      <td>14.0</td>\n",
       "      <td>12.0</td>\n",
       "      <td>16</td>\n",
       "    </tr>\n",
       "    <tr>\n",
       "      <th>3</th>\n",
       "      <td>10.0</td>\n",
       "      <td>13.0</td>\n",
       "      <td>18.0</td>\n",
       "      <td>14</td>\n",
       "    </tr>\n",
       "    <tr>\n",
       "      <th>4</th>\n",
       "      <td>12.0</td>\n",
       "      <td>16.0</td>\n",
       "      <td>14.0</td>\n",
       "      <td>17</td>\n",
       "    </tr>\n",
       "  </tbody>\n",
       "</table>\n",
       "</div>"
      ],
      "text/plain": [
       "     F1    F2    F3  F4\n",
       "0  13.0  12.0  15.0  16\n",
       "1  12.0  13.0  16.0  15\n",
       "2  11.0  14.0  12.0  16\n",
       "3  10.0  13.0  18.0  14\n",
       "4  12.0  16.0  14.0  17"
      ]
     },
     "execution_count": 23,
     "metadata": {},
     "output_type": "execute_result"
    }
   ],
   "source": [
    "data = pd.read_csv(get_dataset_dir(\"score-5.csv\"), sep=\";\")\n",
    "\n",
    "data.head()"
   ]
  },
  {
   "cell_type": "code",
   "execution_count": 24,
   "metadata": {},
   "outputs": [
    {
     "name": "stdout",
     "output_type": "stream",
     "text": [
      "count    18.000000\n",
      "mean     12.055556\n",
      "std       1.589385\n",
      "min       8.000000\n",
      "25%      11.250000\n",
      "50%      12.000000\n",
      "75%      13.000000\n",
      "max      15.000000\n",
      "Name: F1, dtype: float64\n",
      "count    15.000000\n",
      "mean     13.333333\n",
      "std       1.914854\n",
      "min      10.000000\n",
      "25%      12.000000\n",
      "50%      13.000000\n",
      "75%      14.000000\n",
      "max      17.000000\n",
      "Name: F2, dtype: float64\n",
      "count    18.000000\n",
      "mean     15.000000\n",
      "std       1.940285\n",
      "min      12.000000\n",
      "25%      14.000000\n",
      "50%      15.000000\n",
      "75%      16.000000\n",
      "max      18.000000\n",
      "Name: F3, dtype: float64\n",
      "count    20.000000\n",
      "mean     15.050000\n",
      "std       2.235479\n",
      "min      10.000000\n",
      "25%      14.000000\n",
      "50%      15.000000\n",
      "75%      16.250000\n",
      "max      18.000000\n",
      "Name: F4, dtype: float64\n"
     ]
    }
   ],
   "source": [
    "gs = [\n",
    "    data[\"F1\"].dropna(),\n",
    "    data[\"F2\"].dropna(),\n",
    "    data[\"F3\"].dropna(),\n",
    "    data[\"F4\"].dropna(),\n",
    "]\n",
    "\n",
    "for g in gs:\n",
    "    print(g.describe())"
   ]
  },
  {
   "cell_type": "code",
   "execution_count": 25,
   "metadata": {},
   "outputs": [
    {
     "data": {
      "text/plain": [
       "{'whiskers': [<matplotlib.lines.Line2D at 0x13f917a90>,\n",
       "  <matplotlib.lines.Line2D at 0x13f93d0c0>,\n",
       "  <matplotlib.lines.Line2D at 0x13f93e020>,\n",
       "  <matplotlib.lines.Line2D at 0x13f93e2c0>,\n",
       "  <matplotlib.lines.Line2D at 0x13f93f280>,\n",
       "  <matplotlib.lines.Line2D at 0x13f93f520>,\n",
       "  <matplotlib.lines.Line2D at 0x13f88c4f0>,\n",
       "  <matplotlib.lines.Line2D at 0x13f9782b0>],\n",
       " 'caps': [<matplotlib.lines.Line2D at 0x13f93d360>,\n",
       "  <matplotlib.lines.Line2D at 0x13f93d600>,\n",
       "  <matplotlib.lines.Line2D at 0x13f93e560>,\n",
       "  <matplotlib.lines.Line2D at 0x13f93e800>,\n",
       "  <matplotlib.lines.Line2D at 0x13f93f7c0>,\n",
       "  <matplotlib.lines.Line2D at 0x13f93fa60>,\n",
       "  <matplotlib.lines.Line2D at 0x13f978550>,\n",
       "  <matplotlib.lines.Line2D at 0x13f9787f0>],\n",
       " 'boxes': [<matplotlib.lines.Line2D at 0x13f93cca0>,\n",
       "  <matplotlib.lines.Line2D at 0x13f93dde0>,\n",
       "  <matplotlib.lines.Line2D at 0x13f93efe0>,\n",
       "  <matplotlib.lines.Line2D at 0x13f8cb5b0>],\n",
       " 'medians': [<matplotlib.lines.Line2D at 0x13f93d8a0>,\n",
       "  <matplotlib.lines.Line2D at 0x13f93eaa0>,\n",
       "  <matplotlib.lines.Line2D at 0x13f93fd00>,\n",
       "  <matplotlib.lines.Line2D at 0x13f978a90>],\n",
       " 'fliers': [<matplotlib.lines.Line2D at 0x13f93db40>,\n",
       "  <matplotlib.lines.Line2D at 0x13f93ed40>,\n",
       "  <matplotlib.lines.Line2D at 0x13f93ffa0>,\n",
       "  <matplotlib.lines.Line2D at 0x13f978d30>],\n",
       " 'means': []}"
      ]
     },
     "execution_count": 25,
     "metadata": {},
     "output_type": "execute_result"
    },
    {
     "data": {
      "image/png": "[encoded data removed]",
      "text/plain": [
       "<Figure size 640x480 with 1 Axes>"
      ]
     },
     "metadata": {},
     "output_type": "display_data"
    }
   ],
   "source": [
    "labels = [\"F1\", \"F2\", \"F3\", \"F4\"]\n",
    "\n",
    "plt.boxplot(gs, labels=labels)\n"
   ]
  },
  {
   "cell_type": "code",
   "execution_count": 26,
   "metadata": {},
   "outputs": [
    {
     "data": {
      "text/plain": [
       "<matplotlib.legend.Legend at 0x13f97b310>"
      ]
     },
     "execution_count": 26,
     "metadata": {},
     "output_type": "execute_result"
    },
    {
     "data": {
      "image/png": "[encoded data removed]",
      "text/plain": [
       "<Figure size 640x480 with 1 Axes>"
      ]
     },
     "metadata": {},
     "output_type": "display_data"
    }
   ],
   "source": [
    "for g in gs:\n",
    "    sns.kdeplot(g, legend=True)\n",
    "\n",
    "plt.legend(labels=labels)"
   ]
  },
  {
   "cell_type": "code",
   "execution_count": 27,
   "metadata": {},
   "outputs": [
    {
     "name": "stdout",
     "output_type": "stream",
     "text": [
      "NormaltestResult(statistic=3.4908338642436254, pvalue=0.17457218903836588)\n",
      "pvalue is showing valid study : True.\n",
      "NormaltestResult(statistic=0.4455610592110122, pvalue=0.8002904700872466)\n",
      "pvalue is showing valid study : True.\n",
      "NormaltestResult(statistic=1.0414133950006592, pvalue=0.5941005502082133)\n",
      "pvalue is showing valid study : True.\n",
      "NormaltestResult(statistic=2.283291396077277, pvalue=0.31929312912835456)\n",
      "pvalue is showing valid study : True.\n"
     ]
    },
    {
     "name": "stderr",
     "output_type": "stream",
     "text": [
      "/Users/loic/mambaforge/envs/ml/lib/python3.10/site-packages/scipy/stats/_stats_py.py:1736: UserWarning: kurtosistest only valid for n>=20 ... continuing anyway, n=18\n",
      "  warnings.warn(\"kurtosistest only valid for n>=20 ... continuing \"\n",
      "/Users/loic/mambaforge/envs/ml/lib/python3.10/site-packages/scipy/stats/_stats_py.py:1736: UserWarning: kurtosistest only valid for n>=20 ... continuing anyway, n=15\n",
      "  warnings.warn(\"kurtosistest only valid for n>=20 ... continuing \"\n"
     ]
    }
   ],
   "source": [
    "for g in gs:\n",
    "    test_conclude(stats.normaltest(g), reverse=True)"
   ]
  },
  {
   "cell_type": "code",
   "execution_count": 28,
   "metadata": {},
   "outputs": [
    {
     "name": "stdout",
     "output_type": "stream",
     "text": [
      "F_onewayResult(statistic=10.077576698057928, pvalue=1.4496140375015433e-05)\n",
      "pvalue is showing valid study : True.\n"
     ]
    }
   ],
   "source": [
    "test_conclude(stats.f_oneway(*gs))"
   ]
  },
  {
   "cell_type": "code",
   "execution_count": 29,
   "metadata": {},
   "outputs": [
    {
     "data": {
      "text/plain": [
       "Ttest_indResult(statistic=-2.095831779513942, pvalue=0.044356973616722487)"
      ]
     },
     "execution_count": 29,
     "metadata": {},
     "output_type": "execute_result"
    }
   ],
   "source": [
    "stats.ttest_ind(gs[0], gs[1])"
   ]
  },
  {
   "cell_type": "code",
   "execution_count": 30,
   "metadata": {},
   "outputs": [
    {
     "data": {
      "text/plain": [
       "Ttest_indResult(statistic=-2.4715937403720165, pvalue=0.019147383008004257)"
      ]
     },
     "execution_count": 30,
     "metadata": {},
     "output_type": "execute_result"
    }
   ],
   "source": [
    "stats.ttest_ind(gs[1], gs[2])"
   ]
  },
  {
   "cell_type": "code",
   "execution_count": 31,
   "metadata": {},
   "outputs": [
    {
     "data": {
      "text/plain": [
       "Ttest_indResult(statistic=0.07324035499758542, pvalue=0.9420202865234808)"
      ]
     },
     "execution_count": 31,
     "metadata": {},
     "output_type": "execute_result"
    }
   ],
   "source": [
    "stats.ttest_ind(gs[3], gs[2])"
   ]
  },
  {
   "cell_type": "markdown",
   "metadata": {},
   "source": [
    "## Score 6\n",
    "\n",
    "Facteur d'étude : Nombre Suicide (quantitatif discontinue), 4 échantillons.\n",
    "saison : variable qualitatives nominale\n",
    "\n",
    "--> Si j'ai des chiffres (discret) dans des catégories je prend le chi^2"
   ]
  },
  {
   "cell_type": "code",
   "execution_count": 32,
   "metadata": {},
   "outputs": [
    {
     "data": {
      "text/html": [
       "<div>\n",
       "<style scoped>\n",
       "    .dataframe tbody tr th:only-of-type {\n",
       "        vertical-align: middle;\n",
       "    }\n",
       "\n",
       "    .dataframe tbody tr th {\n",
       "        vertical-align: top;\n",
       "    }\n",
       "\n",
       "    .dataframe thead th {\n",
       "        text-align: right;\n",
       "    }\n",
       "</style>\n",
       "<table border=\"1\" class=\"dataframe\">\n",
       "  <thead>\n",
       "    <tr style=\"text-align: right;\">\n",
       "      <th></th>\n",
       "      <th>PRINTEMPS</th>\n",
       "      <th>SUMMER</th>\n",
       "      <th>AUTOMNE</th>\n",
       "      <th>HIVER</th>\n",
       "    </tr>\n",
       "  </thead>\n",
       "  <tbody>\n",
       "    <tr>\n",
       "      <th>0</th>\n",
       "      <td>283</td>\n",
       "      <td>306</td>\n",
       "      <td>210</td>\n",
       "      <td>201</td>\n",
       "    </tr>\n",
       "  </tbody>\n",
       "</table>\n",
       "</div>"
      ],
      "text/plain": [
       "   PRINTEMPS  SUMMER  AUTOMNE  HIVER\n",
       "0        283     306      210    201"
      ]
     },
     "execution_count": 32,
     "metadata": {},
     "output_type": "execute_result"
    }
   ],
   "source": [
    "data = pd.read_csv(get_dataset_dir(\"score-6.csv\"), sep=\";\")\n",
    "\n",
    "data"
   ]
  },
  {
   "cell_type": "code",
   "execution_count": 33,
   "metadata": {},
   "outputs": [
    {
     "name": "stdout",
     "output_type": "stream",
     "text": [
      "Power_divergenceResult(statistic=32.903999999999996, pvalue=3.3743909565465174e-07)\n",
      "pvalue is showing valid study : True.\n"
     ]
    }
   ],
   "source": [
    "test_conclude(stats.chisquare(list(data.loc[0, :]), [250 for _ in range(4)]))\n"
   ]
  },
  {
   "cell_type": "markdown",
   "metadata": {},
   "source": [
    "## Score 7\n",
    "\n",
    "facteur d'étude : 2 normes HOMME, FEMME, variable qualitative continue\n",
    "variable : deux échantillons de variables quantitatives (PG, PF)\n",
    "\n",
    "--> analyse unvarié, chi^2 contingence pour 2 échantillons"
   ]
  },
  {
   "cell_type": "code",
   "execution_count": 34,
   "metadata": {},
   "outputs": [
    {
     "data": {
      "text/html": [
       "<div>\n",
       "<style scoped>\n",
       "    .dataframe tbody tr th:only-of-type {\n",
       "        vertical-align: middle;\n",
       "    }\n",
       "\n",
       "    .dataframe tbody tr th {\n",
       "        vertical-align: top;\n",
       "    }\n",
       "\n",
       "    .dataframe thead th {\n",
       "        text-align: right;\n",
       "    }\n",
       "</style>\n",
       "<table border=\"1\" class=\"dataframe\">\n",
       "  <thead>\n",
       "    <tr style=\"text-align: right;\">\n",
       "      <th></th>\n",
       "      <th>HOMME</th>\n",
       "      <th>FEMME</th>\n",
       "    </tr>\n",
       "  </thead>\n",
       "  <tbody>\n",
       "    <tr>\n",
       "      <th>PG</th>\n",
       "      <td>45</td>\n",
       "      <td>57</td>\n",
       "    </tr>\n",
       "    <tr>\n",
       "      <th>PF</th>\n",
       "      <td>55</td>\n",
       "      <td>43</td>\n",
       "    </tr>\n",
       "  </tbody>\n",
       "</table>\n",
       "</div>"
      ],
      "text/plain": [
       "    HOMME  FEMME\n",
       "PG     45     57\n",
       "PF     55     43"
      ]
     },
     "execution_count": 34,
     "metadata": {},
     "output_type": "execute_result"
    }
   ],
   "source": [
    "data = pd.read_csv(get_dataset_dir(\"score-7.csv\"), sep=\";\", index_col=0)\n",
    "\n",
    "data"
   ]
  },
  {
   "cell_type": "code",
   "execution_count": 35,
   "metadata": {},
   "outputs": [
    {
     "data": {
      "text/plain": [
       "Chi2ContingencyResult(statistic=2.420968387354942, pvalue=0.11972090062257504, dof=1, expected_freq=array([[51., 51.],\n",
       "       [49., 49.]]))"
      ]
     },
     "execution_count": 35,
     "metadata": {},
     "output_type": "execute_result"
    }
   ],
   "source": [
    "stats.chi2_contingency(data)\n"
   ]
  },
  {
   "cell_type": "markdown",
   "metadata": {},
   "source": [
    "## Altruisme et décibels\n",
    "BRUITS FAIBLES      16 aident  et 3 non\n",
    "BRUITS FORTS         4 aident et 17 non"
   ]
  },
  {
   "cell_type": "code",
   "execution_count": 36,
   "metadata": {},
   "outputs": [
    {
     "data": {
      "text/plain": [
       "array([[16,  3],\n",
       "       [ 4, 17]])"
      ]
     },
     "execution_count": 36,
     "metadata": {},
     "output_type": "execute_result"
    }
   ],
   "source": [
    "tab = np.array([[16, 3], [4, 17]])\n",
    "tab"
   ]
  },
  {
   "cell_type": "code",
   "execution_count": 37,
   "metadata": {},
   "outputs": [
    {
     "data": {
      "text/plain": [
       "Chi2ContingencyResult(statistic=14.436090225563909, pvalue=0.0001449967827002435, dof=1, expected_freq=array([[ 9.5,  9.5],\n",
       "       [10.5, 10.5]]))"
      ]
     },
     "execution_count": 37,
     "metadata": {},
     "output_type": "execute_result"
    }
   ],
   "source": [
    "stats.chi2_contingency(tab)\n"
   ]
  },
  {
   "cell_type": "markdown",
   "metadata": {},
   "source": [
    "## Score 9\n",
    "\n",
    "- variables de réponses : quantitative continue, apparié\n",
    "- Facteur d'étude : quantitative continue, apparié"
   ]
  },
  {
   "cell_type": "code",
   "execution_count": 38,
   "metadata": {},
   "outputs": [
    {
     "data": {
      "text/html": [
       "<div>\n",
       "<style scoped>\n",
       "    .dataframe tbody tr th:only-of-type {\n",
       "        vertical-align: middle;\n",
       "    }\n",
       "\n",
       "    .dataframe tbody tr th {\n",
       "        vertical-align: top;\n",
       "    }\n",
       "\n",
       "    .dataframe thead th {\n",
       "        text-align: right;\n",
       "    }\n",
       "</style>\n",
       "<table border=\"1\" class=\"dataframe\">\n",
       "  <thead>\n",
       "    <tr style=\"text-align: right;\">\n",
       "      <th></th>\n",
       "      <th>NOTE SEMANTIQUE</th>\n",
       "      <th>MOYENNE GENERALE</th>\n",
       "    </tr>\n",
       "    <tr>\n",
       "      <th>ELEVE</th>\n",
       "      <th></th>\n",
       "      <th></th>\n",
       "    </tr>\n",
       "  </thead>\n",
       "  <tbody>\n",
       "    <tr>\n",
       "      <th>1</th>\n",
       "      <td>603</td>\n",
       "      <td>18.05</td>\n",
       "    </tr>\n",
       "    <tr>\n",
       "      <th>2</th>\n",
       "      <td>264</td>\n",
       "      <td>4.58</td>\n",
       "    </tr>\n",
       "    <tr>\n",
       "      <th>3</th>\n",
       "      <td>537</td>\n",
       "      <td>13.33</td>\n",
       "    </tr>\n",
       "    <tr>\n",
       "      <th>4</th>\n",
       "      <td>347</td>\n",
       "      <td>9.67</td>\n",
       "    </tr>\n",
       "    <tr>\n",
       "      <th>5</th>\n",
       "      <td>463</td>\n",
       "      <td>12.24</td>\n",
       "    </tr>\n",
       "  </tbody>\n",
       "</table>\n",
       "</div>"
      ],
      "text/plain": [
       "       NOTE SEMANTIQUE  MOYENNE GENERALE\n",
       "ELEVE                                   \n",
       "1                  603             18.05\n",
       "2                  264              4.58\n",
       "3                  537             13.33\n",
       "4                  347              9.67\n",
       "5                  463             12.24"
      ]
     },
     "execution_count": 38,
     "metadata": {},
     "output_type": "execute_result"
    }
   ],
   "source": [
    "data = pd.read_csv(get_dataset_dir(\"score-9.csv\"), sep=\";\", index_col='ELEVE')\n",
    "\n",
    "data.head()"
   ]
  },
  {
   "cell_type": "code",
   "execution_count": 39,
   "metadata": {},
   "outputs": [
    {
     "data": {
      "text/html": [
       "<div>\n",
       "<style scoped>\n",
       "    .dataframe tbody tr th:only-of-type {\n",
       "        vertical-align: middle;\n",
       "    }\n",
       "\n",
       "    .dataframe tbody tr th {\n",
       "        vertical-align: top;\n",
       "    }\n",
       "\n",
       "    .dataframe thead th {\n",
       "        text-align: right;\n",
       "    }\n",
       "</style>\n",
       "<table border=\"1\" class=\"dataframe\">\n",
       "  <thead>\n",
       "    <tr style=\"text-align: right;\">\n",
       "      <th></th>\n",
       "      <th>NOTE SEMANTIQUE</th>\n",
       "      <th>MOYENNE GENERALE</th>\n",
       "    </tr>\n",
       "  </thead>\n",
       "  <tbody>\n",
       "    <tr>\n",
       "      <th>count</th>\n",
       "      <td>20.00000</td>\n",
       "      <td>20.000000</td>\n",
       "    </tr>\n",
       "    <tr>\n",
       "      <th>mean</th>\n",
       "      <td>430.30000</td>\n",
       "      <td>11.378500</td>\n",
       "    </tr>\n",
       "    <tr>\n",
       "      <th>std</th>\n",
       "      <td>130.23788</td>\n",
       "      <td>3.460455</td>\n",
       "    </tr>\n",
       "    <tr>\n",
       "      <th>min</th>\n",
       "      <td>39.00000</td>\n",
       "      <td>4.580000</td>\n",
       "    </tr>\n",
       "    <tr>\n",
       "      <th>25%</th>\n",
       "      <td>354.50000</td>\n",
       "      <td>9.560000</td>\n",
       "    </tr>\n",
       "    <tr>\n",
       "      <th>50%</th>\n",
       "      <td>458.50000</td>\n",
       "      <td>10.820000</td>\n",
       "    </tr>\n",
       "    <tr>\n",
       "      <th>75%</th>\n",
       "      <td>515.50000</td>\n",
       "      <td>13.525000</td>\n",
       "    </tr>\n",
       "    <tr>\n",
       "      <th>max</th>\n",
       "      <td>603.00000</td>\n",
       "      <td>18.050000</td>\n",
       "    </tr>\n",
       "  </tbody>\n",
       "</table>\n",
       "</div>"
      ],
      "text/plain": [
       "       NOTE SEMANTIQUE  MOYENNE GENERALE\n",
       "count         20.00000         20.000000\n",
       "mean         430.30000         11.378500\n",
       "std          130.23788          3.460455\n",
       "min           39.00000          4.580000\n",
       "25%          354.50000          9.560000\n",
       "50%          458.50000         10.820000\n",
       "75%          515.50000         13.525000\n",
       "max          603.00000         18.050000"
      ]
     },
     "execution_count": 39,
     "metadata": {},
     "output_type": "execute_result"
    }
   ],
   "source": [
    "data.describe()"
   ]
  },
  {
   "cell_type": "code",
   "execution_count": 40,
   "metadata": {},
   "outputs": [
    {
     "name": "stdout",
     "output_type": "stream",
     "text": [
      "NormaltestResult(statistic=11.8335396057896, pvalue=0.002693887926810395)\n",
      "pvalue is showing valid study : False.\n",
      "NormaltestResult(statistic=0.04300711823255439, pvalue=0.9787259940633323)\n",
      "pvalue is showing valid study : True.\n",
      "LeveneResult(statistic=18.48308429319689, pvalue=0.0001151091123330023)\n",
      "pvalue is showing valid study : False.\n"
     ]
    }
   ],
   "source": [
    "test_conclude(stats.normaltest(data['NOTE SEMANTIQUE']), reverse=True)\n",
    "test_conclude(stats.normaltest(data['MOYENNE GENERALE']), reverse=True)\n",
    "\n",
    "test_conclude(stats.levene(data['NOTE SEMANTIQUE'], data['MOYENNE GENERALE']), reverse=True)\n",
    "\n",
    "# une seule distribution normale, pas de variance égale donc on utilise un test non paramétrique"
   ]
  },
  {
   "cell_type": "code",
   "execution_count": 41,
   "metadata": {},
   "outputs": [
    {
     "data": {
      "text/plain": [
       "<matplotlib.collections.PathCollection at 0x13fb4ae00>"
      ]
     },
     "execution_count": 41,
     "metadata": {},
     "output_type": "execute_result"
    },
    {
     "data": {
      "image/png": "[encoded data removed]",
      "text/plain": [
       "<Figure size 640x480 with 1 Axes>"
      ]
     },
     "metadata": {},
     "output_type": "display_data"
    }
   ],
   "source": [
    "plt.scatter(data[\"NOTE SEMANTIQUE\"], data[\"MOYENNE GENERALE\"])"
   ]
  },
  {
   "cell_type": "code",
   "execution_count": 42,
   "metadata": {},
   "outputs": [
    {
     "name": "stdout",
     "output_type": "stream",
     "text": [
      "SignificanceResult(statistic=0.7007518796992479, pvalue=0.0005786641020194392)\n",
      "pvalue is showing valid study : True.\n"
     ]
    }
   ],
   "source": [
    "test_conclude(stats.spearmanr(data['NOTE SEMANTIQUE'], data['MOYENNE GENERALE']))"
   ]
  },
  {
   "cell_type": "markdown",
   "metadata": {},
   "source": [
    "## Score 10\n",
    "\n",
    "- variables : 1gp variable quantitative continue, indépendante\n",
    "- facteur d'étude : 1gp variable quantitative continue, indépendante"
   ]
  },
  {
   "cell_type": "code",
   "execution_count": 43,
   "metadata": {},
   "outputs": [
    {
     "name": "stdout",
     "output_type": "stream",
     "text": [
      "       TAUXCHOMAGE  TAUXSUICIDE\n",
      "ANNEE                          \n",
      "1981          4.91         32.1\n",
      "1982          4.93         35.1\n",
      "1983          4.95         36.0\n",
      "1984          5.82         37.4\n",
      "1985          6.21         37.2\n"
     ]
    },
    {
     "data": {
      "text/html": [
       "<div>\n",
       "<style scoped>\n",
       "    .dataframe tbody tr th:only-of-type {\n",
       "        vertical-align: middle;\n",
       "    }\n",
       "\n",
       "    .dataframe tbody tr th {\n",
       "        vertical-align: top;\n",
       "    }\n",
       "\n",
       "    .dataframe thead th {\n",
       "        text-align: right;\n",
       "    }\n",
       "</style>\n",
       "<table border=\"1\" class=\"dataframe\">\n",
       "  <thead>\n",
       "    <tr style=\"text-align: right;\">\n",
       "      <th></th>\n",
       "      <th>TAUXCHOMAGE</th>\n",
       "      <th>TAUXSUICIDE</th>\n",
       "    </tr>\n",
       "    <tr>\n",
       "      <th>ANNEE</th>\n",
       "      <th></th>\n",
       "      <th></th>\n",
       "    </tr>\n",
       "  </thead>\n",
       "  <tbody>\n",
       "    <tr>\n",
       "      <th>1991</th>\n",
       "      <td>6.82</td>\n",
       "      <td>35.8</td>\n",
       "    </tr>\n",
       "    <tr>\n",
       "      <th>1992</th>\n",
       "      <td>6.91</td>\n",
       "      <td>36.4</td>\n",
       "    </tr>\n",
       "    <tr>\n",
       "      <th>1993</th>\n",
       "      <td>8.01</td>\n",
       "      <td>38.2</td>\n",
       "    </tr>\n",
       "    <tr>\n",
       "      <th>1994</th>\n",
       "      <td>9.04</td>\n",
       "      <td>39.1</td>\n",
       "    </tr>\n",
       "    <tr>\n",
       "      <th>1995</th>\n",
       "      <td>8.43</td>\n",
       "      <td>38.3</td>\n",
       "    </tr>\n",
       "  </tbody>\n",
       "</table>\n",
       "</div>"
      ],
      "text/plain": [
       "       TAUXCHOMAGE  TAUXSUICIDE\n",
       "ANNEE                          \n",
       "1991          6.82         35.8\n",
       "1992          6.91         36.4\n",
       "1993          8.01         38.2\n",
       "1994          9.04         39.1\n",
       "1995          8.43         38.3"
      ]
     },
     "execution_count": 43,
     "metadata": {},
     "output_type": "execute_result"
    }
   ],
   "source": [
    "float_comma_converter = lambda x: float(x.replace(\",\", \".\"))\n",
    "\n",
    "data = pd.read_csv(\n",
    "    get_dataset_dir(\"score-10.csv\"),\n",
    "    sep=\";\",\n",
    "    index_col=\"ANNEE\",\n",
    "    converters={\n",
    "        \"TAUXCHOMAGE\": float_comma_converter,\n",
    "        \"TAUXSUICIDE\": float_comma_converter,\n",
    "    },\n",
    ")\n",
    "\n",
    "print(data.head())\n",
    "\n",
    "data.tail()"
   ]
  },
  {
   "cell_type": "code",
   "execution_count": 44,
   "metadata": {},
   "outputs": [
    {
     "name": "stdout",
     "output_type": "stream",
     "text": [
      "<class 'pandas.core.frame.DataFrame'>\n",
      "Index: 15 entries, 1981 to 1995\n",
      "Data columns (total 2 columns):\n",
      " #   Column       Non-Null Count  Dtype  \n",
      "---  ------       --------------  -----  \n",
      " 0   TAUXCHOMAGE  15 non-null     float64\n",
      " 1   TAUXSUICIDE  15 non-null     float64\n",
      "dtypes: float64(2)\n",
      "memory usage: 360.0 bytes\n"
     ]
    }
   ],
   "source": [
    "data.info()"
   ]
  },
  {
   "cell_type": "code",
   "execution_count": 45,
   "metadata": {},
   "outputs": [
    {
     "data": {
      "text/plain": [
       "[<matplotlib.lines.Line2D at 0x13fbe5c90>]"
      ]
     },
     "execution_count": 45,
     "metadata": {},
     "output_type": "execute_result"
    },
    {
     "data": {
      "image/png": "[encoded data removed]",
      "text/plain": [
       "<Figure size 640x480 with 1 Axes>"
      ]
     },
     "metadata": {},
     "output_type": "display_data"
    }
   ],
   "source": [
    "plt.plot(data.index, data['TAUXCHOMAGE'], color=\"red\")\n"
   ]
  },
  {
   "cell_type": "code",
   "execution_count": 46,
   "metadata": {},
   "outputs": [
    {
     "data": {
      "text/plain": [
       "[<matplotlib.lines.Line2D at 0x13fc530d0>]"
      ]
     },
     "execution_count": 46,
     "metadata": {},
     "output_type": "execute_result"
    },
    {
     "data": {
      "image/png": "[encoded data removed]",
      "text/plain": [
       "<Figure size 640x480 with 1 Axes>"
      ]
     },
     "metadata": {},
     "output_type": "display_data"
    }
   ],
   "source": [
    "plt.plot(data.index, data['TAUXSUICIDE'], color=\"b\")"
   ]
  },
  {
   "cell_type": "code",
   "execution_count": 47,
   "metadata": {},
   "outputs": [
    {
     "name": "stdout",
     "output_type": "stream",
     "text": [
      "ShapiroResult(statistic=0.9307516813278198, pvalue=0.280019611120224)\n",
      "pvalue is showing valid study : True.\n",
      "ShapiroResult(statistic=0.9384810328483582, pvalue=0.3636546730995178)\n",
      "pvalue is showing valid study : True.\n"
     ]
    }
   ],
   "source": [
    "# Test parametric\n",
    "\n",
    "data['TAUXCHOMAGE'].dropna(inplace=True)\n",
    "data['TAUXSUICIDE'].dropna(inplace=True)\n",
    "\n",
    "test_conclude(stats.shapiro(data['TAUXCHOMAGE']), reverse=True)\n",
    "test_conclude(stats.shapiro(data['TAUXSUICIDE']), reverse=True)"
   ]
  },
  {
   "cell_type": "code",
   "execution_count": 48,
   "metadata": {},
   "outputs": [
    {
     "name": "stdout",
     "output_type": "stream",
     "text": [
      "LeveneResult(statistic=0.49068638339732756, pvalue=0.4894016337632644)\n",
      "pvalue is showing valid study : True.\n"
     ]
    }
   ],
   "source": [
    "test_conclude(stats.levene(data['TAUXCHOMAGE'], data['TAUXSUICIDE']), reverse=True)"
   ]
  },
  {
   "cell_type": "code",
   "execution_count": 49,
   "metadata": {},
   "outputs": [
    {
     "data": {
      "text/html": [
       "<div>\n",
       "<style scoped>\n",
       "    .dataframe tbody tr th:only-of-type {\n",
       "        vertical-align: middle;\n",
       "    }\n",
       "\n",
       "    .dataframe tbody tr th {\n",
       "        vertical-align: top;\n",
       "    }\n",
       "\n",
       "    .dataframe thead th {\n",
       "        text-align: right;\n",
       "    }\n",
       "</style>\n",
       "<table border=\"1\" class=\"dataframe\">\n",
       "  <thead>\n",
       "    <tr style=\"text-align: right;\">\n",
       "      <th></th>\n",
       "      <th>TAUXCHOMAGE</th>\n",
       "      <th>TAUXSUICIDE</th>\n",
       "    </tr>\n",
       "  </thead>\n",
       "  <tbody>\n",
       "    <tr>\n",
       "      <th>TAUXCHOMAGE</th>\n",
       "      <td>1.000000</td>\n",
       "      <td>0.796243</td>\n",
       "    </tr>\n",
       "    <tr>\n",
       "      <th>TAUXSUICIDE</th>\n",
       "      <td>0.796243</td>\n",
       "      <td>1.000000</td>\n",
       "    </tr>\n",
       "  </tbody>\n",
       "</table>\n",
       "</div>"
      ],
      "text/plain": [
       "             TAUXCHOMAGE  TAUXSUICIDE\n",
       "TAUXCHOMAGE     1.000000     0.796243\n",
       "TAUXSUICIDE     0.796243     1.000000"
      ]
     },
     "execution_count": 49,
     "metadata": {},
     "output_type": "execute_result"
    }
   ],
   "source": [
    "data.corr()"
   ]
  },
  {
   "cell_type": "code",
   "execution_count": 50,
   "metadata": {},
   "outputs": [
    {
     "data": {
      "text/plain": [
       "PearsonRResult(statistic=0.7962428796338278, pvalue=0.00038254509742530744)"
      ]
     },
     "execution_count": 50,
     "metadata": {},
     "output_type": "execute_result"
    }
   ],
   "source": [
    "stats.pearsonr(data['TAUXCHOMAGE'], data['TAUXSUICIDE'])"
   ]
  },
  {
   "cell_type": "markdown",
   "metadata": {},
   "source": [
    "## Score 12\n",
    "\n",
    "Influence de la musique sur le temps d'attente au téléphone\n",
    "\n",
    "Test, analyse multivariée :\n",
    "\n",
    "- Variable : + de 2 groupes var quantitative. Distribution normale et variance égales donc paramétrique.\n",
    "- Facteur d'étude : liste de moyennes quantitatives indépendantes\n",
    "\n",
    "> Une comparaison entre moyenne implique un test de différence donc partie droite du schéma de choix de test statistique.\n",
    "> Sinon on aurait choisit une correlation pearson..."
   ]
  },
  {
   "cell_type": "code",
   "execution_count": 51,
   "metadata": {},
   "outputs": [
    {
     "data": {
      "text/html": [
       "<div>\n",
       "<style scoped>\n",
       "    .dataframe tbody tr th:only-of-type {\n",
       "        vertical-align: middle;\n",
       "    }\n",
       "\n",
       "    .dataframe tbody tr th {\n",
       "        vertical-align: top;\n",
       "    }\n",
       "\n",
       "    .dataframe thead th {\n",
       "        text-align: right;\n",
       "    }\n",
       "</style>\n",
       "<table border=\"1\" class=\"dataframe\">\n",
       "  <thead>\n",
       "    <tr style=\"text-align: right;\">\n",
       "      <th></th>\n",
       "      <th>CLASSIQUE</th>\n",
       "      <th>POPULAIRE</th>\n",
       "      <th>RELAXANTE</th>\n",
       "      <th>COUNTRY</th>\n",
       "      <th>JAZZ</th>\n",
       "    </tr>\n",
       "  </thead>\n",
       "  <tbody>\n",
       "    <tr>\n",
       "      <th>0</th>\n",
       "      <td>26.74</td>\n",
       "      <td>19.64</td>\n",
       "      <td>29.72</td>\n",
       "      <td>23.39</td>\n",
       "      <td>7.94</td>\n",
       "    </tr>\n",
       "    <tr>\n",
       "      <th>1</th>\n",
       "      <td>10.87</td>\n",
       "      <td>16.52</td>\n",
       "      <td>23.59</td>\n",
       "      <td>15.41</td>\n",
       "      <td>7.28</td>\n",
       "    </tr>\n",
       "    <tr>\n",
       "      <th>2</th>\n",
       "      <td>26.51</td>\n",
       "      <td>17.10</td>\n",
       "      <td>31.09</td>\n",
       "      <td>11.00</td>\n",
       "      <td>12.48</td>\n",
       "    </tr>\n",
       "    <tr>\n",
       "      <th>3</th>\n",
       "      <td>18.67</td>\n",
       "      <td>18.11</td>\n",
       "      <td>22.14</td>\n",
       "      <td>3.72</td>\n",
       "      <td>9.64</td>\n",
       "    </tr>\n",
       "    <tr>\n",
       "      <th>4</th>\n",
       "      <td>15.03</td>\n",
       "      <td>29.20</td>\n",
       "      <td>24.36</td>\n",
       "      <td>7.96</td>\n",
       "      <td>9.31</td>\n",
       "    </tr>\n",
       "  </tbody>\n",
       "</table>\n",
       "</div>"
      ],
      "text/plain": [
       "   CLASSIQUE  POPULAIRE  RELAXANTE  COUNTRY   JAZZ\n",
       "0      26.74      19.64      29.72    23.39   7.94\n",
       "1      10.87      16.52      23.59    15.41   7.28\n",
       "2      26.51      17.10      31.09    11.00  12.48\n",
       "3      18.67      18.11      22.14     3.72   9.64\n",
       "4      15.03      29.20      24.36     7.96   9.31"
      ]
     },
     "execution_count": 51,
     "metadata": {},
     "output_type": "execute_result"
    }
   ],
   "source": [
    "data = pd.read_csv(get_dataset_dir(\"score-12.csv\"), sep=\";\")\n",
    "\n",
    "data.head()"
   ]
  },
  {
   "cell_type": "code",
   "execution_count": 52,
   "metadata": {},
   "outputs": [
    {
     "name": "stdout",
     "output_type": "stream",
     "text": [
      "<class 'pandas.core.frame.DataFrame'>\n",
      "RangeIndex: 14 entries, 0 to 13\n",
      "Data columns (total 5 columns):\n",
      " #   Column     Non-Null Count  Dtype  \n",
      "---  ------     --------------  -----  \n",
      " 0   CLASSIQUE  14 non-null     float64\n",
      " 1   POPULAIRE  14 non-null     float64\n",
      " 2   RELAXANTE  14 non-null     float64\n",
      " 3   COUNTRY    14 non-null     float64\n",
      " 4   JAZZ       14 non-null     float64\n",
      "dtypes: float64(5)\n",
      "memory usage: 688.0 bytes\n"
     ]
    }
   ],
   "source": [
    "data.info()"
   ]
  },
  {
   "cell_type": "code",
   "execution_count": 53,
   "metadata": {},
   "outputs": [
    {
     "data": {
      "text/plain": [
       "count    14.000000\n",
       "mean     13.200714\n",
       "std       8.183911\n",
       "min       2.870000\n",
       "25%       6.287500\n",
       "50%      10.895000\n",
       "75%      19.952500\n",
       "max      26.740000\n",
       "Name: CLASSIQUE, dtype: float64"
      ]
     },
     "execution_count": 53,
     "metadata": {},
     "output_type": "execute_result"
    }
   ],
   "source": [
    "data['CLASSIQUE'].describe()"
   ]
  },
  {
   "cell_type": "code",
   "execution_count": 54,
   "metadata": {},
   "outputs": [
    {
     "data": {
      "text/plain": [
       "count    14.0000\n",
       "mean      9.2350\n",
       "std       2.9612\n",
       "min       5.2100\n",
       "25%       7.3950\n",
       "50%       8.9150\n",
       "75%      11.7550\n",
       "max      14.2700\n",
       "Name: JAZZ, dtype: float64"
      ]
     },
     "execution_count": 54,
     "metadata": {},
     "output_type": "execute_result"
    }
   ],
   "source": [
    "data['JAZZ'].describe()"
   ]
  },
  {
   "cell_type": "code",
   "execution_count": 55,
   "metadata": {},
   "outputs": [
    {
     "name": "stdout",
     "output_type": "stream",
     "text": [
      "ShapiroResult(statistic=0.9220395684242249, pvalue=0.23523768782615662)\n",
      "pvalue is showing valid study : True.\n",
      "ShapiroResult(statistic=0.9456349611282349, pvalue=0.49520450830459595)\n",
      "pvalue is showing valid study : True.\n",
      "ShapiroResult(statistic=0.9581481218338013, pvalue=0.6925058364868164)\n",
      "pvalue is showing valid study : True.\n",
      "ShapiroResult(statistic=0.890737771987915, pvalue=0.08283612132072449)\n",
      "pvalue is showing valid study : True.\n",
      "ShapiroResult(statistic=0.9326695799827576, pvalue=0.33246690034866333)\n",
      "pvalue is showing valid study : True.\n",
      "LeveneResult(statistic=3.8774475697551227, pvalue=0.006927798459531864)\n",
      "pvalue is showing valid study : False.\n"
     ]
    }
   ],
   "source": [
    "gs = [data[col] for col in data.columns]\n",
    "for x in gs:\n",
    "    test_conclude(stats.shapiro(x), reverse=True)\n",
    "\n",
    "test_conclude(stats.levene(*gs), reverse=True)"
   ]
  },
  {
   "cell_type": "code",
   "execution_count": 56,
   "metadata": {},
   "outputs": [
    {
     "name": "stdout",
     "output_type": "stream",
     "text": [
      "LeveneResult(statistic=3.8774475697551227, pvalue=0.006927798459531864)\n",
      "pvalue is showing valid study : False.\n",
      "LeveneResult(statistic=1.8364902118673294, pvalue=0.1519978248561851)\n",
      "pvalue is showing valid study : True.\n"
     ]
    }
   ],
   "source": [
    "# Or en excluant le jazz on obtiendra un potentiel test paramétrique car les variances sont égales\n",
    "jazz_excluded = gs[0 : len(gs) - 1]\n",
    "\n",
    "test_conclude(stats.levene(*gs), reverse=True)\n",
    "test_conclude(\n",
    "    stats.levene(*jazz_excluded),\n",
    "    reverse=True,\n",
    ")"
   ]
  },
  {
   "cell_type": "code",
   "execution_count": 57,
   "metadata": {},
   "outputs": [
    {
     "data": {
      "image/png": "[encoded data removed]",
      "text/plain": [
       "<Figure size 640x480 with 1 Axes>"
      ]
     },
     "metadata": {},
     "output_type": "display_data"
    }
   ],
   "source": [
    "plt.boxplot(data, labels=['Classique','Pop','Relax','Country','Jazz']);"
   ]
  },
  {
   "cell_type": "code",
   "execution_count": 58,
   "metadata": {},
   "outputs": [
    {
     "name": "stdout",
     "output_type": "stream",
     "text": [
      "KruskalResult(statistic=10.983845932739285, pvalue=0.026746164938058637)\n",
      "pvalue is showing valid study : True.\n"
     ]
    }
   ],
   "source": [
    "# Peut aussi être pertinent si on inclus le groupe jazz non paramètrique dans l'étude\n",
    "\n",
    "test_conclude(stats.kruskal(*gs))"
   ]
  },
  {
   "cell_type": "code",
   "execution_count": 59,
   "metadata": {},
   "outputs": [
    {
     "name": "stdout",
     "output_type": "stream",
     "text": [
      "F_onewayResult(statistic=2.844134007487986, pvalue=0.046530648566629744)\n",
      "pvalue is showing valid study : True.\n"
     ]
    }
   ],
   "source": [
    "test_conclude(stats.f_oneway(*jazz_excluded))"
   ]
  },
  {
   "cell_type": "code",
   "execution_count": 60,
   "metadata": {},
   "outputs": [
    {
     "data": {
      "text/plain": [
       "Ttest_indResult(statistic=0.6546484341371426, pvalue=0.5184440108177668)"
      ]
     },
     "execution_count": 60,
     "metadata": {},
     "output_type": "execute_result"
    }
   ],
   "source": [
    "stats.ttest_ind(data[\"COUNTRY\"], data[\"JAZZ\"])"
   ]
  },
  {
   "cell_type": "code",
   "execution_count": 61,
   "metadata": {},
   "outputs": [
    {
     "data": {
      "text/plain": [
       "Ttest_indResult(statistic=-2.828965382487478, pvalue=0.008877410908334191)"
      ]
     },
     "execution_count": 61,
     "metadata": {},
     "output_type": "execute_result"
    }
   ],
   "source": [
    "stats.ttest_ind(data[\"COUNTRY\"], data[\"RELAXANTE\"])"
   ]
  },
  {
   "cell_type": "markdown",
   "metadata": {},
   "source": [
    "## Score 14\n",
    "\n",
    "Test, analyse multivariée :\n",
    "\n",
    "- Facteur d'étude : + de 2 groupes catégoriels nominaux <=> comparaison score (cf mean schéma) par catégorie.\n",
    "- variable de réponse : variables quantitatives continues. Distribution normale et variances égales donc non paramétrique.\n",
    "\n",
    "--> On partira sur un kruskal wallis suivi d'un post hoc de Tukey"
   ]
  },
  {
   "cell_type": "code",
   "execution_count": 105,
   "metadata": {},
   "outputs": [
    {
     "name": "stdout",
     "output_type": "stream",
     "text": [
      "<class 'pandas.core.frame.DataFrame'>\n",
      "RangeIndex: 70 entries, 0 to 69\n",
      "Data columns (total 2 columns):\n",
      " #   Column   Non-Null Count  Dtype  \n",
      "---  ------   --------------  -----  \n",
      " 0   MUSIQUE  70 non-null     object \n",
      " 1   SCORE    70 non-null     float64\n",
      "dtypes: float64(1), object(1)\n",
      "memory usage: 1.2+ KB\n",
      "None\n"
     ]
    },
    {
     "data": {
      "text/html": [
       "<div>\n",
       "<style scoped>\n",
       "    .dataframe tbody tr th:only-of-type {\n",
       "        vertical-align: middle;\n",
       "    }\n",
       "\n",
       "    .dataframe tbody tr th {\n",
       "        vertical-align: top;\n",
       "    }\n",
       "\n",
       "    .dataframe thead th {\n",
       "        text-align: right;\n",
       "    }\n",
       "</style>\n",
       "<table border=\"1\" class=\"dataframe\">\n",
       "  <thead>\n",
       "    <tr style=\"text-align: right;\">\n",
       "      <th></th>\n",
       "      <th>MUSIQUE</th>\n",
       "      <th>SCORE</th>\n",
       "    </tr>\n",
       "  </thead>\n",
       "  <tbody>\n",
       "    <tr>\n",
       "      <th>0</th>\n",
       "      <td>CLASSIQUE</td>\n",
       "      <td>26.74</td>\n",
       "    </tr>\n",
       "    <tr>\n",
       "      <th>1</th>\n",
       "      <td>CLASSIQUE</td>\n",
       "      <td>10.87</td>\n",
       "    </tr>\n",
       "    <tr>\n",
       "      <th>2</th>\n",
       "      <td>CLASSIQUE</td>\n",
       "      <td>26.51</td>\n",
       "    </tr>\n",
       "    <tr>\n",
       "      <th>3</th>\n",
       "      <td>CLASSIQUE</td>\n",
       "      <td>18.67</td>\n",
       "    </tr>\n",
       "    <tr>\n",
       "      <th>4</th>\n",
       "      <td>CLASSIQUE</td>\n",
       "      <td>15.03</td>\n",
       "    </tr>\n",
       "  </tbody>\n",
       "</table>\n",
       "</div>"
      ],
      "text/plain": [
       "     MUSIQUE  SCORE\n",
       "0  CLASSIQUE  26.74\n",
       "1  CLASSIQUE  10.87\n",
       "2  CLASSIQUE  26.51\n",
       "3  CLASSIQUE  18.67\n",
       "4  CLASSIQUE  15.03"
      ]
     },
     "execution_count": 105,
     "metadata": {},
     "output_type": "execute_result"
    }
   ],
   "source": [
    "data = pd.read_csv(get_dataset_dir(\"score-14.csv\"), sep=\";\")\n",
    "\n",
    "print(data.info())\n",
    "\n",
    "data.head()"
   ]
  },
  {
   "cell_type": "code",
   "execution_count": 106,
   "metadata": {},
   "outputs": [
    {
     "data": {
      "text/html": [
       "<div>\n",
       "<style scoped>\n",
       "    .dataframe tbody tr th:only-of-type {\n",
       "        vertical-align: middle;\n",
       "    }\n",
       "\n",
       "    .dataframe tbody tr th {\n",
       "        vertical-align: top;\n",
       "    }\n",
       "\n",
       "    .dataframe thead th {\n",
       "        text-align: right;\n",
       "    }\n",
       "</style>\n",
       "<table border=\"1\" class=\"dataframe\">\n",
       "  <thead>\n",
       "    <tr style=\"text-align: right;\">\n",
       "      <th>MUSIQUE</th>\n",
       "      <th>CLASSIQUE</th>\n",
       "      <th>COUNTRY</th>\n",
       "      <th>JAZZ</th>\n",
       "      <th>POPULAIRE</th>\n",
       "      <th>RELAXANTE</th>\n",
       "    </tr>\n",
       "  </thead>\n",
       "  <tbody>\n",
       "    <tr>\n",
       "      <th>0</th>\n",
       "      <td>26.74</td>\n",
       "      <td>23.39</td>\n",
       "      <td>7.94</td>\n",
       "      <td>19.64</td>\n",
       "      <td>29.72</td>\n",
       "    </tr>\n",
       "    <tr>\n",
       "      <th>1</th>\n",
       "      <td>10.87</td>\n",
       "      <td>15.41</td>\n",
       "      <td>7.28</td>\n",
       "      <td>16.52</td>\n",
       "      <td>23.59</td>\n",
       "    </tr>\n",
       "    <tr>\n",
       "      <th>2</th>\n",
       "      <td>26.51</td>\n",
       "      <td>11.00</td>\n",
       "      <td>12.48</td>\n",
       "      <td>17.10</td>\n",
       "      <td>31.09</td>\n",
       "    </tr>\n",
       "    <tr>\n",
       "      <th>3</th>\n",
       "      <td>18.67</td>\n",
       "      <td>3.72</td>\n",
       "      <td>9.64</td>\n",
       "      <td>18.11</td>\n",
       "      <td>22.14</td>\n",
       "    </tr>\n",
       "    <tr>\n",
       "      <th>4</th>\n",
       "      <td>15.03</td>\n",
       "      <td>7.96</td>\n",
       "      <td>9.31</td>\n",
       "      <td>29.20</td>\n",
       "      <td>24.36</td>\n",
       "    </tr>\n",
       "    <tr>\n",
       "      <th>5</th>\n",
       "      <td>20.38</td>\n",
       "      <td>20.04</td>\n",
       "      <td>12.46</td>\n",
       "      <td>17.39</td>\n",
       "      <td>36.37</td>\n",
       "    </tr>\n",
       "    <tr>\n",
       "      <th>6</th>\n",
       "      <td>20.43</td>\n",
       "      <td>11.81</td>\n",
       "      <td>8.93</td>\n",
       "      <td>10.12</td>\n",
       "      <td>22.88</td>\n",
       "    </tr>\n",
       "    <tr>\n",
       "      <th>7</th>\n",
       "      <td>5.63</td>\n",
       "      <td>10.05</td>\n",
       "      <td>5.21</td>\n",
       "      <td>27.40</td>\n",
       "      <td>17.72</td>\n",
       "    </tr>\n",
       "    <tr>\n",
       "      <th>8</th>\n",
       "      <td>5.37</td>\n",
       "      <td>7.41</td>\n",
       "      <td>14.27</td>\n",
       "      <td>15.87</td>\n",
       "      <td>10.98</td>\n",
       "    </tr>\n",
       "    <tr>\n",
       "      <th>9</th>\n",
       "      <td>2.87</td>\n",
       "      <td>9.33</td>\n",
       "      <td>8.90</td>\n",
       "      <td>13.23</td>\n",
       "      <td>6.03</td>\n",
       "    </tr>\n",
       "    <tr>\n",
       "      <th>10</th>\n",
       "      <td>3.05</td>\n",
       "      <td>7.13</td>\n",
       "      <td>5.31</td>\n",
       "      <td>4.75</td>\n",
       "      <td>5.10</td>\n",
       "    </tr>\n",
       "    <tr>\n",
       "      <th>11</th>\n",
       "      <td>8.26</td>\n",
       "      <td>4.90</td>\n",
       "      <td>13.59</td>\n",
       "      <td>3.67</td>\n",
       "      <td>13.99</td>\n",
       "    </tr>\n",
       "    <tr>\n",
       "      <th>12</th>\n",
       "      <td>10.92</td>\n",
       "      <td>8.71</td>\n",
       "      <td>6.23</td>\n",
       "      <td>5.41</td>\n",
       "      <td>8.07</td>\n",
       "    </tr>\n",
       "    <tr>\n",
       "      <th>13</th>\n",
       "      <td>10.08</td>\n",
       "      <td>4.29</td>\n",
       "      <td>7.74</td>\n",
       "      <td>11.85</td>\n",
       "      <td>13.22</td>\n",
       "    </tr>\n",
       "  </tbody>\n",
       "</table>\n",
       "</div>"
      ],
      "text/plain": [
       "MUSIQUE  CLASSIQUE  COUNTRY   JAZZ  POPULAIRE  RELAXANTE\n",
       "0            26.74    23.39   7.94      19.64      29.72\n",
       "1            10.87    15.41   7.28      16.52      23.59\n",
       "2            26.51    11.00  12.48      17.10      31.09\n",
       "3            18.67     3.72   9.64      18.11      22.14\n",
       "4            15.03     7.96   9.31      29.20      24.36\n",
       "5            20.38    20.04  12.46      17.39      36.37\n",
       "6            20.43    11.81   8.93      10.12      22.88\n",
       "7             5.63    10.05   5.21      27.40      17.72\n",
       "8             5.37     7.41  14.27      15.87      10.98\n",
       "9             2.87     9.33   8.90      13.23       6.03\n",
       "10            3.05     7.13   5.31       4.75       5.10\n",
       "11            8.26     4.90  13.59       3.67      13.99\n",
       "12           10.92     8.71   6.23       5.41       8.07\n",
       "13           10.08     4.29   7.74      11.85      13.22"
      ]
     },
     "execution_count": 106,
     "metadata": {},
     "output_type": "execute_result"
    }
   ],
   "source": [
    "# transpose dataframe\n",
    "df = data.groupby('MUSIQUE').apply(lambda x: x['SCORE'].tolist()).to_frame()\n",
    "\n",
    "new_df = df.T\n",
    "\n",
    "exploded_df = new_df.apply(pd.Series).explode(list(new_df.columns)).reset_index(drop=True)\n",
    "\n",
    "exploded_df = exploded_df.apply(lambda x: [float(i) for i in x])\n",
    "\n",
    "exploded_df\n"
   ]
  },
  {
   "cell_type": "code",
   "execution_count": 107,
   "metadata": {},
   "outputs": [
    {
     "name": "stdout",
     "output_type": "stream",
     "text": [
      "<class 'pandas.core.frame.DataFrame'>\n",
      "RangeIndex: 14 entries, 0 to 13\n",
      "Data columns (total 5 columns):\n",
      " #   Column     Non-Null Count  Dtype  \n",
      "---  ------     --------------  -----  \n",
      " 0   CLASSIQUE  14 non-null     float64\n",
      " 1   COUNTRY    14 non-null     float64\n",
      " 2   JAZZ       14 non-null     float64\n",
      " 3   POPULAIRE  14 non-null     float64\n",
      " 4   RELAXANTE  14 non-null     float64\n",
      "dtypes: float64(5)\n",
      "memory usage: 688.0 bytes\n"
     ]
    }
   ],
   "source": [
    "exploded_df.info()"
   ]
  },
  {
   "cell_type": "code",
   "execution_count": 108,
   "metadata": {},
   "outputs": [
    {
     "name": "stdout",
     "output_type": "stream",
     "text": [
      "ShapiroResult(statistic=0.9220395684242249, pvalue=0.23523768782615662)\n",
      "pvalue is showing valid study : True.\n",
      "ShapiroResult(statistic=0.890737771987915, pvalue=0.08283612132072449)\n",
      "pvalue is showing valid study : True.\n",
      "ShapiroResult(statistic=0.9326695799827576, pvalue=0.33246690034866333)\n",
      "pvalue is showing valid study : True.\n",
      "ShapiroResult(statistic=0.9456349611282349, pvalue=0.49520450830459595)\n",
      "pvalue is showing valid study : True.\n",
      "ShapiroResult(statistic=0.9581481218338013, pvalue=0.6925058364868164)\n",
      "pvalue is showing valid study : True.\n",
      "LeveneResult(statistic=3.877447569755122, pvalue=0.006927798459531864)\n",
      "pvalue is showing valid study : False.\n"
     ]
    }
   ],
   "source": [
    "gs = [exploded_df[col] for col in exploded_df.columns]\n",
    "for x in gs:\n",
    "    test_conclude(stats.shapiro(x), reverse=True)\n",
    "\n",
    "test_conclude(stats.levene(*gs), reverse=True)"
   ]
  },
  {
   "cell_type": "code",
   "execution_count": 114,
   "metadata": {},
   "outputs": [
    {
     "name": "stdout",
     "output_type": "stream",
     "text": [
      "KruskalResult(statistic=10.983845932739285, pvalue=0.026746164938058637)\n",
      "pvalue is showing valid study : True.\n"
     ]
    }
   ],
   "source": [
    "test_conclude(stats.kruskal(*gs))"
   ]
  },
  {
   "cell_type": "code",
   "execution_count": 115,
   "metadata": {},
   "outputs": [
    {
     "name": "stdout",
     "output_type": "stream",
     "text": [
      "Tukey's HSD Pairwise Group Comparisons (95.0% Confidence Interval)\n",
      "Comparison  Statistic  p-value  Lower CI  Upper CI\n",
      " (0 - 1)      2.833     0.839    -4.860    10.526\n",
      " (0 - 2)      3.966     0.600    -3.727    11.659\n",
      " (0 - 3)     -1.818     0.964    -9.511     5.875\n",
      " (0 - 4)     -5.746     0.234   -13.440     1.947\n",
      " (1 - 0)     -2.833     0.839   -10.526     4.860\n",
      " (1 - 2)      1.133     0.994    -6.560     8.826\n",
      " (1 - 3)     -4.651     0.443   -12.344     3.042\n",
      " (1 - 4)     -8.579     0.021   -16.272    -0.886\n",
      " (2 - 0)     -3.966     0.600   -11.659     3.727\n",
      " (2 - 1)     -1.133     0.994    -8.826     6.560\n",
      " (2 - 3)     -5.784     0.229   -13.477     1.910\n",
      " (2 - 4)     -9.712     0.006   -17.405    -2.019\n",
      " (3 - 0)      1.818     0.964    -5.875     9.511\n",
      " (3 - 1)      4.651     0.443    -3.042    12.344\n",
      " (3 - 2)      5.784     0.229    -1.910    13.477\n",
      " (3 - 4)     -3.929     0.609   -11.622     3.765\n",
      " (4 - 0)      5.746     0.234    -1.947    13.440\n",
      " (4 - 1)      8.579     0.021     0.886    16.272\n",
      " (4 - 2)      9.712     0.006     2.019    17.405\n",
      " (4 - 3)      3.929     0.609    -3.765    11.622\n",
      "\n"
     ]
    }
   ],
   "source": [
    "# KruskalResult is significant so we do a post hoc test\n",
    "result = stats.tukey_hsd(*gs)\n",
    "\n",
    "print(result)"
   ]
  },
  {
   "cell_type": "code",
   "execution_count": 116,
   "metadata": {},
   "outputs": [
    {
     "data": {
      "text/plain": [
       "<Axes: xlabel='MUSIQUE', ylabel='MUSIQUE'>"
      ]
     },
     "execution_count": 116,
     "metadata": {},
     "output_type": "execute_result"
    },
    {
     "data": {
      "image/png": "[encoded data removed]",
      "text/plain": [
       "<Figure size 640x480 with 2 Axes>"
      ]
     },
     "metadata": {},
     "output_type": "display_data"
    }
   ],
   "source": [
    "\n",
    "labeled = pd.DataFrame(result.pvalue, columns=exploded_df.columns)\n",
    "\n",
    "labeled.index = exploded_df.columns\n",
    "\n",
    "sns.heatmap(labeled, annot=True)"
   ]
  },
  {
   "cell_type": "code",
   "execution_count": 117,
   "metadata": {},
   "outputs": [
    {
     "name": "stdout",
     "output_type": "stream",
     "text": [
      "    Multiple Comparison of Means - Tukey HSD, FWER=0.05    \n",
      "===========================================================\n",
      "  group1    group2  meandiff p-adj   lower    upper  reject\n",
      "-----------------------------------------------------------\n",
      "CLASSIQUE   COUNTRY  -2.8329 0.8391  -10.526  4.8603  False\n",
      "CLASSIQUE      JAZZ  -3.9657 0.6004 -11.6589  3.7275  False\n",
      "CLASSIQUE POPULAIRE   1.8179 0.9635  -5.8753   9.511  False\n",
      "CLASSIQUE RELAXANTE   5.7464 0.2344  -1.9468 13.4396  False\n",
      "  COUNTRY      JAZZ  -1.1329 0.9937   -8.826  6.5603  False\n",
      "  COUNTRY POPULAIRE   4.6507 0.4434  -3.0425 12.3439  False\n",
      "  COUNTRY RELAXANTE   8.5793 0.0213   0.8861 16.2725   True\n",
      "     JAZZ POPULAIRE   5.7836 0.2286  -1.9096 13.4768  False\n",
      "     JAZZ RELAXANTE   9.7121 0.0064    2.019 17.4053   True\n",
      "POPULAIRE RELAXANTE   3.9286 0.6091  -3.7646 11.6218  False\n",
      "-----------------------------------------------------------\n"
     ]
    },
    {
     "data": {
      "text/html": [
       "<table class=\"simpletable\">\n",
       "<caption>Multiple Comparison of Means - Tukey HSD, FWER=0.05</caption>\n",
       "<tr>\n",
       "   <th>group1</th>    <th>group2</th>   <th>meandiff</th>  <th>p-adj</th>   <th>lower</th>   <th>upper</th>  <th>reject</th>\n",
       "</tr>\n",
       "<tr>\n",
       "  <td>CLASSIQUE</td>  <td>COUNTRY</td>   <td>-2.8329</td> <td>0.8391</td>  <td>-10.526</td> <td>4.8603</td>   <td>False</td>\n",
       "</tr>\n",
       "<tr>\n",
       "  <td>CLASSIQUE</td>   <td>JAZZ</td>     <td>-3.9657</td> <td>0.6004</td> <td>-11.6589</td> <td>3.7275</td>   <td>False</td>\n",
       "</tr>\n",
       "<tr>\n",
       "  <td>CLASSIQUE</td> <td>POPULAIRE</td>  <td>1.8179</td>  <td>0.9635</td>  <td>-5.8753</td>  <td>9.511</td>   <td>False</td>\n",
       "</tr>\n",
       "<tr>\n",
       "  <td>CLASSIQUE</td> <td>RELAXANTE</td>  <td>5.7464</td>  <td>0.2344</td>  <td>-1.9468</td> <td>13.4396</td>  <td>False</td>\n",
       "</tr>\n",
       "<tr>\n",
       "   <td>COUNTRY</td>    <td>JAZZ</td>     <td>-1.1329</td> <td>0.9937</td>  <td>-8.826</td>  <td>6.5603</td>   <td>False</td>\n",
       "</tr>\n",
       "<tr>\n",
       "   <td>COUNTRY</td>  <td>POPULAIRE</td>  <td>4.6507</td>  <td>0.4434</td>  <td>-3.0425</td> <td>12.3439</td>  <td>False</td>\n",
       "</tr>\n",
       "<tr>\n",
       "   <td>COUNTRY</td>  <td>RELAXANTE</td>  <td>8.5793</td>  <td>0.0213</td>  <td>0.8861</td>  <td>16.2725</td>  <td>True</td> \n",
       "</tr>\n",
       "<tr>\n",
       "    <td>JAZZ</td>    <td>POPULAIRE</td>  <td>5.7836</td>  <td>0.2286</td>  <td>-1.9096</td> <td>13.4768</td>  <td>False</td>\n",
       "</tr>\n",
       "<tr>\n",
       "    <td>JAZZ</td>    <td>RELAXANTE</td>  <td>9.7121</td>  <td>0.0064</td>   <td>2.019</td>  <td>17.4053</td>  <td>True</td> \n",
       "</tr>\n",
       "<tr>\n",
       "  <td>POPULAIRE</td> <td>RELAXANTE</td>  <td>3.9286</td>  <td>0.6091</td>  <td>-3.7646</td> <td>11.6218</td>  <td>False</td>\n",
       "</tr>\n",
       "</table>"
      ],
      "text/latex": [
       "\\begin{center}\n",
       "\\begin{tabular}{ccccccc}\n",
       "\\toprule\n",
       "\\textbf{group1} & \\textbf{group2} & \\textbf{meandiff} & \\textbf{p-adj} & \\textbf{lower} & \\textbf{upper} & \\textbf{reject}  \\\\\n",
       "\\midrule\n",
       "   CLASSIQUE    &     COUNTRY     &      -2.8329      &     0.8391     &    -10.526     &     4.8603     &      False       \\\\\n",
       "   CLASSIQUE    &       JAZZ      &      -3.9657      &     0.6004     &    -11.6589    &     3.7275     &      False       \\\\\n",
       "   CLASSIQUE    &    POPULAIRE    &       1.8179      &     0.9635     &    -5.8753     &     9.511      &      False       \\\\\n",
       "   CLASSIQUE    &    RELAXANTE    &       5.7464      &     0.2344     &    -1.9468     &    13.4396     &      False       \\\\\n",
       "    COUNTRY     &       JAZZ      &      -1.1329      &     0.9937     &     -8.826     &     6.5603     &      False       \\\\\n",
       "    COUNTRY     &    POPULAIRE    &       4.6507      &     0.4434     &    -3.0425     &    12.3439     &      False       \\\\\n",
       "    COUNTRY     &    RELAXANTE    &       8.5793      &     0.0213     &     0.8861     &    16.2725     &       True       \\\\\n",
       "      JAZZ      &    POPULAIRE    &       5.7836      &     0.2286     &    -1.9096     &    13.4768     &      False       \\\\\n",
       "      JAZZ      &    RELAXANTE    &       9.7121      &     0.0064     &     2.019      &    17.4053     &       True       \\\\\n",
       "   POPULAIRE    &    RELAXANTE    &       3.9286      &     0.6091     &    -3.7646     &    11.6218     &      False       \\\\\n",
       "\\bottomrule\n",
       "\\end{tabular}\n",
       "%\\caption{Multiple Comparison of Means - Tukey HSD, FWER=0.05}\n",
       "\\end{center}"
      ],
      "text/plain": [
       "<class 'statsmodels.iolib.table.SimpleTable'>"
      ]
     },
     "execution_count": 117,
     "metadata": {},
     "output_type": "execute_result"
    },
    {
     "data": {
      "image/png": "[encoded data removed]",
      "text/plain": [
       "<Figure size 1000x600 with 1 Axes>"
      ]
     },
     "metadata": {},
     "output_type": "display_data"
    }
   ],
   "source": [
    "from statsmodels.stats.multicomp import MultiComparison, pairwise_tukeyhsd\n",
    "\n",
    "mc = MultiComparison(data[\"SCORE\"], data[\"MUSIQUE\"])\n",
    "resultat = mc.tukeyhsd()\n",
    "\n",
    "print(resultat)\n",
    "\n",
    "mc2 = pairwise_tukeyhsd(endog=data[\"SCORE\"], groups=data[\"MUSIQUE\"])\n",
    "mc2.plot_simultaneous()\n",
    "mc2.summary()"
   ]
  },
  {
   "cell_type": "markdown",
   "metadata": {},
   "source": [
    "## Data 2\n",
    "\n",
    "Test :\n",
    "\n",
    "- Variables : + de 2 groupes catégoriels nominaux indépendants.\n",
    "- Données qualitative ordinale"
   ]
  },
  {
   "cell_type": "code",
   "execution_count": 118,
   "metadata": {},
   "outputs": [
    {
     "name": "stdout",
     "output_type": "stream",
     "text": [
      "<class 'pandas.core.frame.DataFrame'>\n",
      "RangeIndex: 100 entries, 0 to 99\n",
      "Data columns (total 5 columns):\n",
      " #   Column        Non-Null Count  Dtype\n",
      "---  ------        --------------  -----\n",
      " 0   Preference    100 non-null    int64\n",
      " 1   Sale          100 non-null    int64\n",
      " 2   Sucre         100 non-null    int64\n",
      " 3   Acidite       100 non-null    int64\n",
      " 4   Croustillant  100 non-null    int64\n",
      "dtypes: int64(5)\n",
      "memory usage: 4.0 KB\n",
      "None\n"
     ]
    },
    {
     "data": {
      "text/html": [
       "<div>\n",
       "<style scoped>\n",
       "    .dataframe tbody tr th:only-of-type {\n",
       "        vertical-align: middle;\n",
       "    }\n",
       "\n",
       "    .dataframe tbody tr th {\n",
       "        vertical-align: top;\n",
       "    }\n",
       "\n",
       "    .dataframe thead th {\n",
       "        text-align: right;\n",
       "    }\n",
       "</style>\n",
       "<table border=\"1\" class=\"dataframe\">\n",
       "  <thead>\n",
       "    <tr style=\"text-align: right;\">\n",
       "      <th></th>\n",
       "      <th>Preference</th>\n",
       "      <th>Sale</th>\n",
       "      <th>Sucre</th>\n",
       "      <th>Acidite</th>\n",
       "      <th>Croustillant</th>\n",
       "    </tr>\n",
       "  </thead>\n",
       "  <tbody>\n",
       "    <tr>\n",
       "      <th>0</th>\n",
       "      <td>1</td>\n",
       "      <td>3</td>\n",
       "      <td>3</td>\n",
       "      <td>3</td>\n",
       "      <td>3</td>\n",
       "    </tr>\n",
       "    <tr>\n",
       "      <th>1</th>\n",
       "      <td>1</td>\n",
       "      <td>1</td>\n",
       "      <td>2</td>\n",
       "      <td>3</td>\n",
       "      <td>1</td>\n",
       "    </tr>\n",
       "    <tr>\n",
       "      <th>2</th>\n",
       "      <td>1</td>\n",
       "      <td>2</td>\n",
       "      <td>2</td>\n",
       "      <td>5</td>\n",
       "      <td>1</td>\n",
       "    </tr>\n",
       "    <tr>\n",
       "      <th>3</th>\n",
       "      <td>1</td>\n",
       "      <td>1</td>\n",
       "      <td>4</td>\n",
       "      <td>3</td>\n",
       "      <td>1</td>\n",
       "    </tr>\n",
       "    <tr>\n",
       "      <th>4</th>\n",
       "      <td>2</td>\n",
       "      <td>3</td>\n",
       "      <td>3</td>\n",
       "      <td>2</td>\n",
       "      <td>2</td>\n",
       "    </tr>\n",
       "  </tbody>\n",
       "</table>\n",
       "</div>"
      ],
      "text/plain": [
       "   Preference  Sale  Sucre  Acidite  Croustillant\n",
       "0           1     3      3        3             3\n",
       "1           1     1      2        3             1\n",
       "2           1     2      2        5             1\n",
       "3           1     1      4        3             1\n",
       "4           2     3      3        2             2"
      ]
     },
     "execution_count": 118,
     "metadata": {},
     "output_type": "execute_result"
    }
   ],
   "source": [
    "chips = pd.read_csv(get_dataset_dir(\"data2.csv\"), sep=\";\")\n",
    "\n",
    "print(chips.info())\n",
    "chips.head()"
   ]
  },
  {
   "cell_type": "code",
   "execution_count": 119,
   "metadata": {},
   "outputs": [
    {
     "data": {
      "text/html": [
       "<div>\n",
       "<style scoped>\n",
       "    .dataframe tbody tr th:only-of-type {\n",
       "        vertical-align: middle;\n",
       "    }\n",
       "\n",
       "    .dataframe tbody tr th {\n",
       "        vertical-align: top;\n",
       "    }\n",
       "\n",
       "    .dataframe thead th {\n",
       "        text-align: right;\n",
       "    }\n",
       "</style>\n",
       "<table border=\"1\" class=\"dataframe\">\n",
       "  <thead>\n",
       "    <tr style=\"text-align: right;\">\n",
       "      <th></th>\n",
       "      <th>Preference</th>\n",
       "      <th>Sale</th>\n",
       "      <th>Sucre</th>\n",
       "      <th>Acidite</th>\n",
       "      <th>Croustillant</th>\n",
       "    </tr>\n",
       "  </thead>\n",
       "  <tbody>\n",
       "    <tr>\n",
       "      <th>Preference</th>\n",
       "      <td>1.000000</td>\n",
       "      <td>0.280465</td>\n",
       "      <td>0.031249</td>\n",
       "      <td>-0.063211</td>\n",
       "      <td>0.438298</td>\n",
       "    </tr>\n",
       "    <tr>\n",
       "      <th>Sale</th>\n",
       "      <td>0.280465</td>\n",
       "      <td>1.000000</td>\n",
       "      <td>-0.124927</td>\n",
       "      <td>-0.100368</td>\n",
       "      <td>0.065241</td>\n",
       "    </tr>\n",
       "    <tr>\n",
       "      <th>Sucre</th>\n",
       "      <td>0.031249</td>\n",
       "      <td>-0.124927</td>\n",
       "      <td>1.000000</td>\n",
       "      <td>-0.237212</td>\n",
       "      <td>-0.068730</td>\n",
       "    </tr>\n",
       "    <tr>\n",
       "      <th>Acidite</th>\n",
       "      <td>-0.063211</td>\n",
       "      <td>-0.100368</td>\n",
       "      <td>-0.237212</td>\n",
       "      <td>1.000000</td>\n",
       "      <td>0.132331</td>\n",
       "    </tr>\n",
       "    <tr>\n",
       "      <th>Croustillant</th>\n",
       "      <td>0.438298</td>\n",
       "      <td>0.065241</td>\n",
       "      <td>-0.068730</td>\n",
       "      <td>0.132331</td>\n",
       "      <td>1.000000</td>\n",
       "    </tr>\n",
       "  </tbody>\n",
       "</table>\n",
       "</div>"
      ],
      "text/plain": [
       "              Preference      Sale     Sucre   Acidite  Croustillant\n",
       "Preference      1.000000  0.280465  0.031249 -0.063211      0.438298\n",
       "Sale            0.280465  1.000000 -0.124927 -0.100368      0.065241\n",
       "Sucre           0.031249 -0.124927  1.000000 -0.237212     -0.068730\n",
       "Acidite        -0.063211 -0.100368 -0.237212  1.000000      0.132331\n",
       "Croustillant    0.438298  0.065241 -0.068730  0.132331      1.000000"
      ]
     },
     "execution_count": 119,
     "metadata": {},
     "output_type": "execute_result"
    }
   ],
   "source": [
    "chips.corr()"
   ]
  },
  {
   "cell_type": "code",
   "execution_count": null,
   "metadata": {},
   "outputs": [],
   "source": []
  }
 ],
 "metadata": {
  "kernelspec": {
   "display_name": "ml",
   "language": "python",
   "name": "python3"
  },
  "language_info": {
   "codemirror_mode": {
    "name": "ipython",
    "version": 3
   },
   "file_extension": ".py",
   "mimetype": "text/x-python",
   "name": "python",
   "nbconvert_exporter": "python",
   "pygments_lexer": "ipython3",
   "version": "3.10.0"
  },
  "orig_nbformat": 4
 },
 "nbformat": 4,
 "nbformat_minor": 2
}
