{
 "cells": [
  {
   "cell_type": "code",
   "execution_count": 2,
   "metadata": {},
   "outputs": [
    {
     "name": "stdout",
     "output_type": "stream",
     "text": [
      "Please input your age...20\n",
      "You are eligible to purchase carte advantage Jeune\n"
     ]
    }
   ],
   "source": [
    "# Example -- Qui SNCF discount card: \n",
    "age = input('Please input your age...')\n",
    "age = int(age)\n",
    "\n",
    "if age >= 12 and age <27 :\n",
    "    print('You are eligible to purchase carte advantage Jeune')\n",
    "elif age >=27 and age < 60:\n",
    "    print('You are eligible to purchase carte advantage Adult')\n",
    "elif age >= 60:\n",
    "    print('You are eligible to purchase carte advantage Senior')\n",
    "else:\n",
    "    print('Sorry, SNCF do not provide any discount card for you.')"
   ]
  },
  {
   "cell_type": "code",
   "execution_count": 4,
   "metadata": {},
   "outputs": [
    {
     "name": "stdout",
     "output_type": "stream",
     "text": [
      "Please input your age...10\n",
      "Do you have any cardiology disease (Y/ N)?y\n",
      "Sorry, you can not allowed to take the roller caster.\n"
     ]
    }
   ],
   "source": [
    "# Exercise -- amusement park\n",
    "age = input('Please input your age...')\n",
    "age = int(age)\n",
    "disease = input('Do you have any cardiology disease (Y/ N)?')\n",
    "\n",
    "if disease =='Y' or disease =='y' or age <5 or age >=65:\n",
    "    print('Sorry, you can not allowed to take the roller caster.')\n",
    "elif age >=5 and age <=12:\n",
    "    print('Please take the roller caster with at least one of your parents')\n",
    "else:\n",
    "    print('Bienvenu!')\n",
    "    "
   ]
  },
  {
   "cell_type": "code",
   "execution_count": 3,
   "metadata": {},
   "outputs": [
    {
     "name": "stdout",
     "output_type": "stream",
     "text": [
      "Please input a number between 1 and 15...4\n",
      "4! = 24\n"
     ]
    }
   ],
   "source": [
    "# Exercise – Factorial number\n",
    "number = int(input('Please input a number between 1 and 15...'))\n",
    "if number >=1 and number <=15:\n",
    "    result = 1\n",
    "    for n in range(1, number+1):\n",
    "        result = result*n\n",
    "    print('{}! = {}'.format(number, result))\n",
    "else: \n",
    "    print('Please input a number between 1 and 15.')\n"
   ]
  },
  {
   "cell_type": "code",
   "execution_count": null,
   "metadata": {},
   "outputs": [],
   "source": [
    "# convert the flowchart into python\n",
    "drinkornot =input('Bonjour, would you like something to drink?')\n",
    "\n",
    "if drinkornot =='yes' or drinkornot =='y' or drinkornot =='Y':\n",
    "    typeofdrink = input('What do you want to drink? red wine(r), coke(c) or juice(j)?')\n",
    "    print(typeofdrink)\n",
    "    if typeofdrink = 'r' or typeofdrink = 'R':\n",
    "        print('I will bring some wine for you.')\n",
    "    elif typeofdrink = 'c' or typeofdrink = 'C':\n",
    "        print('I will bring some coke for you.')\n",
    "    elif typeofdrink = 'j' or typeofdrink = 'J':\n",
    "        print('I will bring some juice for you.')\n",
    "    else: \n",
    "        print('Sorry, we do not have the drink you want.')\n",
    "else:\n",
    "    print(\"If you need something to drink, don't hesitate to let me know.\")"
   ]
  },
  {
   "cell_type": "code",
   "execution_count": 10,
   "metadata": {},
   "outputs": [
    {
     "name": "stdout",
     "output_type": "stream",
     "text": [
      "Please input a string as your password. The string shall satisify requirements of length and uppercase.abc1\n",
      "The length of string shall be at least 6.\n",
      "The string shall contain at least one uppercase letter.\n"
     ]
    }
   ],
   "source": [
    "# Example of password checker:\n",
    "def check_upper(string):\n",
    "    status = False\n",
    "    for s in string:\n",
    "        if s.isupper():\n",
    "            status = True\n",
    "            \n",
    "    return status\n",
    "\n",
    "\n",
    "string = input('Please input a string as your password. The string shall satisify requirements of length and uppercase.')\n",
    "upper_status = check_upper(string)\n",
    "\n",
    "# requirements and warning messages:\n",
    "if len(string)<6 and upper_status == True:\n",
    "    print(\"The length of string shall be at least 6.\")\n",
    "elif len(string)>=6 and upper_status == False:\n",
    "    print(\"The string shall contain at least one uppercase letter.\")\n",
    "elif len(string)<6 and upper_status == False:\n",
    "    print(\"The length of string shall be at least 6.\")\n",
    "    print(\"The string shall contain at least one uppercase letter.\")\n",
    "else:\n",
    "    print('The string satisify all the requirements for a password. ')"
   ]
  },
  {
   "cell_type": "code",
   "execution_count": null,
   "metadata": {},
   "outputs": [],
   "source": [
    "# Basic File IO operations:\n",
    "def calc_mean(seq):\n",
    "    summation = 0\n",
    "    for n in range(len(seq)):\n",
    "        summation = summation + seq[n]\n",
    "    avg = summation/len(seq)\n",
    "    return avg\n",
    "\n",
    "def calc_var(seq):\n",
    "    avg = calc_mean(seq)\n",
    "    summation = 0\n",
    "    for n in range(len(seq)):\n",
    "        summation = summation + (seq[n]-avg)**2\n",
    "    var = summation/len(seq)\n",
    "    return var\n",
    "    \n",
    "try: \n",
    "    \n",
    "    file = open('AAPL.csv', 'r')\n",
    "    file_result = open('result_AAPL.txt', 'w')\n",
    "    L = file.readlines()\n",
    "    file.close()\n",
    "\n",
    "    opening_list = []\n",
    "    closing_list = []\n",
    "    for l in L:\n",
    "        opening_list.append(float(l.strip().split(',')[1])\n",
    "        closing_list.append(float(l.strip().split(',')[2])\n",
    "    avg_open = calc_mean(opening_list)\n",
    "    avg_close = calc_mean(closing_list)\n",
    "    std_open = calc_var(opening_list)\n",
    "    std_close = calc_var(closing_list)\n",
    "    file_result.write('The mean of opening prices is {}'.format(avg_open))\n",
    "    file_result.write('The mean of closing prices is {}'.format(avg_close))\n",
    "    file_result.write('The std of opening prices is {}'.format(std_open))\n",
    "    file_result.write('The std of closing prices is {}'.format(std_close))\n",
    "    file_result.close()\n",
    "except  IOError:\n",
    "    print('The file does not exist.')\n",
    "    \n",
    "except:\n",
    "    print('Unknown error occurs.')"
   ]
  }
 ],
 "metadata": {
  "kernelspec": {
   "display_name": "Python 3",
   "language": "python",
   "name": "python3"
  },
  "language_info": {
   "codemirror_mode": {
    "name": "ipython",
    "version": 3
   },
   "file_extension": ".py",
   "mimetype": "text/x-python",
   "name": "python",
   "nbconvert_exporter": "python",
   "pygments_lexer": "ipython3",
   "version": "3.5.4rc1"
  }
 },
 "nbformat": 4,
 "nbformat_minor": 4
}
