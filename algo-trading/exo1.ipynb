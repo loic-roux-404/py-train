{
 "cells": [
  {
   "cell_type": "code",
   "execution_count": 1,
   "metadata": {},
   "outputs": [
    {
     "name": "stdout",
     "output_type": "stream",
     "text": [
      "Invalid account length, expected 6\n"
     ]
    }
   ],
   "source": [
    "import re\n",
    "from utils import read_file, write_to_file\n",
    "\n",
    "def validate_email(email: str):\n",
    "    return re.search(\n",
    "        '^[a-z0-9]+[\\._]?[a-z0-9]+[@]\\w+[.]\\w{2,3}$',\n",
    "        email\n",
    "    )\n",
    "\n",
    "for email in read_file(\"email.txt\"):\n",
    "    if validate_email(email):\n",
    "        continue\n",
    "    write_to_file(\"invalid.txt\", email + \"\\n\")\n",
    "\n",
    "def refined_validate_email(email: str):\n",
    "    return re.search(\n",
    "        '^((\\w|\\d){6,})+[@]\\w+[.]\\w{2,3}$',\n",
    "        email\n",
    "    )\n",
    "\n",
    "def register_account() -> tuple:\n",
    "    return input(\"Write Account name\"), input(\"Write Your email\")\n",
    "\n",
    "def main():\n",
    "    acc, email = register_account()\n",
    "    acc_expected_lght = 6\n",
    "\n",
    "    if len(acc) < acc_expected_lght:\n",
    "        print('Invalid account length, expected %s' % acc_expected_lght)\n",
    "        exit(1)\n",
    "\n",
    "    if not refined_validate_email(email):\n",
    "        print('invalid email', email)\n",
    "        write_to_file(\"refined.txt\", email + \"\\n\")\n",
    "\n",
    "main()\n"
   ]
  }
 ],
 "metadata": {
  "interpreter": {
   "hash": "e7cb1b9ae4d417fedf7f40a8eec98f7cfbd359e096bd857395a915f4609834ce"
  },
  "kernelspec": {
   "display_name": "Python 3.8.11 64-bit ('base': conda)",
   "language": "python",
   "name": "python3"
  },
  "language_info": {
   "codemirror_mode": {
    "name": "ipython",
    "version": 3
   },
   "file_extension": ".py",
   "mimetype": "text/x-python",
   "name": "python",
   "nbconvert_exporter": "python",
   "pygments_lexer": "ipython3",
   "version": "3.8.11"
  },
  "orig_nbformat": 4
 },
 "nbformat": 4,
 "nbformat_minor": 2
}
